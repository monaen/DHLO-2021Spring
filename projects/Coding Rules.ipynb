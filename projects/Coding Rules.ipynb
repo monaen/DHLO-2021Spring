{
 "cells": [
  {
   "cell_type": "markdown",
   "metadata": {},
   "source": [
    "# Coding Rules"
   ]
  },
  {
   "cell_type": "markdown",
   "metadata": {},
   "source": [
    "In this script, we will introduce some rules when coding with Python.\n",
    "\n",
    "## Naming a variable\n",
    "\n",
    "1. Only use ordinary **letters**, **numbers** and **underscores** in your variable names. They can’t have spaces, and need to **start with a letter or underscore**."
   ]
  },
  {
   "cell_type": "code",
   "execution_count": 3,
   "metadata": {},
   "outputs": [],
   "source": [
    "# ----------------------------------------------------------------------#\n",
    "#        You can uncomment the following code to see the results        #\n",
    "# --------------------------------------------------------------------- #\n",
    "# jenny_age = 24  # right\n",
    "# jenny age = 24  # Syntax Error"
   ]
  },
  {
   "cell_type": "markdown",
   "metadata": {},
   "source": [
    "2. **You can’t use reserved words or built-in identifiers** that have important purposes in Python, which you’ll learn about throughout this course. Creating names that are descriptive of the values often will help you avoid using any of these words. A quick table of these words is also available below.\n",
    "\n",
    "     **Keywords** in Python programming language\n",
    "\n",
    "    |         |          |         |          |        |\n",
    "    | ------- | -------- | ------- | -------- | ------ |\n",
    "    | False   | class    | finally | is       | return |\n",
    "    | None    | continue | for     | lambda   | try    |\n",
    "    | True    | def      | from    | nonlocal | while  |\n",
    "    | and     | del      | global  | not      | with   |\n",
    "    | as      | elif     | if      | or       | and    |\n",
    "    | assert  | else     | import  | pass     |        |\n",
    "    | break   | execpt   | in      | raise    |        |"
   ]
  },
  {
   "cell_type": "markdown",
   "metadata": {},
   "source": [
    "3. The pythonic way to name variables is to use all lowercase letters and underscores to separate words. For examples,\n",
    "```python\n",
    ">>> my_height = 58\n",
    ">>> my_lat = 40\n",
    ">>> my_long = 105\n",
    "```"
   ]
  },
  {
   "cell_type": "markdown",
   "metadata": {},
   "source": [
    "## Whitespaces\n",
    "\n",
    "   One thing you might have noticed is that in a single line of Python, **whitespace** doesn't really affect how your code works. For example, the following two lines of code will give exactly the same output, however, that doesn't mean that these lines are equally good lines of code.\n",
    "\n",
    "**Good**\n",
    "```python\n",
    ">>> print(4 + 5)\n",
    "```\n",
    "\n",
    "**Bad**\n",
    "```python\n",
    ">>> print(                4 + 5)\n",
    "```"
   ]
  },
  {
   "cell_type": "markdown",
   "metadata": {},
   "source": [
    "### Examples"
   ]
  },
  {
   "cell_type": "markdown",
   "metadata": {},
   "source": [
    "* Example 1\n",
    "\n",
    "    **Good**\n",
    "    ```python\n",
    "    print(8)\n",
    "    ```\n",
    "\n",
    "    **Bad**\n",
    "    ```python\n",
    "    print (8)  # Do not add the whitespace(s) between the function\n",
    "               # name and brackets.\n",
    "    ```\n",
    "\n",
    "\n",
    "* Example 2\n",
    "\n",
    "    **Good**\n",
    "    ```python\n",
    "    print(3 * 7)\n",
    "    ```\n",
    "\n",
    "    **Bad**\n",
    "    ```python\n",
    "    print ( 3 * 7 )  # Do not put extra spaces immediately inside \n",
    "                     # the parentheses either.\n",
    "    ```\n",
    "\n",
    "\n",
    "* Example 3\n",
    "\n",
    "    **Good**\n",
    "    ```python\n",
    "    print(3*7 - 1)  # If you are mixing operators with different\n",
    "                    # priorities like multiplication and subtraction,\n",
    "                    # then you might like to add a space around the \n",
    "                    # lower priority, in this case subtraction,\n",
    "                    # to make the code easier to read.\n",
    "    ```\n",
    "\n",
    "    **Bad**\n",
    "    ```python\n",
    "    print (3 * 7 - 1)  \n",
    "    ```"
   ]
  },
  {
   "cell_type": "markdown",
   "metadata": {},
   "source": [
    "4. Don't write extremely long lines of code, since they're hard to understand. You should limit each line of code to **80** characters, though **99** is okay for certain use cases. You can thank IBM for [this ruling](https://softwareengineering.stackexchange.com/questions/148677/why-is-80-characters-the-standard-limit-for-code-width). These conventions come from the Python developers guide, which has a style guide called [PEP 8](https://www.python.org/dev/peps/pep-0008/).\n",
    "\n",
    "    Why are these conventions important? Although how you format the code doesn’t affect how it runs, following standard style guidelines makes code easier to read and consistent among different developers on a team."
   ]
  },
  {
   "cell_type": "markdown",
   "metadata": {},
   "source": [
    "* Coding Style:\n",
    "   * Python: [PEP 8 Python coding styleguide](https://www.python.org/dev/peps/pep-0008/)\n",
    "   * Docstring: [Googledoc docstring style sample](https://sphinxcontrib-napoleon.readthedocs.io/en/latest/example_google.html)"
   ]
  }
 ],
 "metadata": {
  "kernelspec": {
   "display_name": "Python 3",
   "language": "python",
   "name": "python3"
  },
  "language_info": {
   "codemirror_mode": {
    "name": "ipython",
    "version": 3
   },
   "file_extension": ".py",
   "mimetype": "text/x-python",
   "name": "python",
   "nbconvert_exporter": "python",
   "pygments_lexer": "ipython3",
   "version": "3.8.5"
  }
 },
 "nbformat": 4,
 "nbformat_minor": 5
}
