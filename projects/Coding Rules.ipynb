{
 "cells": [
  {
   "cell_type": "markdown",
   "id": "humanitarian-price",
   "metadata": {},
   "source": [
    "# Coding Rules"
   ]
  },
  {
   "cell_type": "markdown",
   "id": "moral-parent",
   "metadata": {},
   "source": [
    "In this script, we will introduce some rules when coding with Python.\n",
    "\n",
    "* Naming a variable\n",
    "\n",
    "  1. Only use ordinary letters, numbers and underscores in your variable names. They can’t have spaces, and need to start with a letter or underscore.\n",
    "\n",
    "  2. **You can’t use reserved words or built-in identifiers** that have important purposes in Python, which you’ll learn about throughout this course. Creating names that are descriptive of the values often will help you avoid using any of these words. A quick table of these words is also available below.\n",
    "\n",
    "     **Keywords** in Python programming language\n",
    "\n",
    "|         |          |         |          |        |\n",
    "| ------- | -------- | ------- | -------- | ------ |\n",
    "| False   | class    | finally | is       | return |\n",
    "| None    | continue | for     | lambda   | try    |\n",
    "| True    | def      | from    | nonlocal | while  |\n",
    "| and     | del      | global  | not      | with   |\n",
    "| as      | elif     | if      | or       | and    |\n",
    "| assert  | else     | import  | pass     |        |\n",
    "| break   | execpt   | in      | raise    |        |\n",
    "\n",
    "    3. The pythonic way to name variables is to use all lowercase letters and underscores to separate words. For examples,\n",
    "```python\n",
    "my_height = 58\n",
    "my_lat = 40\n",
    "my_long = 105\n",
    "```"
   ]
  },
  {
   "cell_type": "markdown",
   "id": "varying-gregory",
   "metadata": {},
   "source": [
    "* Coding Style:\n",
    "   * Python: [PEP 8 Python coding styleguide](https://www.python.org/dev/peps/pep-0008/)\n",
    "   * Docstring: [Googledoc docstring style sample](https://sphinxcontrib-napoleon.readthedocs.io/en/latest/example_google.html)"
   ]
  }
 ],
 "metadata": {
  "kernelspec": {
   "display_name": "Python 3",
   "language": "python",
   "name": "python3"
  },
  "language_info": {
   "codemirror_mode": {
    "name": "ipython",
    "version": 3
   },
   "file_extension": ".py",
   "mimetype": "text/x-python",
   "name": "python",
   "nbconvert_exporter": "python",
   "pygments_lexer": "ipython3",
   "version": "3.8.8"
  }
 },
 "nbformat": 4,
 "nbformat_minor": 5
}
