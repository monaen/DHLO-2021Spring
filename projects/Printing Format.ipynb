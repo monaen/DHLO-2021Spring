{
 "cells": [
  {
   "cell_type": "markdown",
   "metadata": {},
   "source": [
    "# Printing Format"
   ]
  },
  {
   "cell_type": "markdown",
   "metadata": {},
   "source": [
    "So far, we have introduced the `format()` method of string. Image that, you are working on a program, and to figure out whether your program is working or not, you have to output something telling you that everything works well. There are several ways to present the output of a program; data can be printed in a human-readable form, or written to a file for future use. This script will discuss the output formats.\n",
    "\n",
    "More on string formatting: [https://docs.python.org/3/tutorial/inputoutput.html](https://docs.python.org/3/tutorial/inputoutput.html)"
   ]
  },
  {
   "cell_type": "markdown",
   "metadata": {},
   "source": [
    "## 1. Formatted String Literals\n",
    "\n",
    "* Place a <code style=\"color:#fff;background-color:#2f3d48;border-radius: 4px;border: 1px solid #737b83;padding: 2px 4px\">f</code> or <code style=\"color:#fff;background-color:#2f3d48;border-radius: 4px;border: 1px solid #737b83;padding: 2px 4px\">F</code> before the opening quotation mark or triple quotation mark.\n",
    "* Inside this string, write a Python expression between <code style=\"color:#fff;background-color:#2f3d48;border-radius: 4px;border: 1px solid #737b83;padding: 2px 4px\">{</code> and <code style=\"color:#fff;background-color:#2f3d48;border-radius: 4px;border: 1px solid #737b83;padding: 2px 4px\">}</code> characters that can refer to variables or literal values.\n",
    "\n",
    "More information: [https://docs.python.org/3/tutorial/inputoutput.html#tut-f-strings](https://docs.python.org/3/tutorial/inputoutput.html#tut-f-strings)"
   ]
  },
  {
   "cell_type": "code",
   "execution_count": 3,
   "metadata": {},
   "outputs": [
    {
     "name": "stdout",
     "output_type": "stream",
     "text": [
      "We would like to reserve a table for 8 at 7:00\n"
     ]
    }
   ],
   "source": [
    "Num_People = 4\n",
    "Time = \"7:00\"\n",
    "print(f\"We would like to reserve a table for {Num_People + Num_People} at {Time}\")"
   ]
  },
  {
   "cell_type": "markdown",
   "metadata": {},
   "source": [
    "## 2. str.format()\n",
    "\n",
    "* Enclose formatting directives with a pair of braces where variable will be substituted.\n",
    "* Provide variable value / expression with function <code style=\"color:#fff;background-color:#2f3d48;border-radius: 4px;border: 1px solid #737b83;padding: 2px 4px\">format</code>.\n",
    "\n",
    "More information: https://docs.python.org/3/library/stdtypes.html#str.format"
   ]
  },
  {
   "cell_type": "code",
   "execution_count": 9,
   "metadata": {},
   "outputs": [
    {
     "name": "stdout",
     "output_type": "stream",
     "text": [
      "3x2.3 = 130.435%\n"
     ]
    }
   ],
   "source": [
    "unitPrice = 2.3\n",
    "unit = 3\n",
    "print('{}x{} = {:2.3%}'.format(unit, unitPrice, unit/unitPrice))"
   ]
  },
  {
   "cell_type": "markdown",
   "metadata": {},
   "source": [
    "### 2.1 Format Syntax: Spacing\n",
    "\n",
    "Format: `{:[filling_char][>^<][width]}`\n",
    "\n",
    "| Example | Description |\n",
    "|---------|-------------|\n",
    "| `'{:<20}'.format('DHLO2021')` | Left aligned with 20 characters width |\n",
    "| `'{:>20}'.format('DHLO2021')` | Right aligned with 20 characters width |\n",
    "| `'{:^20}'.format('DHLO2021')` | Centered with 20 characters width |\n",
    "| `'{:*<20}'.format('DHLO2021')` | Left aligned with 20 characters width, fill space with '*' |\n",
    "| `'{:+>20}'.format('DHLO2021')` | Right aligned with 20 characters width, fill space with '+' |\n",
    "| `'{:-^20}'.format('DHLO2021')` | Centered with 20 characters width, fill space with '-' |"
   ]
  },
  {
   "cell_type": "code",
   "execution_count": 11,
   "metadata": {},
   "outputs": [
    {
     "name": "stdout",
     "output_type": "stream",
     "text": [
      "DHLO2021            \n",
      "            DHLO2021\n",
      "      DHLO2021      \n",
      "DHLO2021************\n",
      "++++++++++++DHLO2021\n",
      "------DHLO2021------\n"
     ]
    }
   ],
   "source": [
    "print('{:<20}'.format('DHLO2021'))\n",
    "print('{:>20}'.format('DHLO2021'))\n",
    "print('{:^20}'.format('DHLO2021'))\n",
    "print('{:*<20}'.format('DHLO2021'))\n",
    "print('{:+>20}'.format('DHLO2021'))\n",
    "print('{:-^20}'.format('DHLO2021'))"
   ]
  },
  {
   "cell_type": "markdown",
   "metadata": {},
   "source": [
    "### 2.2 Format Syntax: Decimal places\n",
    "\n",
    "Format: `{:[width].[decimal_places]f}`\n",
    "\n"
   ]
  },
  {
   "cell_type": "markdown",
   "metadata": {},
   "source": [
    "| Example | Description |\n",
    "|---------|-------------|\n",
    "|`'result={:0.2f}'.format(2.1)` | 2 decimal places, width=data width |\n",
    "|`'result={:6.2f}'.format(2.1)` | 2 decimal places, width=min. 5 characters |\n",
    "|`'result={:7.2f}'.format(2.1)` | 2 decimal places, width=min. 5 characters |\n",
    "|`'result={:7.3f}'.format(2.12345)` | Centered with 20 characters width |\n",
    "|`'result={:*>7.3f}'.format(3.14159)` | Left aligned with 20 characters width, fill space with '*' |"
   ]
  },
  {
   "cell_type": "code",
   "execution_count": 13,
   "metadata": {},
   "outputs": [
    {
     "name": "stdout",
     "output_type": "stream",
     "text": [
      "result=2.10\n",
      "result=  2.10\n",
      "result=   2.10\n",
      "result=  2.123\n",
      "result=**3.142\n"
     ]
    }
   ],
   "source": [
    "print('result={:0.2f}'.format(2.1))\n",
    "print('result={:6.2f}'.format(2.1))\n",
    "print('result={:7.2f}'.format(2.1))\n",
    "print('result={:7.3f}'.format(2.12345))\n",
    "print('result={:*>7.3f}'.format(3.14159))"
   ]
  },
  {
   "cell_type": "code",
   "execution_count": null,
   "metadata": {},
   "outputs": [],
   "source": []
  }
 ],
 "metadata": {
  "kernelspec": {
   "display_name": "Python 3",
   "language": "python",
   "name": "python3"
  },
  "language_info": {
   "codemirror_mode": {
    "name": "ipython",
    "version": 3
   },
   "file_extension": ".py",
   "mimetype": "text/x-python",
   "name": "python",
   "nbconvert_exporter": "python",
   "pygments_lexer": "ipython3",
   "version": "3.8.5"
  }
 },
 "nbformat": 4,
 "nbformat_minor": 5
}
