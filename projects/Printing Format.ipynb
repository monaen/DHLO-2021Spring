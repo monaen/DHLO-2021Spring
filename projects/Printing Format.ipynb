{
 "cells": [
  {
   "cell_type": "markdown",
   "id": "first-money",
   "metadata": {},
   "source": [
    "# Printing Format"
   ]
  },
  {
   "cell_type": "markdown",
   "id": "accessory-trauma",
   "metadata": {},
   "source": [
    "So far, we have introduced the `format()` method of string. Image that, you are working on a program, and to figure out whether your program is working or not, you have to output something telling you that everything works well. There are several ways to present the output of a program; data can be printed in a human-readable form, or written to a file for future use. In this script, we will discuss the how to control the output formats.\n",
    "\n",
    "More on string formatting: [https://docs.python.org/3/tutorial/inputoutput.html](https://docs.python.org/3/tutorial/inputoutput.html)"
   ]
  },
  {
   "cell_type": "markdown",
   "id": "exclusive-works",
   "metadata": {},
   "source": [
    "## 1. Formatted String Literals\n",
    "\n",
    "* Place a <code style=\"color:#fff;background-color:#2f3d48;border-radius: 4px;border: 1px solid #737b83;padding: 2px 4px\">f</code> or <code style=\"color:#fff;background-color:#2f3d48;border-radius: 4px;border: 1px solid #737b83;padding: 2px 4px\">F</code> before the opening quotation mark or triple quotation mark.\n",
    "* Inside this string, write a Python expression between <code style=\"color:#fff;background-color:#2f3d48;border-radius: 4px;border: 1px solid #737b83;padding: 2px 4px\">{</code> and <code style=\"color:#fff;background-color:#2f3d48;border-radius: 4px;border: 1px solid #737b83;padding: 2px 4px\">}</code> characters that can refer to variables or literal values.\n",
    "\n",
    "More information: [https://docs.python.org/3/tutorial/inputoutput.html#tut-f-strings](https://docs.python.org/3/tutorial/inputoutput.html#tut-f-strings)"
   ]
  },
  {
   "cell_type": "code",
   "execution_count": 3,
   "id": "invalid-fundamentals",
   "metadata": {},
   "outputs": [
    {
     "name": "stdout",
     "output_type": "stream",
     "text": [
      "We would like to reserve a table for 8 at 7:00\n"
     ]
    }
   ],
   "source": [
    "Num_People = 4\n",
    "Time = \"7:00\"\n",
    "print(f\"We would like to reserve a table for {Num_People + Num_People} at {Time}\")"
   ]
  },
  {
   "cell_type": "markdown",
   "id": "extreme-finder",
   "metadata": {},
   "source": [
    "## 2. str.format()\n",
    "\n",
    "* Enclose formatting directives with a pair of braces where variable will be substituted.\n",
    "* Provide variable value / expression with function <code style=\"color:#fff;background-color:#2f3d48;border-radius: 4px;border: 1px solid #737b83;padding: 2px 4px\">format</code>.\n",
    "\n",
    "In class, you have seen one of the important string methods - <code style=\"color:#fff;background-color:#2f3d48;border-radius: 4px;border: 1px solid #737b83;padding: 2px 4px\">format()</code>. You will find it very valuable in your coding, especially with your print statements. \n",
    "\n",
    "More information: https://docs.python.org/3/library/stdtypes.html#str.format\n",
    "\n",
    "More advanced students can learn more about the formal syntax for using the <code style=\"color:#fff;background-color:#2f3d48;border-radius: 4px;border: 1px solid #737b83;padding: 2px 4px\">format()</code> string method [here](https://docs.python.org/3.6/library/string.html#format-string-syntax)."
   ]
  },
  {
   "cell_type": "code",
   "execution_count": 1,
   "id": "extended-praise",
   "metadata": {},
   "outputs": [
    {
     "name": "stdout",
     "output_type": "stream",
     "text": [
      "3x2.3 = 130.435%\n"
     ]
    }
   ],
   "source": [
    "# Example: string method - format()\n",
    "unitPrice = 2.3\n",
    "unit = 3\n",
    "print('{}x{} = {:2.3%}'.format(unit, unitPrice, unit/unitPrice))"
   ]
  },
  {
   "cell_type": "markdown",
   "id": "frequent-savings",
   "metadata": {},
   "source": [
    "You can learn more about strings and string methods by looking at the [string method documentation](https://docs.python.org/3/library/stdtypes.html#string-methods).\n",
    "\n",
    "You will find that the documentation is one of the most valuable resources for writing code, and not only when it comes to strings or writing code in Python! By reading and searching the documentation you can learn about data types and built-in functions as well as how to use them."
   ]
  },
  {
   "cell_type": "markdown",
   "id": "dynamic-escape",
   "metadata": {},
   "source": [
    "### 2.1 Format Syntax: Spacing\n",
    "\n",
    "Format: `{:[filling_char][>^<][width]}`\n",
    "\n",
    "| Example | Description |\n",
    "|---------|-------------|\n",
    "| `'{:<20}'.format('DHLO2021')` | Left aligned with 20 characters width |\n",
    "| `'{:>20}'.format('DHLO2021')` | Right aligned with 20 characters width |\n",
    "| `'{:^20}'.format('DHLO2021')` | Centered with 20 characters width |\n",
    "| `'{:*<20}'.format('DHLO2021')` | Left aligned with 20 characters width, fill space with '*' |\n",
    "| `'{:+>20}'.format('DHLO2021')` | Right aligned with 20 characters width, fill space with '+' |\n",
    "| `'{:-^20}'.format('DHLO2021')` | Centered with 20 characters width, fill space with '-' |"
   ]
  },
  {
   "cell_type": "code",
   "execution_count": 11,
   "id": "sudden-steal",
   "metadata": {},
   "outputs": [
    {
     "name": "stdout",
     "output_type": "stream",
     "text": [
      "DHLO2021            \n",
      "            DHLO2021\n",
      "      DHLO2021      \n",
      "DHLO2021************\n",
      "++++++++++++DHLO2021\n",
      "------DHLO2021------\n"
     ]
    }
   ],
   "source": [
    "print('{:<20}'.format('DHLO2021'))\n",
    "print('{:>20}'.format('DHLO2021'))\n",
    "print('{:^20}'.format('DHLO2021'))\n",
    "print('{:*<20}'.format('DHLO2021'))\n",
    "print('{:+>20}'.format('DHLO2021'))\n",
    "print('{:-^20}'.format('DHLO2021'))"
   ]
  },
  {
   "cell_type": "markdown",
   "id": "motivated-bangladesh",
   "metadata": {},
   "source": [
    "### 2.2 Format Syntax: Decimal places\n",
    "\n",
    "Format: `{:[width].[decimal_places]f}`\n",
    "\n"
   ]
  },
  {
   "cell_type": "markdown",
   "id": "vocational-identity",
   "metadata": {},
   "source": [
    "| Example | Description |\n",
    "|---------|-------------|\n",
    "|`'result={:0.2f}'.format(2.1)` | 2 decimal places, width=data width |\n",
    "|`'result={:6.2f}'.format(2.1)` | 2 decimal places, width=min. 5 characters |\n",
    "|`'result={:7.2f}'.format(2.1)` | 2 decimal places, width=min. 5 characters |\n",
    "|`'result={:7.3f}'.format(2.12345)` | Centered with 20 characters width |\n",
    "|`'result={:*>7.3f}'.format(3.14159)` | Left aligned with 20 characters width, fill space with '*' |"
   ]
  },
  {
   "cell_type": "code",
   "execution_count": 13,
   "id": "compressed-brooklyn",
   "metadata": {},
   "outputs": [
    {
     "name": "stdout",
     "output_type": "stream",
     "text": [
      "result=2.10\n",
      "result=  2.10\n",
      "result=   2.10\n",
      "result=  2.123\n",
      "result=**3.142\n"
     ]
    }
   ],
   "source": [
    "print('result={:0.2f}'.format(2.1))\n",
    "print('result={:6.2f}'.format(2.1))\n",
    "print('result={:7.2f}'.format(2.1))\n",
    "print('result={:7.3f}'.format(2.12345))\n",
    "print('result={:*>7.3f}'.format(3.14159))"
   ]
  },
  {
   "cell_type": "markdown",
   "id": "missing-barcelona",
   "metadata": {},
   "source": [
    "## 3. String slicing and concatenation operations\n",
    "\n",
    "Finally, you can do all the string handling yourself by using string slicing and concatenation operations to create any layout you can imagine. The string type has some **methods** that perform useful operations for padding strings to a given column width."
   ]
  },
  {
   "cell_type": "code",
   "execution_count": 3,
   "id": "identified-visibility",
   "metadata": {},
   "outputs": [
    {
     "name": "stdout",
     "output_type": "stream",
     "text": [
      " 1   1    1\n",
      " 2   4    8\n",
      " 3   9   27\n",
      " 4  16   64\n",
      " 5  25  125\n",
      " 6  36  216\n",
      " 7  49  343\n",
      " 8  64  512\n",
      " 9  81  729\n",
      "10 100 1000\n"
     ]
    }
   ],
   "source": [
    "# Example: String slicing and concatenation\n",
    "for x in range(1, 11):\n",
    "    print(repr(x).rjust(2), repr(x*x).rjust(3), end=' ')\n",
    "    # Note use of 'end' on previous line\n",
    "    print(repr(x*x*x).rjust(4))"
   ]
  },
  {
   "cell_type": "markdown",
   "id": "creative-accused",
   "metadata": {},
   "source": [
    "Next we will introduce some string methods."
   ]
  },
  {
   "cell_type": "markdown",
   "id": "boxed-budget",
   "metadata": {},
   "source": [
    "You have seen two distinct ways to process data with Python, **operators** and **functions** in the class. There is a third technique for operating on values, **methods**. They like some of the functions you have already seen:\n",
    "\n",
    "* <code style=\"color:#fff;background-color:#2f3d48;border-radius: 4px;border: 1px solid #737b83;padding: 2px 4px\">len(\"this\")</code>\n",
    "* <code style=\"color:#fff;background-color:#2f3d48;border-radius: 4px;border: 1px solid #737b83;padding: 2px 4px\">type(12)</code>\n",
    "* <code style=\"color:#fff;background-color:#2f3d48;border-radius: 4px;border: 1px solid #737b83;padding: 2px 4px\">print(\"Hello world\")</code>\n",
    "\n",
    "These three above are functions - notice they use parentheses, and accept one or more arguments. Functions will be studied in much more detail in a later session!"
   ]
  },
  {
   "cell_type": "markdown",
   "id": "apparent-ideal",
   "metadata": {},
   "source": [
    "A **method** in Python behaves similarly to a **function**. Methods actually are functions that are called using **dot notation**. For example, <code style=\"color:#fff;background-color:#2f3d48;border-radius: 4px;border: 1px solid #737b83;padding: 2px 4px\">lower()</code> is a string method that can be used like this, on a string called \"sample string\": <code style=\"color:#fff;background-color:#2f3d48;border-radius: 4px;border: 1px solid #737b83;padding: 2px 4px\">sample_string.lower()</code>.\n",
    "\n",
    "**Methods** are specific to the data type for a particular variable. So there are some built-in methods that are available for all strings, different methods that are available for all integers, etc."
   ]
  },
  {
   "cell_type": "markdown",
   "id": "naked-purple",
   "metadata": {},
   "source": [
    "There are some methods that are possible with any string."
   ]
  },
  {
   "cell_type": "markdown",
   "id": "sustainable-egypt",
   "metadata": {},
   "source": [
    "![string methods](../materials/images/projects/string_methods.png)"
   ]
  },
  {
   "cell_type": "markdown",
   "id": "nervous-compilation",
   "metadata": {},
   "source": [
    "Among these methods, there are some methods are commonly-used when processing the texts or messages. One is the aforementioned method <code style=\"color:#fff;background-color:#2f3d48;border-radius: 4px;border: 1px solid #737b83;padding: 2px 4px\">format()</code>, and the other is <code style=\"color:#fff;background-color:#2f3d48;border-radius: 4px;border: 1px solid #737b83;padding: 2px 4px\">split()</code>.\n",
    "\n"
   ]
  },
  {
   "cell_type": "markdown",
   "id": "mighty-sessions",
   "metadata": {},
   "source": [
    "A helpful string method when working with strings is the .split method. This function or method returns a data container called a **list** that contains the words from the input string."
   ]
  },
  {
   "cell_type": "markdown",
   "id": "useful-noise",
   "metadata": {},
   "source": [
    "The split method has two additional arguments (`sep` and `maxsplit`). \n",
    "* The `sep` argument stands for \"separator\". It can be used to identify how the string should be split up (e.g., whitespace characters like space, tab, return, newline; specific punctuation (e.g., comma, dashes)). If the `sep` argument is not provided, the default separator is **whitespace**.\n",
    "\n",
    "* The `maxsplit` argument provides the maximum number of splits. The argument gives `maxsplit + 1` number of elements in the new list, with the remaining string being returned as the last element in the list. You can read more about these methods in the Python documentation too.\n",
    "\n",
    "Here are some examples for the <code style=\"color:#fff;background-color:#2f3d48;border-radius: 4px;border: 1px solid #737b83;padding: 2px 4px\">split()</code> method."
   ]
  },
  {
   "cell_type": "code",
   "execution_count": 6,
   "id": "surrounded-armor",
   "metadata": {},
   "outputs": [
    {
     "data": {
      "text/plain": [
       "['The', 'cow', 'jumped', 'over', 'the', 'moon.']"
      ]
     },
     "execution_count": 6,
     "metadata": {},
     "output_type": "execute_result"
    }
   ],
   "source": [
    "# Example: string method - split()\n",
    "\n",
    "# 1. A basic split method:\n",
    "new_str = \"The cow jumped over the moon.\"\n",
    "new_str.split()"
   ]
  },
  {
   "cell_type": "code",
   "execution_count": 7,
   "id": "chicken-credits",
   "metadata": {},
   "outputs": [
    {
     "data": {
      "text/plain": [
       "['The', 'cow', 'jumped', 'over the moon.']"
      ]
     },
     "execution_count": 7,
     "metadata": {},
     "output_type": "execute_result"
    }
   ],
   "source": [
    "# 2. The separator is space, and the maxsplit argument is set to 3.\n",
    "new_str.split(' ', 3)"
   ]
  },
  {
   "cell_type": "code",
   "execution_count": 9,
   "id": "coral-starter",
   "metadata": {},
   "outputs": [
    {
     "data": {
      "text/plain": [
       "['The cow jumped over the moon', '']"
      ]
     },
     "execution_count": 9,
     "metadata": {},
     "output_type": "execute_result"
    }
   ],
   "source": [
    "# 3. Using '.' or period as a separator.\n",
    "new_str.split('.')"
   ]
  },
  {
   "cell_type": "code",
   "execution_count": 10,
   "id": "decent-waters",
   "metadata": {},
   "outputs": [
    {
     "data": {
      "text/plain": [
       "['The', 'cow', 'jumped', 'over the moon.']"
      ]
     },
     "execution_count": 10,
     "metadata": {},
     "output_type": "execute_result"
    }
   ],
   "source": [
    "# 4. Using no separators but having a maxsplit argument of 3.\n",
    "new_str.split(None, 3)"
   ]
  }
 ],
 "metadata": {
  "kernelspec": {
   "display_name": "Python 3",
   "language": "python",
   "name": "python3"
  },
  "language_info": {
   "codemirror_mode": {
    "name": "ipython",
    "version": 3
   },
   "file_extension": ".py",
   "mimetype": "text/x-python",
   "name": "python",
   "nbconvert_exporter": "python",
   "pygments_lexer": "ipython3",
   "version": "3.8.8"
  }
 },
 "nbformat": 4,
 "nbformat_minor": 5
}
