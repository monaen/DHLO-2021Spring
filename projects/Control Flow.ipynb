{
 "cells": [
  {
   "cell_type": "markdown",
   "metadata": {},
   "source": [
    "# Control Flow\n",
    "In this lesson we will learn the **Control Flow**. Control flow is the sequence in which your code is run. Here, we'll learn about several tools in Python we can use to affect our code's control flow:\n",
    "\n",
    "* Conditional Statements\n",
    "* Boolean Expressions\n",
    "* For and While Loops\n",
    "* Break and Continue\n",
    "* List Comprehensions"
   ]
  },
  {
   "cell_type": "markdown",
   "metadata": {},
   "source": [
    "## 1. If Statement"
   ]
  },
  {
   "cell_type": "markdown",
   "metadata": {},
   "source": [
    "An <code style=\"color:#fff;background-color:#2f3d48;border-radius: 4px;border: 1px solid #737b83;padding: 2px 4px\">if</code> statement is a conditional statement that runs or skips code based on whether a condition is true or false. Here's a simple example."
   ]
  },
  {
   "cell_type": "code",
   "execution_count": 1,
   "metadata": {},
   "outputs": [
    {
     "name": "stdout",
     "output_type": "stream",
     "text": [
      "3 100\n",
      "13 90\n"
     ]
    }
   ],
   "source": [
    "phone_balance = 8  # try hone_balance = 3, and rerun this code cell\n",
    "bank_balance = 100\n",
    "\n",
    "print(phone_balance, bank_balance)\n",
    "\n",
    "if phone_balance < 5:\n",
    "    phone_balance += 10\n",
    "    bank_balance -= 10\n",
    "\n",
    "print(phone_balance, bank_balance)"
   ]
  },
  {
   "cell_type": "markdown",
   "metadata": {},
   "source": [
    "Let's break this down.\n",
    "\n",
    "1. An <code style=\"color:#fff;background-color:#2f3d48;border-radius: 4px;border: 1px solid #737b83;padding: 2px 4px\">if</code> statement starts with the <code style=\"color:#fff;background-color:#2f3d48;border-radius: 4px;border: 1px solid #737b83;padding: 2px 4px\">if</code> keyword, followed by the condition to be checked, in this case <code style=\"color:#fff;background-color:#2f3d48;border-radius: 4px;border: 1px solid #737b83;padding: 2px 4px\">phone_balance < 5</code>, and then a colon. The condition is specified in a boolean expression that evaluates to either True or False.\n",
    "\n",
    "2. After this line is an indented block of code to be executed if that condition is true. Here, the lines that increment <code style=\"color:#fff;background-color:#2f3d48;border-radius: 4px;border: 1px solid #737b83;padding: 2px 4px\">phone_balance</code> and decrement <code style=\"color:#fff;background-color:#2f3d48;border-radius: 4px;border: 1px solid #737b83;padding: 2px 4px\">bank_balance</code> only execute if it is true that <code style=\"color:#fff;background-color:#2f3d48;border-radius: 4px;border: 1px solid #737b83;padding: 2px 4px\">phone_balance</code> is less than 5. If not, the code in this <code style=\"color:#fff;background-color:#2f3d48;border-radius: 4px;border: 1px solid #737b83;padding: 2px 4px\">if</code> block is simply skipped."
   ]
  },
  {
   "cell_type": "markdown",
   "metadata": {},
   "source": [
    "### Use Comparison Operators in Conditional Statements"
   ]
  },
  {
   "cell_type": "markdown",
   "metadata": {},
   "source": [
    "Last class, we have learned about Python's comparison operators (e.g. <code style=\"color:#fff;background-color:#2f3d48;border-radius: 4px;border: 1px solid #737b83;padding: 2px 4px\">==</code> and <code style=\"color:#fff;background-color:#2f3d48;border-radius: 4px;border: 1px solid #737b83;padding: 2px 4px\">!=</code>) and how they are different from assignment operators (e.g. <code style=\"color:#fff;background-color:#2f3d48;border-radius: 4px;border: 1px solid #737b83;padding: 2px 4px\">=</code>). In conditional statements, you want to use comparison operators. For example, you'd want to use <code style=\"color:#fff;background-color:#2f3d48;border-radius: 4px;border: 1px solid #737b83;padding: 2px 4px\">if x == 5</code> rather than <code style=\"color:#fff;background-color:#2f3d48;border-radius: 4px;border: 1px solid #737b83;padding: 2px 4px\">if x = 5</code>. If your conditional statement is causing a syntax error or doing something unexpected, check whether you have written <code style=\"color:#fff;background-color:#2f3d48;border-radius: 4px;border: 1px solid #737b83;padding: 2px 4px\">==</code> or <code style=\"color:#fff;background-color:#2f3d48;border-radius: 4px;border: 1px solid #737b83;padding: 2px 4px\">=</code>!"
   ]
  },
  {
   "cell_type": "markdown",
   "metadata": {},
   "source": [
    "## 2. If-Else Statement"
   ]
  },
  {
   "cell_type": "markdown",
   "metadata": {},
   "source": [
    "An <code style=\"color:#fff;background-color:#2f3d48;border-radius: 4px;border: 1px solid #737b83;padding: 2px 4px\">if-else</code> statement is a conditional statement that runs different codes based on whether a condition is true or false. Here's a simple example."
   ]
  },
  {
   "cell_type": "code",
   "execution_count": 33,
   "metadata": {},
   "outputs": [
    {
     "name": "stdout",
     "output_type": "stream",
     "text": [
      "8 100\n",
      "10 98\n"
     ]
    }
   ],
   "source": [
    "phone_balance = 8  # try hone_balance = 3, and rerun this code cell\n",
    "bank_balance = 100\n",
    "\n",
    "print(phone_balance, bank_balance)\n",
    "\n",
    "if phone_balance < 5:\n",
    "    phone_balance += 10\n",
    "    bank_balance -= 10\n",
    "else:\n",
    "    phone_balance += 2\n",
    "    bank_balance -= 2\n",
    "\n",
    "print(phone_balance, bank_balance)"
   ]
  },
  {
   "cell_type": "markdown",
   "metadata": {},
   "source": [
    "## 3. If, Elif, Else Statement"
   ]
  },
  {
   "cell_type": "markdown",
   "metadata": {},
   "source": [
    "In addition to the <code style=\"color:#fff;background-color:#2f3d48;border-radius: 4px;border: 1px solid #737b83;padding: 2px 4px\">if</code>  clause, there are two other optional clauses often used with an <code style=\"color:#fff;background-color:#2f3d48;border-radius: 4px;border: 1px solid #737b83;padding: 2px 4px\">if</code>  statement. Let's see some examples:"
   ]
  },
  {
   "cell_type": "code",
   "execution_count": 13,
   "metadata": {},
   "outputs": [
    {
     "name": "stdout",
     "output_type": "stream",
     "text": [
      "Number 4 is even.\n",
      "4\n"
     ]
    }
   ],
   "source": [
    "n = 4  # try n = 5, and rerun this code cell\n",
    "if n % 2 == 0:\n",
    "    print('Number ' + str(n) + ' is even.')\n",
    "else:\n",
    "    print('Number ' + str(n) + ' is odd.')\n",
    "\n",
    "# Note: the str() function convert the input into a string. \n",
    "# In this example, it converts an integer to a string. Therefore,\n",
    "# we can use the + symbol to concatenate strings.\n",
    "\n",
    "print(n)"
   ]
  },
  {
   "cell_type": "code",
   "execution_count": 8,
   "metadata": {},
   "outputs": [
    {
     "name": "stdout",
     "output_type": "stream",
     "text": [
      "plant the garden!\n",
      "finish!\n"
     ]
    }
   ],
   "source": [
    "season = 'spring'\n",
    "\n",
    "if season == 'spring':\n",
    "    print('plant the garden!')\n",
    "elif season == 'summer':\n",
    "    print('water the garden!')\n",
    "elif season == 'fall':\n",
    "    print('harvest the garden!')\n",
    "elif season == 'winter':\n",
    "    print('stay indoors!')\n",
    "else:\n",
    "    print('unrecognized season')\n",
    "\n",
    "print('finish!')"
   ]
  },
  {
   "cell_type": "markdown",
   "metadata": {},
   "source": [
    "1. <code style=\"color:#fff;background-color:#2f3d48;border-radius: 4px;border: 1px solid #737b83;padding: 2px 4px\">if</code>: An <code style=\"color:#fff;background-color:#2f3d48;border-radius: 4px;border: 1px solid #737b83;padding: 2px 4px\">if</code> statement must always start with an <code style=\"color:#fff;background-color:#2f3d48;border-radius: 4px;border: 1px solid #737b83;padding: 2px 4px\">if</code> clause, which contains the first condition that is checked. If this evaluates to True, Python runs the code indented in this <code style=\"color:#fff;background-color:#2f3d48;border-radius: 4px;border: 1px solid #737b83;padding: 2px 4px\">if</code> block and then skips to the rest of the code after the <code style=\"color:#fff;background-color:#2f3d48;border-radius: 4px;border: 1px solid #737b83;padding: 2px 4px\">if</code> statement.\n",
    "\n",
    "2. <code style=\"color:#fff;background-color:#2f3d48;border-radius: 4px;border: 1px solid #737b83;padding: 2px 4px\">elif</code>: <code style=\"color:#fff;background-color:#2f3d48;border-radius: 4px;border: 1px solid #737b83;padding: 2px 4px\">elif</code> is short for \"else if.\" An <code style=\"color:#fff;background-color:#2f3d48;border-radius: 4px;border: 1px solid #737b83;padding: 2px 4px\">elif</code> clause is used to check for an additional condition if the conditions in the previous clauses in the <code style=\"color:#fff;background-color:#2f3d48;border-radius: 4px;border: 1px solid #737b83;padding: 2px 4px\">if</code> statement evaluate to False. As you can see in the example, you can have multiple <code style=\"color:#fff;background-color:#2f3d48;border-radius: 4px;border: 1px solid #737b83;padding: 2px 4px\">elif</code> blocks to handle different situations.\n",
    "\n",
    "3. <code style=\"color:#fff;background-color:#2f3d48;border-radius: 4px;border: 1px solid #737b83;padding: 2px 4px\">else</code>: Last is the <code style=\"color:#fff;background-color:#2f3d48;border-radius: 4px;border: 1px solid #737b83;padding: 2px 4px\">else</code> clause, which must come at the end of an <code style=\"color:#fff;background-color:#2f3d48;border-radius: 4px;border: 1px solid #737b83;padding: 2px 4px\">if</code> statement if used. This clause doesn't require a condition. The code in an <code style=\"color:#fff;background-color:#2f3d48;border-radius: 4px;border: 1px solid #737b83;padding: 2px 4px\">else</code> block is run if all conditions above that in the <code style=\"color:#fff;background-color:#2f3d48;border-radius: 4px;border: 1px solid #737b83;padding: 2px 4px\">if</code> statement evaluate to False."
   ]
  },
  {
   "cell_type": "markdown",
   "metadata": {},
   "source": [
    "### 3.1 Indentation\n",
    "Some other languages use braces to show where blocks of code begin and end. In Python we use **indentation** to enclose blocks of code. For example, <code style=\"color:#fff;background-color:#2f3d48;border-radius: 4px;border: 1px solid #737b83;padding: 2px 4px\">if</code> statements use indentation to tell Python what code is inside and outside of different clauses.\n",
    "\n",
    "In Python, indents conventionally come in multiples of **four spaces**. Be strict about following this convention, because changing the indentation can completely change the meaning of the code. If you are working on a team of Python programmers, it's important that everyone follows the same indentation convention!"
   ]
  },
  {
   "cell_type": "markdown",
   "metadata": {},
   "source": [
    "### 2.2 Spaces or Tabs?\n",
    "The [Python Style Guide](https://www.python.org/dev/peps/pep-0008/#tabs-or-spaces) recommends **using 4 spaces to indent**, rather than using a tab. Whichever you use, be aware that \"Python 3 disallows mixing the use of tabs and spaces for indentation.\""
   ]
  },
  {
   "cell_type": "code",
   "execution_count": 9,
   "metadata": {},
   "outputs": [
    {
     "name": "stdout",
     "output_type": "stream",
     "text": [
      "Welcome!\n",
      "Welcome!\n"
     ]
    }
   ],
   "source": [
    "# Practice: Coding with indentation\n",
    "\n",
    "# indentation: 2 spaces\n",
    "person = 'Kevin'\n",
    "if person == 'Kevin':\n",
    "  print('Welcome!')\n",
    "else:\n",
    "  print('Not registered!')\n",
    "\n",
    "# indentation: 4 spaces\n",
    "person = 'Kevin'\n",
    "if person == 'Kevin':\n",
    "    print('Welcome!')\n",
    "else:\n",
    "    print('Not registered!')"
   ]
  },
  {
   "cell_type": "markdown",
   "metadata": {},
   "source": [
    "As you can see, the program works no matter setting the indentation to 2 spaces or to 4 spaces. However, the **4-space indentation** is the most frequently used settings all around the world."
   ]
  },
  {
   "cell_type": "markdown",
   "metadata": {},
   "source": [
    "### In-Class Practice 2.1"
   ]
  },
  {
   "cell_type": "markdown",
   "metadata": {},
   "source": [
    "Use Test Run to execute the following code, which includes several examples of <code style=\"color:#fff;background-color:#2f3d48;border-radius: 4px;border: 1px solid #737b83;padding: 2px 4px\">if</code> statements. Experiment with different inputs and see what is printed out. Can you follow the flow of logic to figure out which code lines will get run? If you're not sure, you can insert additional <code style=\"color:#fff;background-color:#2f3d48;border-radius: 4px;border: 1px solid #737b83;padding: 2px 4px\">print</code> statements to help you figure out how it works."
   ]
  },
  {
   "cell_type": "code",
   "execution_count": 8,
   "metadata": {},
   "outputs": [
    {
     "name": "stdout",
     "output_type": "stream",
     "text": [
      "10\n",
      "20\n",
      "Number 145 is odd.\n"
     ]
    }
   ],
   "source": [
    "# Example 1: try changing the value of phone_balance\n",
    "phone_balance = 10\n",
    "bank_balance = 20\n",
    "\n",
    "if phone_balance < 10:\n",
    "    phone_balance += 10\n",
    "    bank_balance -= 10\n",
    "\n",
    "print(phone_balance)\n",
    "print(bank_balance)\n",
    "\n",
    "\n",
    "\n",
    "# Example 2: try changing the value of number\n",
    "number = 145\n",
    "if number % 2 == 0:\n",
    "    print(\"Number \" + str(number) + \" is even.\")\n",
    "else:\n",
    "    print(\"Number \" + str(number) + \" is odd.\")"
   ]
  },
  {
   "cell_type": "markdown",
   "metadata": {},
   "source": [
    "### ![homework](../materials/images/homework.png) Homework 2.1: Which Prize"
   ]
  },
  {
   "cell_type": "markdown",
   "metadata": {},
   "source": [
    "Write an <code style=\"color:#fff;background-color:#2f3d48;border-radius: 4px;border: 1px solid #737b83;padding: 2px 4px\">if</code> statement that lets a competitor know which of these prizes they won based on the number of points they scored, which is stored in the integer variable <code style=\"color:#fff;background-color:#2f3d48;border-radius: 4px;border: 1px solid #737b83;padding: 2px 4px\">points</code>."
   ]
  },
  {
   "cell_type": "markdown",
   "metadata": {},
   "source": [
    "|Points | Prize|\n",
    "|-------|------|\n",
    "|1 - 50 | wooden rabbit|\n",
    "|51 - 150 | no prize|\n",
    "|151 - 180 | wafer-thin mint|\n",
    "|181 - 200 | penguin|"
   ]
  },
  {
   "cell_type": "markdown",
   "metadata": {},
   "source": [
    "All of the lower and upper bounds here are **inclusive**, and <code style=\"color:#fff;background-color:#2f3d48;border-radius: 4px;border: 1px solid #737b83;padding: 2px 4px\">points</code> can only take on positive integer values up to 200."
   ]
  },
  {
   "cell_type": "markdown",
   "metadata": {},
   "source": [
    "In your <code style=\"color:#fff;background-color:#2f3d48;border-radius: 4px;border: 1px solid #737b83;padding: 2px 4px\">if</code> statement, assign the <code style=\"color:#fff;background-color:#2f3d48;border-radius: 4px;border: 1px solid #737b83;padding: 2px 4px\">result</code> variable to a string holding the appropriate message based on the value of <code style=\"color:#fff;background-color:#2f3d48;border-radius: 4px;border: 1px solid #737b83;padding: 2px 4px\">points</code>. If they've won a prize, the message should state <code style=\"color:#fff;background-color:#2f3d48;border-radius: 4px;border: 1px solid #737b83;padding: 2px 4px\">\"Congratulations! You won a [prize name]!\"</code> with the prize name. If there's no prize, the message should state <code style=\"color:#fff;background-color:#2f3d48;border-radius: 4px;border: 1px solid #737b83;padding: 2px 4px\">\"Oh dear, no prize this time.\"</code>"
   ]
  },
  {
   "cell_type": "markdown",
   "metadata": {},
   "source": [
    "Note: Feel free to test run your code with other inputs, but when you submit your answer, only use the original input of <code style=\"color:#fff;background-color:#2f3d48;border-radius: 4px;border: 1px solid #737b83;padding: 2px 4px\">points = 174</code>. You can hide your other inputs by commenting them out."
   ]
  },
  {
   "cell_type": "code",
   "execution_count": 17,
   "metadata": {},
   "outputs": [
    {
     "name": "stdout",
     "output_type": "stream",
     "text": [
      "None\n"
     ]
    }
   ],
   "source": [
    "points = 174  # use this input to make your submission\n",
    "\n",
    "# ================================================= #\n",
    "# [Hint]\n",
    "# if points <= 50:\n",
    "#     result = \"Congratulations! You won a wooden rabbit!\"\n",
    "# elif ......\n",
    "#     result = ......\n",
    "# elif ......\n",
    "#     result = ......\n",
    "# else:\n",
    "#     result = ......\n",
    "\n",
    "result = None\n",
    "# ================================================= #\n",
    "#               Put your code here                  #\n",
    "# ================================================= #\n",
    "\n",
    "\n",
    "\n",
    "\n",
    "\n",
    "print(result)"
   ]
  },
  {
   "cell_type": "markdown",
   "metadata": {},
   "source": [
    "### Solution\n",
    "TODO"
   ]
  },
  {
   "cell_type": "markdown",
   "metadata": {},
   "source": [
    "### ![homework](../materials/images/homework.png) Homework 2.2: Guess My Number"
   ]
  },
  {
   "cell_type": "markdown",
   "metadata": {},
   "source": [
    "You decide you want to play a game where you are hiding a number from someone. Store this number in a variable called <code style=\"color:#fff;background-color:#2f3d48;border-radius: 4px;border: 1px solid #737b83;padding: 2px 4px\">answer</code>. Another user provides a number called <code style=\"color:#fff;background-color:#2f3d48;border-radius: 4px;border: 1px solid #737b83;padding: 2px 4px\">guess</code>. By comparing guess to answer, you inform the user if their guess is too high or too low.\n",
    "\n",
    "Fill in the conditionals below to inform the user about how their guess compares to the answer."
   ]
  },
  {
   "cell_type": "code",
   "execution_count": null,
   "metadata": {},
   "outputs": [],
   "source": [
    "# '''\n",
    "# You decide you want to play a game where you are hiding \n",
    "# a number from someone.  Store this number in a variable \n",
    "# called 'answer'.  Another user provides a number called\n",
    "# 'guess'.  By comparing guess to answer, you inform the user\n",
    "# if their guess is too high or too low.\n",
    "\n",
    "# Fill in the conditionals below to inform the user about how\n",
    "# their guess compares to the answer.\n",
    "# '''\n",
    "answer =  # provide answer\n",
    "guess =  # provide guess\n",
    "\n",
    "if  # provide conditional, don't forget the colon\n",
    "    result = \"Oops!  Your guess was too low.\"\n",
    "elif  # provide conditional, don't forget the colon\n",
    "    result = \"Oops!  Your guess was too high.\"\n",
    "elif  # provide conditional, don't forget the colon\n",
    "    result = \"Nice!  Your guess matched the answer!\"\n",
    "\n",
    "print(result)"
   ]
  },
  {
   "cell_type": "markdown",
   "metadata": {},
   "source": [
    "### Solution\n",
    "TODO"
   ]
  },
  {
   "cell_type": "markdown",
   "metadata": {},
   "source": [
    "## 3. Boolean Expressions for Conditions"
   ]
  },
  {
   "cell_type": "markdown",
   "metadata": {},
   "source": [
    "### 3.1 Complex Boolean Expressions\n",
    "<code style=\"color:#fff;background-color:#2f3d48;border-radius: 4px;border: 1px solid #737b83;padding: 2px 4px\">If</code> statements sometimes use more complicated boolean expressions for their conditions. They may contain multiple comparisons operators, logical operators, and even calculations. Examples:"
   ]
  },
  {
   "cell_type": "code",
   "execution_count": 9,
   "metadata": {},
   "outputs": [
    {
     "name": "stdout",
     "output_type": "stream",
     "text": [
      "send email\n"
     ]
    }
   ],
   "source": [
    "# Example: \n",
    "# TODO: change the settings and rerun this cell to understand the control flow\n",
    "\n",
    "weight = 55\n",
    "height = 164\n",
    "is_raining = True\n",
    "is_sunny = not is_raining\n",
    "unsubscribed = False\n",
    "location = \"USA\"\n",
    "\n",
    "\n",
    "if 18.5 <= weight / height**2 < 25:\n",
    "    print(\"BMI is considered 'normal'\")\n",
    "\n",
    "if is_raining and is_sunny:\n",
    "    print(\"Is there a rainbow?\")\n",
    "\n",
    "if (not unsubscribed) and (location == \"USA\" or location == \"HK\"):\n",
    "    print(\"send email\")"
   ]
  },
  {
   "cell_type": "markdown",
   "metadata": {},
   "source": [
    "For really complicated conditions you might need to combine some <code style=\"color:#fff;background-color:#2f3d48;border-radius: 4px;border: 1px solid #737b83;padding: 2px 4px\">and</code>s, <code style=\"color:#fff;background-color:#2f3d48;border-radius: 4px;border: 1px solid #737b83;padding: 2px 4px\">or</code>s and <code style=\"color:#fff;background-color:#2f3d48;border-radius: 4px;border: 1px solid #737b83;padding: 2px 4px\">not</code>s together. Use parentheses if you need to make the combinations clear.\n",
    "\n",
    "However simple or complex, the condition in an <code style=\"color:#fff;background-color:#2f3d48;border-radius: 4px;border: 1px solid #737b83;padding: 2px 4px\">if</code> statement must be a boolean expression that evaluates to either True or False and it is this value that decides whether the indented block in an <code style=\"color:#fff;background-color:#2f3d48;border-radius: 4px;border: 1px solid #737b83;padding: 2px 4px\">if</code> statement executes or not."
   ]
  },
  {
   "cell_type": "markdown",
   "metadata": {},
   "source": [
    "### 3.2 Good and Bad Examples\n",
    "Here are some things to keep in mind while writing boolean expressions for your if statements.\n",
    "1. Don't use **True** or **False** as conditions"
   ]
  },
  {
   "cell_type": "code",
   "execution_count": 16,
   "metadata": {},
   "outputs": [
    {
     "name": "stdout",
     "output_type": "stream",
     "text": [
      "This indented code will always get run.\n"
     ]
    }
   ],
   "source": [
    "# Bad example\n",
    "if True:\n",
    "    print(\"This indented code will always get run.\")"
   ]
  },
  {
   "cell_type": "markdown",
   "metadata": {},
   "source": [
    "While \"True\" is a valid boolean expression, it's not useful as a condition since it always evaluates to True, so the indented code will always get run. Similarly, <code style=\"color:#fff;background-color:#2f3d48;border-radius: 4px;border: 1px solid #737b83;padding: 2px 4px\">if False</code> is not a condition you should use either - the statement following this <code style=\"color:#fff;background-color:#2f3d48;border-radius: 4px;border: 1px solid #737b83;padding: 2px 4px\">if</code> statement would never be executed."
   ]
  },
  {
   "cell_type": "code",
   "execution_count": 33,
   "metadata": {},
   "outputs": [
    {
     "name": "stdout",
     "output_type": "stream",
     "text": [
      "This indented code will always get run.\n"
     ]
    }
   ],
   "source": [
    "# Another bad example\n",
    "is_cold = True  # change it to \"False\" and rerun the this cell\n",
    "if is_cold or not is_cold:\n",
    "    print(\"This indented code will always get run.\")"
   ]
  },
  {
   "cell_type": "markdown",
   "metadata": {},
   "source": [
    "Similarly, it's useless to use any condition that you know will always evaluate to True, like this example above. A boolean variable can only be True or False, so either <code style=\"color:#fff;background-color:#2f3d48;border-radius: 4px;border: 1px solid #737b83;padding: 2px 4px\">is_cold</code> or <code style=\"color:#fff;background-color:#2f3d48;border-radius: 4px;border: 1px solid #737b83;padding: 2px 4px\">not is_cold</code> is always True, and the indented code will always be run."
   ]
  },
  {
   "cell_type": "markdown",
   "metadata": {},
   "source": [
    "2. Be careful writing expressions that use logical operators"
   ]
  },
  {
   "cell_type": "markdown",
   "metadata": {},
   "source": [
    "Logical operators <code style=\"color:#fff;background-color:#2f3d48;border-radius: 4px;border: 1px solid #737b83;padding: 2px 4px\">and</code>, <code style=\"color:#fff;background-color:#2f3d48;border-radius: 4px;border: 1px solid #737b83;padding: 2px 4px\">or</code> and <code style=\"color:#fff;background-color:#2f3d48;border-radius: 4px;border: 1px solid #737b83;padding: 2px 4px\">not</code> have specific meanings that aren't quite the same as their meanings in plain English. Make sure your boolean expressions are being evaluated the way you expect them to."
   ]
  },
  {
   "cell_type": "code",
   "execution_count": 39,
   "metadata": {},
   "outputs": [
    {
     "name": "stdout",
     "output_type": "stream",
     "text": [
      "Wear boots!\n"
     ]
    }
   ],
   "source": [
    "# Bad example\n",
    "weather = \"sunny\"\n",
    "if weather == \"snow\" or \"rain\":\n",
    "    print(\"Wear boots!\")"
   ]
  },
  {
   "cell_type": "markdown",
   "metadata": {},
   "source": [
    "This code is valid in Python, but it is not a boolean expression, although it reads like one. The reason is that the expression to the right of the <code style=\"color:#fff;background-color:#2f3d48;border-radius: 4px;border: 1px solid #737b83;padding: 2px 4px\">or</code> operator, <code style=\"color:#fff;background-color:#2f3d48;border-radius: 4px;border: 1px solid #737b83;padding: 2px 4px\">\"rain\"</code>, is not a boolean expression - it's a string! Later we'll discuss what happens when you use non-boolean-type objects in place of booleans."
   ]
  },
  {
   "cell_type": "markdown",
   "metadata": {},
   "source": [
    "3. Don't compare a boolean variable with <code style=\"color:#fff;background-color:#2f3d48;border-radius: 4px;border: 1px solid #737b83;padding: 2px 4px\">== True</code> or <code style=\"color:#fff;background-color:#2f3d48;border-radius: 4px;border: 1px solid #737b83;padding: 2px 4px\">== False</code>\n",
    "\n",
    "This comparison isn’t necessary, since the boolean variable itself is a boolean expression."
   ]
  },
  {
   "cell_type": "code",
   "execution_count": 4,
   "metadata": {},
   "outputs": [
    {
     "name": "stdout",
     "output_type": "stream",
     "text": [
      "The weather is cold!\n"
     ]
    }
   ],
   "source": [
    "# Bad example\n",
    "is_cold = True\n",
    "if is_cold == True:\n",
    "    print(\"The weather is cold!\")"
   ]
  },
  {
   "cell_type": "markdown",
   "metadata": {},
   "source": [
    "This is a valid condition, but we can make the code more readable by using the variable itself as the condition instead, as below."
   ]
  },
  {
   "cell_type": "code",
   "execution_count": 5,
   "metadata": {},
   "outputs": [
    {
     "name": "stdout",
     "output_type": "stream",
     "text": [
      "The weather is cold!\n"
     ]
    }
   ],
   "source": [
    "# Good example\n",
    "is_cold = True\n",
    "if is_cold:\n",
    "    print(\"The weather is cold!\")"
   ]
  },
  {
   "cell_type": "markdown",
   "metadata": {},
   "source": [
    "If you want to check whether a boolean is False, you can use the <code style=\"color:#fff;background-color:#2f3d48;border-radius: 4px;border: 1px solid #737b83;padding: 2px 4px\">not</code> operator."
   ]
  },
  {
   "cell_type": "markdown",
   "metadata": {},
   "source": [
    "### 3.3 Truth Value Testing"
   ]
  },
  {
   "cell_type": "markdown",
   "metadata": {},
   "source": [
    "If we use a non-boolean object as a condition in an <code style=\"color:#fff;background-color:#2f3d48;border-radius: 4px;border: 1px solid #737b83;padding: 2px 4px\">if</code> statement in place of the boolean expression, Python will check for its truth value and use that to decide whether or not to run the indented code. By default, the truth value of an object in Python is considered True unless specified as False in the documentation.\n",
    "\n",
    "Here are most of the built-in objects that are considered False in Python:"
   ]
  },
  {
   "cell_type": "markdown",
   "metadata": {},
   "source": [
    "* constants defined to be false: <code style=\"color:#fff;background-color:#2f3d48;border-radius: 4px;border: 1px solid #737b83;padding: 2px 4px\">None</code> and <code style=\"color:#fff;background-color:#2f3d48;border-radius: 4px;border: 1px solid #737b83;padding: 2px 4px\">False</code>\n",
    "* zero of any numeric type: <code style=\"color:#fff;background-color:#2f3d48;border-radius: 4px;border: 1px solid #737b83;padding: 2px 4px\">0</code>, <code style=\"color:#fff;background-color:#2f3d48;border-radius: 4px;border: 1px solid #737b83;padding: 2px 4px\">0.0</code>, <code style=\"color:#fff;background-color:#2f3d48;border-radius: 4px;border: 1px solid #737b83;padding: 2px 4px\">0j</code>\n",
    "* empty sequences and collections: <code style=\"color:#fff;background-color:#2f3d48;border-radius: 4px;border: 1px solid #737b83;padding: 2px 4px\">\"\"</code>, <code style=\"color:#fff;background-color:#2f3d48;border-radius: 4px;border: 1px solid #737b83;padding: 2px 4px\">()</code>, <code style=\"color:#fff;background-color:#2f3d48;border-radius: 4px;border: 1px solid #737b83;padding: 2px 4px\">[]</code>, <code style=\"color:#fff;background-color:#2f3d48;border-radius: 4px;border: 1px solid #737b83;padding: 2px 4px\">{}</code>, <code style=\"color:#fff;background-color:#2f3d48;border-radius: 4px;border: 1px solid #737b83;padding: 2px 4px\">set()</code>, <code style=\"color:#fff;background-color:#2f3d48;border-radius: 4px;border: 1px solid #737b83;padding: 2px 4px\">range(0)</code>\n",
    "\n",
    "Example:"
   ]
  },
  {
   "cell_type": "code",
   "execution_count": 31,
   "metadata": {},
   "outputs": [
    {
     "name": "stdout",
     "output_type": "stream",
     "text": [
      "No errors to fix!\n"
     ]
    }
   ],
   "source": [
    "errors = None\n",
    "if errors:\n",
    "    print(\"You have {} errors to fix!\".format(errors))\n",
    "else:\n",
    "    print(\"No errors to fix!\")"
   ]
  },
  {
   "cell_type": "markdown",
   "metadata": {},
   "source": [
    "In this code, <code style=\"color:#fff;background-color:#2f3d48;border-radius: 4px;border: 1px solid #737b83;padding: 2px 4px\">errors</code> has the truth value True because it's a non-zero number, so the error message is printed. This is a nice, succinct way of writing an <code style=\"color:#fff;background-color:#2f3d48;border-radius: 4px;border: 1px solid #737b83;padding: 2px 4px\">if</code> statement."
   ]
  },
  {
   "cell_type": "markdown",
   "metadata": {},
   "source": [
    "### In-Class Practice 3.1"
   ]
  },
  {
   "cell_type": "markdown",
   "metadata": {},
   "source": [
    "#### Evaluate composed boolean expressions\n",
    "\n",
    "Imagine an air traffic control program that tracks three variables, **altitude**, **speed**, and **propulsion** which for a particular airplane have the values specified below."
   ]
  },
  {
   "cell_type": "code",
   "execution_count": 12,
   "metadata": {},
   "outputs": [],
   "source": [
    "altitude = 10000\n",
    "speed = 250\n",
    "propulsion = \"Propeller\""
   ]
  },
  {
   "cell_type": "markdown",
   "metadata": {},
   "source": [
    "* [ ] <code style=\"color:#fff;background-color:#2f3d48;border-radius: 4px;border: 1px solid #737b83;padding: 2px 4px\">altitude < 1000 and speed > 100</code>\n",
    "* [ ] <code style=\"color:#fff;background-color:#2f3d48;border-radius: 4px;border: 1px solid #737b83;padding: 2px 4px\">not (speed > 400 and propulsion == 'Propeller')</code>\n",
    "* [ ] <code style=\"color:#fff;background-color:#2f3d48;border-radius: 4px;border: 1px solid #737b83;padding: 2px 4px\">(altitude > 500 and speed > 100) or not propulsion == 'Propeller'</code>"
   ]
  },
  {
   "cell_type": "code",
   "execution_count": 14,
   "metadata": {},
   "outputs": [],
   "source": [
    "# print(altitude < 1000 and speed > 100)\n",
    "# print(not (speed > 400 and propulsion == 'Propeller'))\n",
    "# print((altitude > 500 and speed > 100) or not propulsion == 'Propeller')"
   ]
  },
  {
   "cell_type": "markdown",
   "metadata": {},
   "source": [
    "## 4. For Loops"
   ]
  },
  {
   "cell_type": "markdown",
   "metadata": {},
   "source": [
    "Python has two kinds of loops - <code style=\"color:#fff;background-color:#2f3d48;border-radius: 4px;border: 1px solid #737b83;padding: 2px 4px\">for</code> loops and <code style=\"color:#fff;background-color:#2f3d48;border-radius: 4px;border: 1px solid #737b83;padding: 2px 4px\">while</code> loops. A <code style=\"color:#fff;background-color:#2f3d48;border-radius: 4px;border: 1px solid #737b83;padding: 2px 4px\">for</code> loop is used to \"iterate\", or do something repeatedly, over an **iterable**.\n",
    "\n",
    "An **iterable** is an object that can return one of its elements at a time. This can include sequence types, such as **strings**, **lists**, and **tuples**, as well as non-sequence types, such as **dictionaries** and **files**.\n",
    "\n",
    "Let's break down the components of a <code style=\"color:#fff;background-color:#2f3d48;border-radius: 4px;border: 1px solid #737b83;padding: 2px 4px\">for</code> loop, using this example with the list <code style=\"color:#fff;background-color:#2f3d48;border-radius: 4px;border: 1px solid #737b83;padding: 2px 4px\">cities</code>:"
   ]
  },
  {
   "cell_type": "code",
   "execution_count": 22,
   "metadata": {},
   "outputs": [
    {
     "name": "stdout",
     "output_type": "stream",
     "text": [
      "new york city\n",
      "mountain view\n",
      "chicago\n",
      "los angeles\n",
      "Done!\n"
     ]
    }
   ],
   "source": [
    "cities = ['new york city', 'mountain view', 'chicago', 'los angeles']\n",
    "for city in cities:\n",
    "    print(city)\n",
    "print(\"Done!\")"
   ]
  },
  {
   "cell_type": "markdown",
   "metadata": {},
   "source": [
    "Components of a <code style=\"color:#fff;background-color:#2f3d48;border-radius: 4px;border: 1px solid #737b83;padding: 2px 4px\">for</code> Loop\n",
    "\n",
    "1. The first line of the loop starts with the <code style=\"color:#fff;background-color:#2f3d48;border-radius: 4px;border: 1px solid #737b83;padding: 2px 4px\">for</code> keyword, which signals that this is a <code style=\"color:#fff;background-color:#2f3d48;border-radius: 4px;border: 1px solid #737b83;padding: 2px 4px\">for</code> loop\n",
    "2. Following that is <code style=\"color:#fff;background-color:#2f3d48;border-radius: 4px;border: 1px solid #737b83;padding: 2px 4px\">city in cities</code>, indicating <code style=\"color:#fff;background-color:#2f3d48;border-radius: 4px;border: 1px solid #737b83;padding: 2px 4px\">city</code> is the iteration variable, and <code style=\"color:#fff;background-color:#2f3d48;border-radius: 4px;border: 1px solid #737b83;padding: 2px 4px\">cities</code> is the iterable being looped over. In the first iteration of the loop, <code style=\"color:#fff;background-color:#2f3d48;border-radius: 4px;border: 1px solid #737b83;padding: 2px 4px\">city</code> gets the value of the first element in <code style=\"color:#fff;background-color:#2f3d48;border-radius: 4px;border: 1px solid #737b83;padding: 2px 4px\">cities</code>, which is “new york city”.\n",
    "3. The <code style=\"color:#fff;background-color:#2f3d48;border-radius: 4px;border: 1px solid #737b83;padding: 2px 4px\">for</code> loop heading line always ends with a colon <code style=\"color:#fff;background-color:#2f3d48;border-radius: 4px;border: 1px solid #737b83;padding: 2px 4px\">:</code>\n",
    "4. Following the <code style=\"color:#fff;background-color:#2f3d48;border-radius: 4px;border: 1px solid #737b83;padding: 2px 4px\">for</code> loop heading is an indented block of code, the body of the loop, to be executed in each iteration of this loop. There is only one line in the body of this loop - <code style=\"color:#fff;background-color:#2f3d48;border-radius: 4px;border: 1px solid #737b83;padding: 2px 4px\">print(city)</code>.\n",
    "5. After the body of the loop has executed, we don't move on to the next line yet; we go back to the <code style=\"color:#fff;background-color:#2f3d48;border-radius: 4px;border: 1px solid #737b83;padding: 2px 4px\">for</code> heading line, where the iteration variable takes the value of the next element of the iterable. In the second iteration of the loop above, <code style=\"color:#fff;background-color:#2f3d48;border-radius: 4px;border: 1px solid #737b83;padding: 2px 4px\">city</code> takes the value of the next element in <code style=\"color:#fff;background-color:#2f3d48;border-radius: 4px;border: 1px solid #737b83;padding: 2px 4px\">cities</code>, which is \"mountain view\".\n",
    "6. This process repeats until the loop has iterated through all the elements of the iterable. Then, we move on to the line that follows the body of the loop - in this case, <code style=\"color:#fff;background-color:#2f3d48;border-radius: 4px;border: 1px solid #737b83;padding: 2px 4px\">print(\"Done!\")</code>. We can tell what the next line after the body of the loop is because it is unindented. Here is another reason why paying attention to your indentation is very important in Python!"
   ]
  },
  {
   "cell_type": "markdown",
   "metadata": {},
   "source": [
    "You can name **iteration variables** however you like. A common pattern is to give the iteration variable and iterable the same names, except the singular and plural versions respectively (e.g., 'city' and 'cities')."
   ]
  },
  {
   "cell_type": "markdown",
   "metadata": {},
   "source": [
    "### 4.1 Using the <code style=\"color:#fff;background-color:#2f3d48;border-radius: 4px;border: 1px solid #737b83;padding: 2px 4px\">range()</code> Function with <code style=\"color:#fff;background-color:#2f3d48;border-radius: 4px;border: 1px solid #737b83;padding: 2px 4px\">for</code> Loops"
   ]
  },
  {
   "cell_type": "markdown",
   "metadata": {},
   "source": [
    "<code style=\"color:#fff;background-color:#2f3d48;border-radius: 4px;border: 1px solid #737b83;padding: 2px 4px\">range()</code> is a built-in function used to create an iterable sequence of numbers. You will frequently use <code style=\"color:#fff;background-color:#2f3d48;border-radius: 4px;border: 1px solid #737b83;padding: 2px 4px\">range()</code> with a <code style=\"color:#fff;background-color:#2f3d48;border-radius: 4px;border: 1px solid #737b83;padding: 2px 4px\">for</code> loop to repeat an action a certain number of times, as in this example:"
   ]
  },
  {
   "cell_type": "code",
   "execution_count": 1,
   "metadata": {},
   "outputs": [
    {
     "name": "stdout",
     "output_type": "stream",
     "text": [
      "Hello!\n",
      "Hello!\n",
      "Hello!\n"
     ]
    }
   ],
   "source": [
    "for i in range(3):\n",
    "    print(\"Hello!\")"
   ]
  },
  {
   "cell_type": "markdown",
   "metadata": {},
   "source": [
    "#### <code style=\"color:#fff;background-color:#2f3d48;border-radius: 4px;border: 1px solid #737b83;padding: 2px 4px\">range(start=0, stop, step=1)</code>\n",
    "The <code style=\"color:#fff;background-color:#2f3d48;border-radius: 4px;border: 1px solid #737b83;padding: 2px 4px\">range()</code> function takes three integer arguments, the first and third of which are optional:\n",
    "\n",
    "* The `start` argument is the first number of the sequence. If unspecified, `start` defaults to 0.\n",
    "* The `stop` argument is 1 more than the last number of the sequence. This argument must be specified.\n",
    "* The `step` argument is the difference between each number in the sequence. If unspecified, `step` defaults to 1."
   ]
  },
  {
   "cell_type": "markdown",
   "metadata": {},
   "source": [
    "#### Notes on using <code style=\"color:#fff;background-color:#2f3d48;border-radius: 4px;border: 1px solid #737b83;padding: 2px 4px\">range()</code>:\n",
    "\n",
    "* If you specify one integer inside the parentheses with <code style=\"color:#fff;background-color:#2f3d48;border-radius: 4px;border: 1px solid #737b83;padding: 2px 4px\">range()</code>, it's used as the value for `stop`, and the defaults are used for the other two.</br>\n",
    "    **e.g.**: <code style=\"color:#fff;background-color:#2f3d48;border-radius: 4px;border: 1px solid #737b83;padding: 2px 4px\">range(4)</code> returns <code style=\"color:#fff;background-color:#2f3d48;border-radius: 4px;border: 1px solid #737b83;padding: 2px 4px\">0, 1, 2, 3</code>\n",
    "* If you specify two integers inside the parentheses with <code style=\"color:#fff;background-color:#2f3d48;border-radius: 4px;border: 1px solid #737b83;padding: 2px 4px\">range()</code>, they're used for `start` and `stop`, and the default is used for `step`.</br>\n",
    "    **e.g.**: <code style=\"color:#fff;background-color:#2f3d48;border-radius: 4px;border: 1px solid #737b83;padding: 2px 4px\">range(2, 6)</code> returns <code style=\"color:#fff;background-color:#2f3d48;border-radius: 4px;border: 1px solid #737b83;padding: 2px 4px\">2, 3, 4, 5</code>\n",
    "* Or you can specify all three integers for `start`, `stop`, and `step`.</br>\n",
    "    **e.g.**: <code style=\"color:#fff;background-color:#2f3d48;border-radius: 4px;border: 1px solid #737b83;padding: 2px 4px\">range(1, 10, 2)</code> returns <code style=\"color:#fff;background-color:#2f3d48;border-radius: 4px;border: 1px solid #737b83;padding: 2px 4px\">1, 3, 5, 7, 9</code>"
   ]
  },
  {
   "cell_type": "markdown",
   "metadata": {},
   "source": [
    "### 4.2 Creating and Modifying Lists\n",
    "\n",
    "In addition to extracting information from lists, as we did in the first example above, you can also create and modify lists with <code style=\"color:#fff;background-color:#2f3d48;border-radius: 4px;border: 1px solid #737b83;padding: 2px 4px\">for</code> loops. You can **create** a list by appending to a new list at each iteration of the <code style=\"color:#fff;background-color:#2f3d48;border-radius: 4px;border: 1px solid #737b83;padding: 2px 4px\">for</code> loop like this:"
   ]
  },
  {
   "cell_type": "code",
   "execution_count": 4,
   "metadata": {},
   "outputs": [
    {
     "name": "stdout",
     "output_type": "stream",
     "text": [
      "['New York City', 'Mountain View', 'Chicago', 'Los Angeles']\n"
     ]
    }
   ],
   "source": [
    "# Creating a new list\n",
    "cities = ['new york city', 'mountain view', 'chicago', 'los angeles']\n",
    "capitalized_cities = []\n",
    "\n",
    "for city in cities:\n",
    "    capitalized_cities.append(city.title())\n",
    "\n",
    "print(capitalized_cities)"
   ]
  },
  {
   "cell_type": "markdown",
   "metadata": {},
   "source": [
    "**Modifying** a list is a bit more involved, and requires the use of the <code style=\"color:#fff;background-color:#2f3d48;border-radius: 4px;border: 1px solid #737b83;padding: 2px 4px\">range()</code> function.\n",
    "\n",
    "We can use the <code style=\"color:#fff;background-color:#2f3d48;border-radius: 4px;border: 1px solid #737b83;padding: 2px 4px\">range()</code> function to generate the indices for each value in the <code style=\"color:#fff;background-color:#2f3d48;border-radius: 4px;border: 1px solid #737b83;padding: 2px 4px\">cities</code> list. This lets us access the elements of the list with <code style=\"color:#fff;background-color:#2f3d48;border-radius: 4px;border: 1px solid #737b83;padding: 2px 4px\">cities[index]</code> so that we can modify the values in the <code style=\"color:#fff;background-color:#2f3d48;border-radius: 4px;border: 1px solid #737b83;padding: 2px 4px\">cities</code> list in place."
   ]
  },
  {
   "cell_type": "code",
   "execution_count": 5,
   "metadata": {},
   "outputs": [
    {
     "name": "stdout",
     "output_type": "stream",
     "text": [
      "['New York City', 'Mountain View', 'Chicago', 'Los Angeles']\n"
     ]
    }
   ],
   "source": [
    "cities = ['new york city', 'mountain view', 'chicago', 'los angeles']\n",
    "\n",
    "for index in range(len(cities)):\n",
    "    cities[index] = cities[index].title()\n",
    "\n",
    "print(cities)"
   ]
  },
  {
   "cell_type": "markdown",
   "metadata": {},
   "source": [
    "### In-Class Practice 4.1: Quick Brown Fox\n",
    "Use a <code style=\"color:#fff;background-color:#2f3d48;border-radius: 4px;border: 1px solid #737b83;padding: 2px 4px\">for</code> loop to take a list and print each element of the list in its own line.\n",
    "\n",
    "<code style=\"color:#fff;background-color:#2f3d48;border-radius: 4px;border: 1px solid #737b83;padding: 2px 4px\">sentence = [\"the\", \"quick\", \"brown\", \"fox\", \"jumped\", \"over\", \"the\", \"lazy\", \"dog\"]</code>"
   ]
  },
  {
   "cell_type": "code",
   "execution_count": 12,
   "metadata": {},
   "outputs": [
    {
     "name": "stdout",
     "output_type": "stream",
     "text": [
      "the\n",
      "quick\n",
      "brown\n",
      "fox\n",
      "jumped\n",
      "over\n",
      "the\n",
      "lazy\n",
      "dog\n"
     ]
    }
   ],
   "source": [
    "sentence = [\"the\", \"quick\", \"brown\", \"fox\", \"jumped\", \"over\", \"the\", \"lazy\", \"dog\"]\n",
    "\n",
    "# 1. Write a for loop to print out each word in the sentence list, one word per line\n",
    "# ================================================= #\n",
    "#               Put your code here                  #\n",
    "# ================================================= #\n",
    "for word in sentence:\n",
    "    print(word)\n",
    "\n",
    "# 2. Write a for loop to print out each word in the sentence list separated by comma\n",
    "# ================================================= #\n",
    "#               Put your code here                  #\n",
    "# ================================================= #\n",
    "# for word in sentence:\n",
    "#     print(word, end=', ')"
   ]
  },
  {
   "cell_type": "markdown",
   "metadata": {},
   "source": [
    "### In-Class Practice 4.2: Create Usernames"
   ]
  },
  {
   "cell_type": "markdown",
   "metadata": {},
   "source": [
    "Write a <code style=\"color:#fff;background-color:#2f3d48;border-radius: 4px;border: 1px solid #737b83;padding: 2px 4px\">for</code> loop that iterates over the <code style=\"color:#fff;background-color:#2f3d48;border-radius: 4px;border: 1px solid #737b83;padding: 2px 4px\">names</code> list to create a <code style=\"color:#fff;background-color:#2f3d48;border-radius: 4px;border: 1px solid #737b83;padding: 2px 4px\">usernames</code> list. To create a username for each name, make everything lowercase and replace spaces with underscores. Running your <code style=\"color:#fff;background-color:#2f3d48;border-radius: 4px;border: 1px solid #737b83;padding: 2px 4px\">for</code> loop over the list:\n",
    "\n",
    "<code style=\"color:#fff;background-color:#2f3d48;border-radius: 4px;border: 1px solid #737b83;padding: 2px 4px\">names = [\"Joey Tribbiani\", \"Monica Geller\", \"Chandler Bing\", \"Phoebe Buffay\"]</code>\n",
    "\n",
    "should create the list:\n",
    "\n",
    "<code style=\"color:#fff;background-color:#2f3d48;border-radius: 4px;border: 1px solid #737b83;padding: 2px 4px\">usernames = [\"joey_tribbiani\", \"monica_geller\", \"chandler_bing\", \"phoebe_buffay\"]</code>\n",
    "\n",
    "**HINT**: Use the <code style=\"color:#fff;background-color:#2f3d48;border-radius: 4px;border: 1px solid #737b83;padding: 2px 4px\">.replace()</code> method to replace the spaces with underscores. Check out how to use this method in this [Stack Overflow answer](https://stackoverflow.com/a/12723785)."
   ]
  },
  {
   "cell_type": "code",
   "execution_count": 16,
   "metadata": {},
   "outputs": [
    {
     "data": {
      "text/plain": [
       "'Joey Tribbiani'"
      ]
     },
     "execution_count": 16,
     "metadata": {},
     "output_type": "execute_result"
    }
   ],
   "source": [
    "## use this cell to check your idea...\n",
    "\"Joey Tribbiani\"\n",
    "\n",
    "## You can use multiple methods on a string by using the dot symbol `.`\n",
    "## This is a way to consice your codes."
   ]
  },
  {
   "cell_type": "code",
   "execution_count": 15,
   "metadata": {},
   "outputs": [
    {
     "name": "stdout",
     "output_type": "stream",
     "text": [
      "[]\n"
     ]
    }
   ],
   "source": [
    "names = [\"Joey Tribbiani\", \"Monica Geller\", \"Chandler Bing\", \"Phoebe Buffay\"]\n",
    "usernames = []\n",
    "\n",
    "# ================================================= #\n",
    "#               Put your code here                  #\n",
    "# ================================================= #\n",
    "# write your for loop here\n",
    "\n",
    "\n",
    "print(usernames)"
   ]
  },
  {
   "cell_type": "markdown",
   "metadata": {},
   "source": [
    "### In-Class Practice 4.3: Modify Usernames with Range"
   ]
  },
  {
   "cell_type": "markdown",
   "metadata": {},
   "source": [
    "Write a <code style=\"color:#fff;background-color:#2f3d48;border-radius: 4px;border: 1px solid #737b83;padding: 2px 4px\">for</code> loop that uses <code style=\"color:#fff;background-color:#2f3d48;border-radius: 4px;border: 1px solid #737b83;padding: 2px 4px\">range()</code> to iterate over the positions in <code style=\"color:#fff;background-color:#2f3d48;border-radius: 4px;border: 1px solid #737b83;padding: 2px 4px\">usernames</code> to modify the list. Like you did in the previous quiz, change each name to be lowercase and replace spaces with underscores. After running your loop, this list:\n",
    "\n",
    "<code style=\"color:#fff;background-color:#2f3d48;border-radius: 4px;border: 1px solid #737b83;padding: 2px 4px\">usernames = [\"Joey Tribbiani\", \"Monica Geller\", \"Chandler Bing\", \"Phoebe Buffay\"]</code>\n",
    "\n",
    "should change to this:\n",
    "\n",
    "<code style=\"color:#fff;background-color:#2f3d48;border-radius: 4px;border: 1px solid #737b83;padding: 2px 4px\">usernames = [\"joey_tribbiani\", \"monica_geller\", \"chandler_bing\", \"phoebe_buffay\"]</code>"
   ]
  },
  {
   "cell_type": "code",
   "execution_count": 18,
   "metadata": {},
   "outputs": [
    {
     "name": "stdout",
     "output_type": "stream",
     "text": [
      "['joey_tribbiani', 'monica_geller', 'chandler_bing', 'phoebe_buffay']\n"
     ]
    }
   ],
   "source": [
    "usernames = [\"Joey Tribbiani\", \"Monica Geller\", \"Chandler Bing\", \"Phoebe Buffay\"]\n",
    "\n",
    "# write your for loop here\n",
    "# ================================================= #\n",
    "#               Put your code here                  #\n",
    "# ================================================= #\n",
    "for i in range(len(usernames)):\n",
    "    usernames[i] = usernames[i].lower().replace(\" \", \"_\")\n",
    "\n",
    "print(usernames)"
   ]
  },
  {
   "cell_type": "markdown",
   "metadata": {},
   "source": [
    "### ![homework](../materials/images/homework.png) Homework 4.1: Tag Counter"
   ]
  },
  {
   "cell_type": "markdown",
   "metadata": {},
   "source": [
    "Write a <code style=\"color:#fff;background-color:#2f3d48;border-radius: 4px;border: 1px solid #737b83;padding: 2px 4px\">for</code> loop that iterates over a list of strings, <code style=\"color:#fff;background-color:#2f3d48;border-radius: 4px;border: 1px solid #737b83;padding: 2px 4px\">tokens</code>, and counts how many of them are [XML tags](https://en.wikipedia.org/wiki/XML). XML is a data language similar to HTML. You can tell if a string is an XML tag if it begins with a left angle bracket `<` and ends with a right angle bracket `>`. Keep track of the number of tags using the variable count.\n",
    "\n",
    "You can assume that the list of strings will not contain empty strings."
   ]
  },
  {
   "cell_type": "code",
   "execution_count": 20,
   "metadata": {},
   "outputs": [],
   "source": [
    "tokens = ['<greeting>', 'Hello World!', '</greeting>']\n",
    "count = 0\n",
    "\n",
    "# ================================================= #\n",
    "#               Put your code here                  #\n",
    "# ================================================= #\n",
    "# write your for loop here\n",
    "\n",
    "\n",
    "print(count)"
   ]
  },
  {
   "cell_type": "markdown",
   "metadata": {},
   "source": [
    "### ![homework](../materials/images/homework.png) Homework 4.2: Create an HTML List"
   ]
  },
  {
   "cell_type": "markdown",
   "metadata": {},
   "source": [
    "Write some code, including a <code style=\"color:#fff;background-color:#2f3d48;border-radius: 4px;border: 1px solid #737b83;padding: 2px 4px\">for</code> loop, that iterates over a list of strings and creates a single string, <code style=\"color:#fff;background-color:#2f3d48;border-radius: 4px;border: 1px solid #737b83;padding: 2px 4px\">html_str</code>, which is an HTML list. For example, if the list is <code style=\"color:#fff;background-color:#2f3d48;border-radius: 4px;border: 1px solid #737b83;padding: 2px 4px\">items = ['first string', 'second string']</code>, printing <code style=\"color:#fff;background-color:#2f3d48;border-radius: 4px;border: 1px solid #737b83;padding: 2px 4px\">html_str</code> should output:\n",
    "\n",
    "```html\n",
    "<ul>\n",
    "<li>first string</li>\n",
    "<li>second string</li>\n",
    "</ul>\n",
    "```\n",
    "That is, the string's first line should be the opening tag `<ul>`. Following that is one line per element in the source list, surrounded by `<li>` and `</li>` tags. The final line of the string should be the closing tag `</ul>`."
   ]
  },
  {
   "cell_type": "code",
   "execution_count": 39,
   "metadata": {},
   "outputs": [
    {
     "name": "stdout",
     "output_type": "stream",
     "text": [
      "<ul>\n",
      "\n"
     ]
    }
   ],
   "source": [
    "items = ['first string', 'second string']\n",
    "html_str = \"<ul>\\n\"  # \"\\ n\" is the character that marks the end of the line, it does\n",
    "                     # the characters that are after it in html_str are on the next line\n",
    "\n",
    "# ================================================= #\n",
    "#               Put your code here                  #\n",
    "# ================================================= #\n",
    "\n",
    "\n",
    "print(html_str)"
   ]
  },
  {
   "cell_type": "markdown",
   "metadata": {},
   "source": [
    "## 5. Iterating Through Dictionaries with For Loops"
   ]
  },
  {
   "cell_type": "markdown",
   "metadata": {},
   "source": [
    "When you iterate through a dictionary using a <code style=\"color:#fff;background-color:#2f3d48;border-radius: 4px;border: 1px solid #737b83;padding: 2px 4px\">for</code> loop, doing it the normal way (<code style=\"color:#fff;background-color:#2f3d48;border-radius: 4px;border: 1px solid #737b83;padding: 2px 4px\">for n in some_dict</code>) will only give you access to the **keys** in the dictionary - which is what you'd want in some situations. In other cases, you'd want to iterate through both the **keys** and **values** in the dictionary. Let's see how this is done in an example. Consider this dictionary that uses names of actors as keys and their characters as values."
   ]
  },
  {
   "cell_type": "code",
   "execution_count": 22,
   "metadata": {},
   "outputs": [],
   "source": [
    "cast = {\"Jerry Seinfeld\": \"Jerry Seinfeld\", \"Julia Louis-Dreyfus\": \"Elaine Benes\",\n",
    "        \"Jason Alexander\": \"George Costanza\", \"Michael Richards\": \"Cosmo Kramer\"}"
   ]
  },
  {
   "cell_type": "markdown",
   "metadata": {},
   "source": [
    "Iterating through it in the usual way with a <code style=\"color:#fff;background-color:#2f3d48;border-radius: 4px;border: 1px solid #737b83;padding: 2px 4px\">for</code> loop would give you just the keys, as shown below:"
   ]
  },
  {
   "cell_type": "code",
   "execution_count": 28,
   "metadata": {},
   "outputs": [
    {
     "name": "stdout",
     "output_type": "stream",
     "text": [
      "Jerry Seinfeld\n",
      "Julia Louis-Dreyfus\n",
      "Jason Alexander\n",
      "Michael Richards\n"
     ]
    }
   ],
   "source": [
    "for key in cast:\n",
    "    print(key)"
   ]
  },
  {
   "cell_type": "markdown",
   "metadata": {},
   "source": [
    "If you wish to iterate through both keys and values, you can use the built-in method <code style=\"color:#fff;background-color:#2f3d48;border-radius: 4px;border: 1px solid #737b83;padding: 2px 4px\">items</code> like this:"
   ]
  },
  {
   "cell_type": "code",
   "execution_count": 25,
   "metadata": {},
   "outputs": [
    {
     "name": "stdout",
     "output_type": "stream",
     "text": [
      "Actor: Jerry Seinfeld    Role: Jerry Seinfeld\n",
      "Actor: Julia Louis-Dreyfus    Role: Elaine Benes\n",
      "Actor: Jason Alexander    Role: George Costanza\n",
      "Actor: Michael Richards    Role: Cosmo Kramer\n"
     ]
    }
   ],
   "source": [
    "for key, value in cast.items():\n",
    "    print(\"Actor: {}    Role: {}\".format(key, value))"
   ]
  },
  {
   "cell_type": "markdown",
   "metadata": {},
   "source": [
    "<code style=\"color:#fff;background-color:#2f3d48;border-radius: 4px;border: 1px solid #737b83;padding: 2px 4px\">items</code> is an awesome method that returns tuples of key, value pairs, which you can use to iterate over dictionaries in <code style=\"color:#fff;background-color:#2f3d48;border-radius: 4px;border: 1px solid #737b83;padding: 2px 4px\">for</code> loops."
   ]
  },
  {
   "cell_type": "markdown",
   "metadata": {},
   "source": [
    "### In-Class Practice 5.1: Fruit Basket\n",
    "You would like to count the number of fruits in your basket. In order to do this, you have the following dictionary and list of fruits. Use the dictionary and list to **count the total number of fruits**, but you do not want to count the other items in your basket."
   ]
  },
  {
   "cell_type": "code",
   "execution_count": 40,
   "metadata": {},
   "outputs": [
    {
     "name": "stdout",
     "output_type": "stream",
     "text": [
      "There are 0 fruits in the basket.\n"
     ]
    }
   ],
   "source": [
    "# You would like to count the number of fruits in your basket. \n",
    "# In order to do this, you have the following dictionary and list of\n",
    "# fruits.  Use the dictionary and list to count the total number\n",
    "# of fruits, but you do not want to count the other items in your basket.\n",
    "\n",
    "result = 0\n",
    "basket_items = {'apples': 4, 'oranges': 19, 'kites': 3, 'sandwiches': 8}\n",
    "fruits = ['apples', 'oranges', 'pears', 'peaches', 'grapes', 'bananas']\n",
    "\n",
    "# ================================================== #\n",
    "#            Iterate through the dictionary          #\n",
    "# ================================================== #\n",
    "# Hint: if the key is in the list of fruits, add the value \n",
    "# (number of fruits) to result\n",
    "\n",
    "\n",
    "\n",
    "print(\"There are {} fruits in the basket.\".format(result))"
   ]
  },
  {
   "cell_type": "markdown",
   "metadata": {},
   "source": [
    "**Count both the number of fruits and the number of items that are not fruits.**"
   ]
  },
  {
   "cell_type": "code",
   "execution_count": null,
   "metadata": {},
   "outputs": [],
   "source": [
    "fruit_count, not_fruit_count = 0, 0\n",
    "basket_items = {'apples': 4, 'oranges': 19, 'kites': 3, 'sandwiches': 8}\n",
    "fruits = ['apples', 'oranges', 'pears', 'peaches', 'grapes', 'bananas']\n",
    "\n",
    "# ================================================== #\n",
    "#            Iterate through the dictionary          #\n",
    "# ================================================== #\n",
    "\n",
    "\n",
    "print(\"The number of fruits is {}.  There are {} items that are not fruits.\".format(fruit_count, not_fruit_count))"
   ]
  },
  {
   "cell_type": "markdown",
   "metadata": {},
   "source": [
    "## 6. While Loops"
   ]
  },
  {
   "cell_type": "markdown",
   "metadata": {},
   "source": [
    "<code style=\"color:#fff;background-color:#2f3d48;border-radius: 4px;border: 1px solid #737b83;padding: 2px 4px\">For</code> loops are an example of \"definite iteration\" meaning that the loop's body is run a **predefined number of times**. This differs from \"indefinite iteration\" which is when a loop repeats an unknown number of times and ends when some condition is met, which is what happens in a <code style=\"color:#fff;background-color:#2f3d48;border-radius: 4px;border: 1px solid #737b83;padding: 2px 4px\">while</code> loop. Here's an example of a <code style=\"color:#fff;background-color:#2f3d48;border-radius: 4px;border: 1px solid #737b83;padding: 2px 4px\">while</code> loop."
   ]
  },
  {
   "cell_type": "code",
   "execution_count": 41,
   "metadata": {},
   "outputs": [],
   "source": [
    "card_deck = [4, 11, 8, 5, 13, 2, 8, 10]\n",
    "hand = []\n",
    "\n",
    "# adds the last element of the card_deck list to the hand list\n",
    "# until the values in hand add up to 17 or more\n",
    "while sum(hand) <= 17:\n",
    "    hand.append(card_deck.pop())\n",
    "    \n",
    "    "
   ]
  },
  {
   "cell_type": "markdown",
   "metadata": {},
   "source": [
    "This example features two new functions. <code style=\"color:#fff;background-color:#2f3d48;border-radius: 4px;border: 1px solid #737b83;padding: 2px 4px\">sum</code> returns the sum of the elements in a list, and <code style=\"color:#fff;background-color:#2f3d48;border-radius: 4px;border: 1px solid #737b83;padding: 2px 4px\">pop</code> is a list method that removes the last element from a list and returns it."
   ]
  },
  {
   "cell_type": "markdown",
   "metadata": {},
   "source": [
    "Components of a <code style=\"color:#fff;background-color:#2f3d48;border-radius: 4px;border: 1px solid #737b83;padding: 2px 4px\">While</code> Loop\n",
    "1. The first line starts with the <code style=\"color:#fff;background-color:#2f3d48;border-radius: 4px;border: 1px solid #737b83;padding: 2px 4px\">while</code> keyword, indicating this is a <code style=\"color:#fff;background-color:#2f3d48;border-radius: 4px;border: 1px solid #737b83;padding: 2px 4px\">while</code> loop.\n",
    "2. Following that is a condition to be checked. In this example, that's <code style=\"color:#fff;background-color:#2f3d48;border-radius: 4px;border: 1px solid #737b83;padding: 2px 4px\">sum(hand) &le; 17</code>.\n",
    "3. The <code style=\"color:#fff;background-color:#2f3d48;border-radius: 4px;border: 1px solid #737b83;padding: 2px 4px\">while</code> loop heading always ends with a colon <code style=\"color:#fff;background-color:#2f3d48;border-radius: 4px;border: 1px solid #737b83;padding: 2px 4px\">:</code>.\n",
    "4. Indented after this heading is the body of the <code style=\"color:#fff;background-color:#2f3d48;border-radius: 4px;border: 1px solid #737b83;padding: 2px 4px\">while</code> loop. If the condition for the <code style=\"color:#fff;background-color:#2f3d48;border-radius: 4px;border: 1px solid #737b83;padding: 2px 4px\">while</code> loop is true, the code lines in the loop's body will be executed.\n",
    "5. We then go back to the <code style=\"color:#fff;background-color:#2f3d48;border-radius: 4px;border: 1px solid #737b83;padding: 2px 4px\">while</code> heading line, and the condition is evaluated again. This process of checking the condition and then executing the loop repeats until the condition becomes false.\n",
    "6. When the condition becomes false, we move on to the line following the body of the loop, which will be unindented.\n",
    "\n",
    "The indented body of the loop should modify at least one variable in the test condition. If the value of the test condition never changes, the result is an infinite loop!"
   ]
  },
  {
   "cell_type": "markdown",
   "metadata": {},
   "source": [
    "### In-Class Practice 6.1: Factorials with While Loops"
   ]
  },
  {
   "cell_type": "markdown",
   "metadata": {},
   "source": [
    "Find the factorial of a number using a <code style=\"color:#fff;background-color:#2f3d48;border-radius: 4px;border: 1px solid #737b83;padding: 2px 4px\">while</code> loop.\n",
    "\n",
    "A **factorial** of a whole number is that number multiplied by every whole number between itself and 1. For example, 6 factorial (written \"6!\") equals 6 x 5 x 4 x 3 x 2 x 1 = 720. So 6! = 720.\n",
    "\n",
    "We can write a <code style=\"color:#fff;background-color:#2f3d48;border-radius: 4px;border: 1px solid #737b83;padding: 2px 4px\">while</code> loop to take any given number and figure out what its factorial is.\n",
    "\n",
    "Example: If <code style=\"color:#fff;background-color:#2f3d48;border-radius: 4px;border: 1px solid #737b83;padding: 2px 4px\">number</code> is 6, your code should compute and print the <code style=\"color:#fff;background-color:#2f3d48;border-radius: 4px;border: 1px solid #737b83;padding: 2px 4px\">product</code>, 720.\n",
    "\n"
   ]
  },
  {
   "cell_type": "code",
   "execution_count": null,
   "metadata": {},
   "outputs": [],
   "source": [
    "# Practice: number to find the factorial of\n",
    "number = 6   \n",
    "\n",
    "# start with our product equal to one\n",
    "product = 1\n",
    "\n",
    "# track the current number being multiplied\n",
    "current = 1\n",
    "\n",
    "# ================================================= #\n",
    "#               Put your code here                  #\n",
    "# ================================================= #\n",
    "# write your while loop here\n",
    "while  current <= number:\n",
    "    # multiply the product so far by the current number\n",
    "    product *= current\n",
    "    \n",
    "    # increment current with each iteration until it reaches number\n",
    "    current += 1\n",
    "\n",
    "\n",
    "# print the factorial of number\n",
    "print(product)"
   ]
  },
  {
   "cell_type": "markdown",
   "metadata": {},
   "source": [
    "### In-Class Practice 6.2: Factorials with For Loops"
   ]
  },
  {
   "cell_type": "markdown",
   "metadata": {},
   "source": [
    "Now use a <code style=\"color:#fff;background-color:#2f3d48;border-radius: 4px;border: 1px solid #737b83;padding: 2px 4px\">for</code> loop to find the factorial!\n",
    "\n",
    "It will now be great practice for you to try to revise the code you wrote above to find the factorial of a number, but this time, using a <code style=\"color:#fff;background-color:#2f3d48;border-radius: 4px;border: 1px solid #737b83;padding: 2px 4px\">for</code> loop. Try it in the code editor below!"
   ]
  },
  {
   "cell_type": "code",
   "execution_count": null,
   "metadata": {},
   "outputs": [],
   "source": [
    "# Practice: number to find the factorial of\n",
    "number = 6   \n",
    "\n",
    "# start with our product equal to one\n",
    "product = 1\n",
    "\n",
    "# ================================================= #\n",
    "#               Put your code here                  #\n",
    "# ================================================= #\n",
    "# calculate factorial of number with a for loop\n",
    "# for num in range(2, number + 1):\n",
    "#     product *= num\n",
    "\n",
    "\n",
    "# print the factorial of number\n",
    "print(product)"
   ]
  },
  {
   "cell_type": "markdown",
   "metadata": {},
   "source": [
    "## 7. Break and Continue\n",
    "\n",
    "Sometimes we need more control over when a loop should end, or skip an iteration. In these cases, we use the <code style=\"color:#fff;background-color:#2f3d48;border-radius: 4px;border: 1px solid #737b83;padding: 2px 4px\">break</code> and <code style=\"color:#fff;background-color:#2f3d48;border-radius: 4px;border: 1px solid #737b83;padding: 2px 4px\">continue</code> keywords, which can be used in both <code style=\"color:#fff;background-color:#2f3d48;border-radius: 4px;border: 1px solid #737b83;padding: 2px 4px\">for</code> and <code style=\"color:#fff;background-color:#2f3d48;border-radius: 4px;border: 1px solid #737b83;padding: 2px 4px\">while</code> loops.\n",
    "\n",
    "* <code style=\"color:#fff;background-color:#2f3d48;border-radius: 4px;border: 1px solid #737b83;padding: 2px 4px\">break</code> terminates a loop\n",
    "* <code style=\"color:#fff;background-color:#2f3d48;border-radius: 4px;border: 1px solid #737b83;padding: 2px 4px\">continue</code> skips one iteration of a loop"
   ]
  },
  {
   "cell_type": "code",
   "execution_count": 26,
   "metadata": {},
   "outputs": [
    {
     "name": "stdout",
     "output_type": "stream",
     "text": [
      "Example 1\n",
      "current weight: 0\n",
      "   adding bananas (15)\n",
      "current weight: 15\n",
      "   adding mattresses (24)\n",
      "current weight: 39\n",
      "   adding dog kennels (42)\n",
      "current weight: 81\n",
      "   adding machine (120)\n",
      "current weight: 201\n",
      "   breaking loop now!\n",
      "\n",
      "Final Weight: 201\n",
      "Final Items: ['bananas', 'mattresses', 'dog kennels', 'machine']\n",
      "\n",
      "Example 2\n",
      "current weight: 0\n",
      "   adding bananas (15)\n",
      "current weight: 15\n",
      "   adding mattresses (24)\n",
      "current weight: 39\n",
      "   adding dog kennels (42)\n",
      "current weight: 81\n",
      "   skipping machine (120)\n",
      "current weight: 81\n",
      "   adding cheeses (5)\n",
      "\n",
      "Final Weight: 86\n",
      "Final Items: ['bananas', 'mattresses', 'dog kennels', 'cheeses']\n"
     ]
    }
   ],
   "source": [
    "# Example: Break and Continue\n",
    "manifest = [(\"bananas\", 15), (\"mattresses\", 24), (\"dog kennels\", 42), \n",
    "            (\"machine\", 120), (\"cheeses\", 5)]\n",
    "\n",
    "# the code breaks the loop when weight exceeds or reaches the limit\n",
    "print(\"Example 1\")\n",
    "weight = 0\n",
    "items = []\n",
    "for cargo_name, cargo_weight in manifest:\n",
    "    print(\"current weight: {}\".format(weight))\n",
    "    if weight >= 100:\n",
    "        print(\"   breaking loop now!\")\n",
    "        break\n",
    "    else:\n",
    "        print(\"   adding {} ({})\".format(cargo_name, cargo_weight))\n",
    "        items.append(cargo_name)\n",
    "        weight += cargo_weight\n",
    "\n",
    "print(\"\\nFinal Weight: {}\".format(weight))\n",
    "print(\"Final Items: {}\".format(items))\n",
    "\n",
    "# 1. skips an iteration when adding an item would exceed the limit\n",
    "# 2. breaks the loop if weight is exactly the value of the limit\n",
    "print(\"\\nExample 2\")\n",
    "weight = 0\n",
    "items = []\n",
    "for cargo_name, cargo_weight in manifest:\n",
    "    print(\"current weight: {}\".format(weight))\n",
    "    if weight >= 100:\n",
    "        print(\"   breaking from the loop now!\")\n",
    "        break\n",
    "    elif weight + cargo_weight > 100:\n",
    "        print(\"   skipping {} ({})\".format(cargo_name, cargo_weight))\n",
    "        continue\n",
    "    else:\n",
    "        print(\"   adding {} ({})\".format(cargo_name, cargo_weight))\n",
    "        items.append(cargo_name)\n",
    "        weight += cargo_weight\n",
    "\n",
    "print(\"\\nFinal Weight: {}\".format(weight))\n",
    "print(\"Final Items: {}\".format(items))"
   ]
  },
  {
   "cell_type": "markdown",
   "metadata": {},
   "source": [
    "## *8. List Comprehensions\n",
    "In Python, you can create lists really quickly and concisely with **list comprehensions**. This example from earlier:"
   ]
  },
  {
   "cell_type": "code",
   "execution_count": 48,
   "metadata": {},
   "outputs": [],
   "source": [
    "capitalized_cities = []\n",
    "for city in cities:\n",
    "    capitalized_cities.append(city.title())"
   ]
  },
  {
   "cell_type": "markdown",
   "metadata": {},
   "source": [
    "can be reduced to:"
   ]
  },
  {
   "cell_type": "code",
   "execution_count": 49,
   "metadata": {},
   "outputs": [],
   "source": [
    "capitalized_cities = [city.title() for city in cities]"
   ]
  },
  {
   "cell_type": "markdown",
   "metadata": {},
   "source": [
    "List comprehensions allow us to create a list using a <code style=\"color:#fff;background-color:#2f3d48;border-radius: 4px;border: 1px solid #737b83;padding: 2px 4px\">for</code> loop in one step.\n",
    "\n",
    "You create a list comprehension with brackets <code style=\"color:#fff;background-color:#2f3d48;border-radius: 4px;border: 1px solid #737b83;padding: 2px 4px\">[]</code>, including an expression to evaluate for each element in an iterable. This list comprehension above calls <code style=\"color:#fff;background-color:#2f3d48;border-radius: 4px;border: 1px solid #737b83;padding: 2px 4px\">city.title()</code> for each element <code style=\"color:#fff;background-color:#2f3d48;border-radius: 4px;border: 1px solid #737b83;padding: 2px 4px\">city</code> in <code style=\"color:#fff;background-color:#2f3d48;border-radius: 4px;border: 1px solid #737b83;padding: 2px 4px\">cities</code>, to create each element in the new list, <code style=\"color:#fff;background-color:#2f3d48;border-radius: 4px;border: 1px solid #737b83;padding: 2px 4px\">capitalized_cities</code>."
   ]
  },
  {
   "cell_type": "markdown",
   "metadata": {},
   "source": [
    "### Conditionals in List Comprehensions\n",
    "You can also add **conditionals** to list comprehensions (listcomps). After the iterable, you can use the <code style=\"color:#fff;background-color:#2f3d48;border-radius: 4px;border: 1px solid #737b83;padding: 2px 4px\">if</code> keyword to check a condition in each iteration."
   ]
  },
  {
   "cell_type": "code",
   "execution_count": 56,
   "metadata": {},
   "outputs": [],
   "source": [
    "squares = [x**2 for x in range(9) if x % 2 == 0]\n",
    "\n"
   ]
  },
  {
   "cell_type": "markdown",
   "metadata": {},
   "source": [
    "The code above sets <code style=\"color:#fff;background-color:#2f3d48;border-radius: 4px;border: 1px solid #737b83;padding: 2px 4px\">squares</code> equal to the list [0, 4, 16, 36, 64], as x to the power of 2 is only evaluated if x is even. If you want to add an <code style=\"color:#fff;background-color:#2f3d48;border-radius: 4px;border: 1px solid #737b83;padding: 2px 4px\">else</code>, you will get a syntax error doing this."
   ]
  },
  {
   "cell_type": "code",
   "execution_count": 58,
   "metadata": {},
   "outputs": [
    {
     "ename": "SyntaxError",
     "evalue": "invalid syntax (<ipython-input-58-0d53fcb29c35>, line 1)",
     "output_type": "error",
     "traceback": [
      "\u001b[1;36m  File \u001b[1;32m\"<ipython-input-58-0d53fcb29c35>\"\u001b[1;36m, line \u001b[1;32m1\u001b[0m\n\u001b[1;33m    squares = [x**2 for x in range(9) if x % 2 == 0 else x + 3]\u001b[0m\n\u001b[1;37m                                                    ^\u001b[0m\n\u001b[1;31mSyntaxError\u001b[0m\u001b[1;31m:\u001b[0m invalid syntax\n"
     ]
    }
   ],
   "source": [
    "squares = [x**2 for x in range(9) if x % 2 == 0 else x + 3]"
   ]
  },
  {
   "cell_type": "markdown",
   "metadata": {},
   "source": [
    "If you would like to add <code style=\"color:#fff;background-color:#2f3d48;border-radius: 4px;border: 1px solid #737b83;padding: 2px 4px\">else</code>, you have to move the conditionals to the beginning of the listcomp, right after the expression, like this."
   ]
  },
  {
   "cell_type": "code",
   "execution_count": 59,
   "metadata": {},
   "outputs": [],
   "source": [
    "squares = [x**2 if x % 2 == 0 else x + 3 for x in range(9)]"
   ]
  },
  {
   "cell_type": "markdown",
   "metadata": {},
   "source": [
    "List comprehensions are not found in other languages, but are very common in Python."
   ]
  }
 ],
 "metadata": {
  "kernelspec": {
   "display_name": "Python 3",
   "language": "python",
   "name": "python3"
  },
  "language_info": {
   "codemirror_mode": {
    "name": "ipython",
    "version": 3
   },
   "file_extension": ".py",
   "mimetype": "text/x-python",
   "name": "python",
   "nbconvert_exporter": "python",
   "pygments_lexer": "ipython3",
   "version": "3.8.5"
  }
 },
 "nbformat": 4,
 "nbformat_minor": 4
}
