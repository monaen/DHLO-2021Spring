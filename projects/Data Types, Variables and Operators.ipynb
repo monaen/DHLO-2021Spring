{
 "cells": [
  {
   "cell_type": "markdown",
   "id": "extreme-wayne",
   "metadata": {},
   "source": [
    "# Data Types, Variables and Operators"
   ]
  },
  {
   "cell_type": "markdown",
   "id": "cathedral-cartoon",
   "metadata": {},
   "source": [
    "In this script, we will introduce data types, variables and basic operators used in Python. Having a firm grasp on these building blocks will provide a strong foundation for future classes and essential skills to continue programming beyond this lesson. You'll be seeing this print function `print()` pretty often during this class. It helps us see what's going on in our code. First, let's begin with learning the data types in Python!\n",
    "\n",
    "## 1. Data Types\n",
    "There are many data types used in Python. Some commonly used types are listed below:\n",
    "\n",
    "* Integers\n",
    "* Floats\n",
    "* Booleans\n",
    "* Strings\n",
    "* Lists\n",
    "* Tuples\n",
    "* Sets\n",
    "* Dictionaries\n",
    "\n",
    "The data type of a number or a variable indicates how it is stored in Python. To check the data type, you will also need another Python build-in function `type()` which returns the data type of the input."
   ]
  },
  {
   "cell_type": "code",
   "execution_count": null,
   "id": "mobile-absorption",
   "metadata": {},
   "outputs": [],
   "source": [
    "# Integers\n",
    "# =========\n",
    "\n",
    "# Integers are quiet common in python. Any natural number in math are\n",
    "# stored as integers in python, e.g.,\n",
    "\n",
    "# ----------------------------------------------------------------------#\n",
    "#        You can uncomment the following code to see the results        #\n",
    "#        The hotkey to uncomment: Ctrl + /                              #\n",
    "# --------------------------------------------------------------------- #\n",
    "# print(123456)\n",
    "# print(type(123456))\n",
    "# print(type(3242))"
   ]
  },
  {
   "cell_type": "code",
   "execution_count": null,
   "id": "vanilla-fitting",
   "metadata": {},
   "outputs": [],
   "source": [
    "# Floats\n",
    "# =========\n",
    "\n",
    "# Floats are commonly used to represent decimal number, e.g.,\n",
    "\n",
    "# ----------------------------------------------------------------------#\n",
    "#        You can uncomment the following code to see the results        #\n",
    "#        The hotkey to uncomment: Ctrl + /                              #\n",
    "# --------------------------------------------------------------------- #\n",
    "# print(12.3425)\n",
    "# print(type(12.3425))\n",
    "# print(type(324.2))"
   ]
  },
  {
   "cell_type": "code",
   "execution_count": 3,
   "id": "controversial-update",
   "metadata": {},
   "outputs": [],
   "source": [
    "# Booleans\n",
    "# =========\n",
    "\n",
    "# A boolean only have two values in Python, that is 'True' or 'False'. For\n",
    "# example,\n",
    "\n",
    "# ----------------------------------------------------------------------#\n",
    "#        You can uncomment the following code to see the results        #\n",
    "#        The hotkey to uncomment: Ctrl + /                              #\n",
    "# --------------------------------------------------------------------- #\n",
    "# print(True)\n",
    "# print(type(True))\n",
    "# print(type(False))"
   ]
  },
  {
   "cell_type": "code",
   "execution_count": 4,
   "id": "sitting-acting",
   "metadata": {},
   "outputs": [],
   "source": [
    "# Strings\n",
    "# =========\n",
    "\n",
    "# A string is a number of letters in the Single Quotation Marks or Double\n",
    "# Quotation Marks, e.g.,\n",
    "\n",
    "# ----------------------------------------------------------------------#\n",
    "#        You can uncomment the following code to see the results        #\n",
    "#        The hotkey to uncomment: Ctrl + /                              #\n",
    "# --------------------------------------------------------------------- #\n",
    "# print('Hello World!')\n",
    "# print(type('Hello World!'))\n",
    "# print(type(\"Hello World!\"))\n",
    "# print(type('Happy Birthday!!!'))"
   ]
  },
  {
   "cell_type": "code",
   "execution_count": 5,
   "id": "posted-wages",
   "metadata": {},
   "outputs": [],
   "source": [
    "# Lists\n",
    "# =========\n",
    "\n",
    "# A list in Python can store a list of different types of elements in \n",
    "# Square Brackets, e.g.,\n",
    "\n",
    "# ----------------------------------------------------------------------#\n",
    "#        You can uncomment the following code to see the results        #\n",
    "#        The hotkey to uncomment: Ctrl + /                              #\n",
    "# --------------------------------------------------------------------- #\n",
    "# print(['hello world', 2321, 4365.76, True])\n",
    "# print(type(['hello world', 2321, 4365.76, True]))]"
   ]
  },
  {
   "cell_type": "code",
   "execution_count": 6,
   "id": "threaded-luxury",
   "metadata": {},
   "outputs": [],
   "source": [
    "# Tuples\n",
    "# =========\n",
    "\n",
    "# A tuple stores a list of elements within Parenthesis, e.g.,\n",
    "\n",
    "# ----------------------------------------------------------------------#\n",
    "#        You can uncomment the following code to see the results        #\n",
    "#        The hotkey to uncomment: Ctrl + /                              #\n",
    "# --------------------------------------------------------------------- #\n",
    "# print(('hello world', 34, 55.234, False))\n",
    "# print(type(('hello world', 34, 55.234, False)))"
   ]
  },
  {
   "cell_type": "markdown",
   "id": "introductory-radar",
   "metadata": {},
   "source": [
    "The main difference between **lists** and **tuples** is the fact that **lists are mutable** whereas **tuples are immutable**."
   ]
  },
  {
   "cell_type": "code",
   "execution_count": 7,
   "id": "extended-distributor",
   "metadata": {},
   "outputs": [
    {
     "name": "stdout",
     "output_type": "stream",
     "text": [
      "apples\n",
      "apples\n"
     ]
    }
   ],
   "source": [
    "fruits_list = [\"apples\", \"bananas\", \"oranges\"]\n",
    "print(fruits_list[0])  # print the first item of fruits_list\n",
    "\n",
    "fruits_tuple = (\"apples\", \"bananas\", \"oranges\")\n",
    "print(fruits_tuple[0])  # print the first item of fruits_tuple\n",
    "\n",
    "\n",
    "# change the value of the first item in fruits_list\n",
    "\n",
    "# ----------------------------------------------------------------------#\n",
    "#        You can uncomment the following code to see the results        #\n",
    "# --------------------------------------------------------------------- #\n",
    "# fruits_list[0] = 456\n",
    "# print(fruits_list[0])\n",
    "\n",
    "\n",
    "# change the value of the first item in fruits_tuple\n",
    "\n",
    "# ----------------------------------------------------------------------#\n",
    "#        You can uncomment the following code to see the results        #\n",
    "# --------------------------------------------------------------------- #\n",
    "# fruits_tuple[0] = 456"
   ]
  },
  {
   "cell_type": "markdown",
   "id": "ambient-flavor",
   "metadata": {},
   "source": [
    "### Difference between lists and tuples\n",
    "\n",
    "| Lists | Tuples |\n",
    "|------|-------|\n",
    "|Lists are mutable | Tuple are immutable |\n",
    "|Implication of iterations is Time-consuming   |   Implication of iterations is comparatively Faster |\n",
    "|The list is better for performing operations, such as insertion and deletion   |   Tuple data type is appropriate for accessing the elements |\n",
    "|Lists consume more memory    |   Tuple consume less memory as compared to the list |\n",
    "|Lists have several built-in methods   |   Tuple does no have must built-in methods |\n",
    "|The unexpected changes and errors are more likely to occur   |   In tuple, it is hard to take place |"
   ]
  },
  {
   "cell_type": "code",
   "execution_count": 8,
   "id": "wound-tamil",
   "metadata": {},
   "outputs": [],
   "source": [
    "# Sets\n",
    "# =========\n",
    "\n",
    "# A set is a data type for mutable unordered collections of unique \n",
    "# elements. One application of a set is to quickly remove duplicates\n",
    "# from a list.\n",
    "\n",
    "# ----------------------------------------------------------------------#\n",
    "#        You can uncomment the following code to see the results        #\n",
    "#        The hotkey to uncomment: Ctrl + /                              #\n",
    "# --------------------------------------------------------------------- #\n",
    "# print({'hello world', 34, 55.234, False})\n",
    "# print(type({'hello world', 34, 55.234, False}))"
   ]
  },
  {
   "cell_type": "code",
   "execution_count": 9,
   "id": "ambient-timothy",
   "metadata": {},
   "outputs": [],
   "source": [
    "# Dictionaries\n",
    "# =========\n",
    "\n",
    "# A dictionary is a mutable data type that stores mappings of unique keys\n",
    "# to values. Here's a dictionary that stores elements and their atomic\n",
    "# numbers.\n",
    "\n",
    "# ----------------------------------------------------------------------#\n",
    "#        You can uncomment the following code to see the results        #\n",
    "#        The hotkey to uncomment: Ctrl + /                              #\n",
    "# --------------------------------------------------------------------- #\n",
    "# print({\"Helen\": 18, \"David\": 22, \"Mark\": 28})\n",
    "# print(type({\"Helen\": 18, \"David\": 22, \"Mark\": 28}))"
   ]
  },
  {
   "cell_type": "markdown",
   "id": "simplified-armstrong",
   "metadata": {},
   "source": [
    "## 2. Arithmetic operators\n",
    "\n",
    "* `+`: Addition\n",
    "* `-`: Subtraction\n",
    "* `*`: Multiplication (symbol: asterisk)\n",
    "* `/`: Division (symbol: forward slash)\n",
    "* `%`: Mod (the remainder after dividing)\n",
    "* `**`: Exponentiation (note that `^` does not do this operation, as you might have seen in other languages)\n",
    "* `//`: Divides and rounds down to the nearest integer\n",
    "\n",
    "The usual order of mathematical operations holds in Python.\n",
    "\n",
    "Bitwise operators are special operators in Python that you can learn more about [here](https://wiki.python.org/moin/BitwiseOperators) if you'd like."
   ]
  },
  {
   "cell_type": "code",
   "execution_count": 10,
   "id": "aerial-indonesia",
   "metadata": {},
   "outputs": [],
   "source": [
    "# ----------------------------------------------------------------------#\n",
    "#        You can uncomment the following code to see the results        #\n",
    "#        The hotkey to uncomment: Ctrl + /                              #\n",
    "# --------------------------------------------------------------------- #\n",
    "\n",
    "# print(12 + 34 + 45)  # addition\n",
    "# print(34 - 5)        # subtraction\n",
    "# print(3 * 4)         # multiplication\n",
    "# print(9 / 3)         # division\n",
    "# print(8 % 3)         # mod\n",
    "# print(3 ** 3)        # exponentiation\n",
    "# print(9 // 3)        # integer division"
   ]
  },
  {
   "cell_type": "markdown",
   "id": "divided-cradle",
   "metadata": {},
   "source": [
    "###  Example 2.1\n",
    "\n",
    "Quiz: Average Electricity Bill\n",
    "It's time to try a calculation in Python!\n",
    "\n",
    "My electricity bills for the last three months have been `$23`, `$32` and `$64`. What is the average monthly electricity bill over the three month period? Write an expression to calculate the mean, and use `print()` to view the result.\n",
    "\n"
   ]
  },
  {
   "cell_type": "code",
   "execution_count": 11,
   "id": "nuclear-despite",
   "metadata": {},
   "outputs": [
    {
     "name": "stdout",
     "output_type": "stream",
     "text": [
      "\n"
     ]
    }
   ],
   "source": [
    "# Write an expression that calculates the average of 23, 32 and 64\n",
    "# Place the expression in this print statement\n",
    "print()"
   ]
  },
  {
   "cell_type": "markdown",
   "id": "above-equality",
   "metadata": {},
   "source": [
    "### Example 2.2\n",
    "\n",
    "* Code Formatting\n",
    "\n",
    "\n",
    "Which of these lines of Python code are well formatted? How would you improve the readability of the codes that don't use good formatting? (Choose all that apply)\n",
    "\n",
    "* [ ] `print(((3+ 32))+ -15//2)`\n",
    "* [ ] `print((17 - 6)%(5 + 2))`\n",
    "* [ ] `print(4/2 - 7*7)`\n",
    "\n",
    "<!-- **Solution**:\n",
    "* [ ] `print(((3+ 32))+ -15//2)`\n",
    "* [x] `print((17 - 6)%(5 + 2))`\n",
    "* [x] `print(4/2 - 7*7)` -->"
   ]
  },
  {
   "cell_type": "markdown",
   "id": "abandoned-message",
   "metadata": {},
   "source": [
    "## 3. Variables"
   ]
  },
  {
   "cell_type": "markdown",
   "id": "floating-savings",
   "metadata": {},
   "source": [
    "From this section, we will have look at **variables** in Python. Understanding how to perform arithmetic in Python is useful, but understanding how to use variables can turn Python into more than just a calculator. Using variables, as opposed to just raw numbers, has many advantages. Let's get started. Creating a new variable in Python is simple."
   ]
  },
  {
   "cell_type": "code",
   "execution_count": 12,
   "id": "known-strip",
   "metadata": {},
   "outputs": [],
   "source": [
    "mv_population = 74728"
   ]
  },
  {
   "cell_type": "markdown",
   "id": "unexpected-democrat",
   "metadata": {},
   "source": [
    "The variable name in this example is **mv_population**. The equal sign `=` is the assignment operator and the value of the variable is **74,728**. This assigns the item on the right to the name on the left.\n",
    "\n",
    "In any case, whatever term is on the left side, is now a name for whatever value is on the right side. Once a value has been assigned to a variable name, you can access the value from the variable name. Let's see another example,"
   ]
  },
  {
   "cell_type": "code",
   "execution_count": 13,
   "id": "swiss-charger",
   "metadata": {},
   "outputs": [
    {
     "name": "stdout",
     "output_type": "stream",
     "text": [
      "2\n"
     ]
    }
   ],
   "source": [
    "x = 2\n",
    "y = x\n",
    "print(y)"
   ]
  },
  {
   "cell_type": "markdown",
   "id": "instrumental-missile",
   "metadata": {},
   "source": [
    "The first line here defines `x` as `2`, and the second line defines `y` as the value of `x` which is printed in the third line. Notice we can use a variable's name to access its value. In this line, we only needed the name of the variable `x` to define `y` as its value `2`. Similarly, in this next line, we were able to print the value of `y` just by using the name `y`. If you try to access the value of a variable that was never defined, you'll get this error."
   ]
  },
  {
   "cell_type": "code",
   "execution_count": 14,
   "id": "efficient-airplane",
   "metadata": {},
   "outputs": [
    {
     "ename": "NameError",
     "evalue": "name 'z' is not defined",
     "output_type": "error",
     "traceback": [
      "\u001b[1;31m---------------------------------------------------------------------------\u001b[0m",
      "\u001b[1;31mNameError\u001b[0m                                 Traceback (most recent call last)",
      "\u001b[1;32m<ipython-input-14-5f30900c8372>\u001b[0m in \u001b[0;36m<module>\u001b[1;34m\u001b[0m\n\u001b[0;32m      1\u001b[0m \u001b[0mx\u001b[0m \u001b[1;33m=\u001b[0m \u001b[1;36m2\u001b[0m\u001b[1;33m\u001b[0m\u001b[1;33m\u001b[0m\u001b[0m\n\u001b[1;32m----> 2\u001b[1;33m \u001b[0my\u001b[0m \u001b[1;33m=\u001b[0m \u001b[0mz\u001b[0m\u001b[1;33m\u001b[0m\u001b[1;33m\u001b[0m\u001b[0m\n\u001b[0m\u001b[0;32m      3\u001b[0m \u001b[0mprint\u001b[0m\u001b[1;33m(\u001b[0m\u001b[0my\u001b[0m\u001b[1;33m)\u001b[0m\u001b[1;33m\u001b[0m\u001b[1;33m\u001b[0m\u001b[0m\n",
      "\u001b[1;31mNameError\u001b[0m: name 'z' is not defined"
     ]
    }
   ],
   "source": [
    "x = 2\n",
    "y = z\n",
    "print(y)"
   ]
  },
  {
   "cell_type": "markdown",
   "id": "native-blues",
   "metadata": {},
   "source": [
    "It's explained pretty clearly in the error message, name `z` was not defined."
   ]
  },
  {
   "cell_type": "markdown",
   "id": "coral-scottish",
   "metadata": {},
   "source": [
    "* Multiple assignment\n",
    "Python support multiple assignment within one line of code. For example,"
   ]
  },
  {
   "cell_type": "code",
   "execution_count": null,
   "id": "fifteen-quest",
   "metadata": {},
   "outputs": [],
   "source": [
    "x1 = 3\n",
    "y1 = 4\n",
    "z1 = 5\n",
    "print(x1, y1, z1)"
   ]
  },
  {
   "cell_type": "code",
   "execution_count": null,
   "id": "overall-tiffany",
   "metadata": {},
   "outputs": [],
   "source": [
    "x2, y2, z2 = 3, 4, 5\n",
    "print(x2, y2, z2)"
   ]
  },
  {
   "cell_type": "markdown",
   "id": "african-harassment",
   "metadata": {},
   "source": [
    "However, the above isn't a great way to assign variables in most cases, because our variable names should be descriptive of the values they hold.\n",
    "\n",
    "Besides writing variable names that are descriptive, there are a few things to watch out for when naming variables in Python.\n",
    "\n",
    "1. Only use ordinary letters, numbers and underscores in your variable names. They can’t have spaces, and need to start with a letter or underscore.\n",
    "\n",
    "2. You can’t use reserved words or built-in identifiers that have important purposes in Python, which you’ll learn about throughout this course. A list of python reserved words is described here. Creating names that are descriptive of the values often will help you avoid using any of these words. A quick table of these words is also available below.\n",
    "\n",
    "3. The pythonic way to name variables is to use all lowercase letters and underscores to separate words.\n",
    "\n",
    "We will come discuss the rules when coding with Python in the script `Coding Rules.ipynb`."
   ]
  },
  {
   "cell_type": "markdown",
   "id": "august-radar",
   "metadata": {},
   "source": [
    "## 4. Assignment Operators"
   ]
  },
  {
   "cell_type": "markdown",
   "id": "cultural-citizenship",
   "metadata": {},
   "source": [
    "We have already introduce the equal sign `=` as an assignment operator. In Python, however, there are many different assigment operators.\n",
    "\n",
    "1. `=` assigns the value on the right side to the variable on the left side.\n",
    "2. `+=` e.g., `x += 2` is equivalent to `x = x + 2`\n",
    "3. `-=` e.g., `x -= 2` is equivalent to `x = x - 2`"
   ]
  },
  {
   "cell_type": "code",
   "execution_count": null,
   "id": "later-valuation",
   "metadata": {},
   "outputs": [],
   "source": [
    "# Example to explore different assignment operators\n",
    "x = 2\n",
    "x = x + 5\n",
    "print(x)\n",
    "\n",
    "# 1. plus-equal assignment operator\n",
    "# ----------------------------------------------------------------------#\n",
    "#        You can uncomment the following code to see the results        #\n",
    "# --------------------------------------------------------------------- #\n",
    "# x = 2\n",
    "# x += 5\n",
    "# print(x)\n",
    "\n",
    "\n",
    "# 2. minor-equal assignment operator\n",
    "# ----------------------------------------------------------------------#\n",
    "#        You can uncomment the following code to see the results        #\n",
    "# --------------------------------------------------------------------- #\n",
    "# x = 2\n",
    "# x -= 5\n",
    "# print(x)\n",
    "\n",
    "\n",
    "# 3. multiply-equal assignment operator\n",
    "# ----------------------------------------------------------------------#\n",
    "#        You can uncomment the following code to see the results        #\n",
    "# --------------------------------------------------------------------- #\n",
    "# x = 2\n",
    "# x *= 5\n",
    "# print(x)\n",
    "\n",
    "\n",
    "# 4. divide-equal assignment operator\n",
    "# ----------------------------------------------------------------------#\n",
    "#        You can uncomment the following code to see the results        #\n",
    "# --------------------------------------------------------------------- #\n",
    "# x = 2\n",
    "# x /= 5\n",
    "# print(x)"
   ]
  },
  {
   "cell_type": "markdown",
   "id": "deadly-village",
   "metadata": {},
   "source": [
    "For your convenience, we gather the information of all the commonly-used **arithmetic** and **assignment operators** and provide an information page. Students can refer to [this page](https://monaen.github.io/DHLO-2021Spring/arithmetic_operators) if you want to know more about the operators.\n",
    "\n",
    "* Arithmetic Operators: [https://monaen.github.io/DHLO-2021Spring/arithmetic_operators](https://monaen.github.io/DHLO-2021Spring/arithmetic_operators)"
   ]
  },
  {
   "cell_type": "code",
   "execution_count": null,
   "id": "opponent-mobility",
   "metadata": {},
   "outputs": [],
   "source": []
  }
 ],
 "metadata": {
  "kernelspec": {
   "display_name": "Python 3",
   "language": "python",
   "name": "python3"
  },
  "language_info": {
   "codemirror_mode": {
    "name": "ipython",
    "version": 3
   },
   "file_extension": ".py",
   "mimetype": "text/x-python",
   "name": "python",
   "nbconvert_exporter": "python",
   "pygments_lexer": "ipython3",
   "version": "3.8.8"
  }
 },
 "nbformat": 4,
 "nbformat_minor": 5
}
