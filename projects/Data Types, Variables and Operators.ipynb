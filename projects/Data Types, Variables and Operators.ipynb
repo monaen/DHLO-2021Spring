{
 "cells": [
  {
   "cell_type": "markdown",
   "metadata": {},
   "source": [
    "# Data Types, Variables and Operators"
   ]
  },
  {
   "cell_type": "markdown",
   "metadata": {},
   "source": [
    "In this script, we will introduce data types, variables and basic operators used in Python. Having a firm grasp on these building blocks will provide a strong foundation for future classes and essential skills to continue programming beyond this lesson. You'll be seeing this print function `print()` pretty often during this class. It helps us see what's going on in our code. First, let's begin with learning the data types in Python!\n",
    "\n",
    "## 1. Data Types\n",
    "There are many data types used in Python. Some commonly used types are listed below:\n",
    "\n",
    "* Integers\n",
    "* Floats\n",
    "* Booleans\n",
    "* Strings\n",
    "* Lists\n",
    "* Tuples\n",
    "* Sets\n",
    "* Dictionaries\n",
    "\n",
    "The data type of a number or a variable indicates how it is stored in Python. To check the data type, you will also need another Python build-in function `type()` which returns the data type of the input."
   ]
  },
  {
   "cell_type": "code",
   "execution_count": 1,
   "metadata": {},
   "outputs": [],
   "source": [
    "# Integers\n",
    "# =========\n",
    "\n",
    "# Integers are quiet common in python. Any natural number in math are\n",
    "# stored as integers in python, e.g.,\n",
    "\n",
    "# ----------------------------------------------------------------------#\n",
    "#        You can uncomment the following code to see the results        #\n",
    "#        The hotkey to uncomment: Ctrl + /                              #\n",
    "# --------------------------------------------------------------------- #\n",
    "# print(123456)\n",
    "# print(type(123456))\n",
    "# print(type(3242))"
   ]
  },
  {
   "cell_type": "code",
   "execution_count": 2,
   "metadata": {},
   "outputs": [],
   "source": [
    "# Floats\n",
    "# =========\n",
    "\n",
    "# Floats are commonly used to represent decimal number, e.g.,\n",
    "\n",
    "# ----------------------------------------------------------------------#\n",
    "#        You can uncomment the following code to see the results        #\n",
    "#        The hotkey to uncomment: Ctrl + /                              #\n",
    "# --------------------------------------------------------------------- #\n",
    "# print(12.3425)\n",
    "# print(type(12.3425))\n",
    "# print(type(324.2))"
   ]
  },
  {
   "cell_type": "code",
   "execution_count": 3,
   "metadata": {},
   "outputs": [],
   "source": [
    "# Booleans\n",
    "# =========\n",
    "\n",
    "# A boolean only have two values in Python, that is 'True' or 'False'. For\n",
    "# example,\n",
    "\n",
    "# ----------------------------------------------------------------------#\n",
    "#        You can uncomment the following code to see the results        #\n",
    "#        The hotkey to uncomment: Ctrl + /                              #\n",
    "# --------------------------------------------------------------------- #\n",
    "# print(True)\n",
    "# print(type(True))\n",
    "# print(type(False))"
   ]
  },
  {
   "cell_type": "code",
   "execution_count": 4,
   "metadata": {},
   "outputs": [],
   "source": [
    "# Strings\n",
    "# =========\n",
    "\n",
    "# A string is a number of letters in the Single Quotation Marks or Double\n",
    "# Quotation Marks, e.g.,\n",
    "\n",
    "# ----------------------------------------------------------------------#\n",
    "#        You can uncomment the following code to see the results        #\n",
    "#        The hotkey to uncomment: Ctrl + /                              #\n",
    "# --------------------------------------------------------------------- #\n",
    "# print('Hello World!')\n",
    "# print(type('Hello World!'))\n",
    "# print(type(\"Hello World!\"))\n",
    "# print(type('Happy Birthday!!!'))"
   ]
  },
  {
   "cell_type": "code",
   "execution_count": 5,
   "metadata": {},
   "outputs": [],
   "source": [
    "# Lists\n",
    "# =========\n",
    "\n",
    "# A list in Python can store a list of different types of elements in \n",
    "# Square Brackets, e.g.,\n",
    "\n",
    "# ----------------------------------------------------------------------#\n",
    "#        You can uncomment the following code to see the results        #\n",
    "#        The hotkey to uncomment: Ctrl + /                              #\n",
    "# --------------------------------------------------------------------- #\n",
    "# print(['hello world', 2321, 4365.76, True])\n",
    "# print(type(['hello world', 2321, 4365.76, True]))]"
   ]
  },
  {
   "cell_type": "code",
   "execution_count": 6,
   "metadata": {},
   "outputs": [],
   "source": [
    "# Tuples\n",
    "# =========\n",
    "\n",
    "# A tuple stores a list of elements within Parenthesis, e.g.,\n",
    "\n",
    "# ----------------------------------------------------------------------#\n",
    "#        You can uncomment the following code to see the results        #\n",
    "#        The hotkey to uncomment: Ctrl + /                              #\n",
    "# --------------------------------------------------------------------- #\n",
    "# print(('hello world', 34, 55.234, False))\n",
    "# print(type(('hello world', 34, 55.234, False)))"
   ]
  },
  {
   "cell_type": "markdown",
   "metadata": {},
   "source": [
    "The main difference between **lists** and **tuples** is the fact that **lists are mutable** whereas **tuples are immutable**."
   ]
  },
  {
   "cell_type": "code",
   "execution_count": 7,
   "metadata": {},
   "outputs": [
    {
     "name": "stdout",
     "output_type": "stream",
     "text": [
      "apples\n",
      "apples\n"
     ]
    }
   ],
   "source": [
    "fruits_list = [\"apples\", \"bananas\", \"oranges\"]\n",
    "print(fruits_list[0])  # print the first item of fruits_list\n",
    "\n",
    "fruits_tuple = (\"apples\", \"bananas\", \"oranges\")\n",
    "print(fruits_tuple[0])  # print the first item of fruits_tuple\n",
    "\n",
    "\n",
    "# change the value of the first item in fruits_list\n",
    "\n",
    "# ----------------------------------------------------------------------#\n",
    "#        You can uncomment the following code to see the results        #\n",
    "# --------------------------------------------------------------------- #\n",
    "# fruits_list[0] = 456\n",
    "# print(fruits_list[0])\n",
    "\n",
    "\n",
    "# change the value of the first item in fruits_tuple\n",
    "\n",
    "# ----------------------------------------------------------------------#\n",
    "#        You can uncomment the following code to see the results        #\n",
    "# --------------------------------------------------------------------- #\n",
    "# fruits_tuple[0] = 456"
   ]
  },
  {
   "cell_type": "markdown",
   "metadata": {},
   "source": [
    "### Difference between lists and tuples\n",
    "\n",
    "| Lists | Tuples |\n",
    "|------|-------|\n",
    "|Lists are mutable | Tuple are immutable |\n",
    "|Implication of iterations is Time-consuming   |   Implication of iterations is comparatively Faster |\n",
    "|The list is better for performing operations, such as insertion and deletion   |   Tuple data type is appropriate for accessing the elements |\n",
    "|Lists consume more memory    |   Tuple consume less memory as compared to the list |\n",
    "|Lists have several built-in methods   |   Tuple does no have must built-in methods |\n",
    "|The unexpected changes and errors are more likely to occur   |   In tuple, it is hard to take place |"
   ]
  },
  {
   "cell_type": "code",
   "execution_count": 79,
   "metadata": {},
   "outputs": [],
   "source": [
    "# Sets\n",
    "# =========\n",
    "\n",
    "# A set is a data type for mutable unordered collections of unique \n",
    "# elements. One application of a set is to quickly remove duplicates\n",
    "# from a list.\n",
    "\n",
    "# ----------------------------------------------------------------------#\n",
    "#        You can uncomment the following code to see the results        #\n",
    "#        The hotkey to uncomment: Ctrl + /                              #\n",
    "# --------------------------------------------------------------------- #\n",
    "# print({'hello world', 34, 55.234, False})\n",
    "# print(type({'hello world', 34, 55.234, False}))"
   ]
  },
  {
   "cell_type": "code",
   "execution_count": 78,
   "metadata": {},
   "outputs": [],
   "source": [
    "# Dictionaries\n",
    "# =========\n",
    "\n",
    "# A dictionary is a mutable data type that stores mappings of unique keys\n",
    "# to values. Here's a dictionary that stores elements and their atomic\n",
    "# numbers.\n",
    "\n",
    "# ----------------------------------------------------------------------#\n",
    "#        You can uncomment the following code to see the results        #\n",
    "#        The hotkey to uncomment: Ctrl + /                              #\n",
    "# --------------------------------------------------------------------- #\n",
    "# print({\"Helen\": 18, \"David\": 22, \"Mark\": 28})\n",
    "# print(type({\"Helen\": 18, \"David\": 22, \"Mark\": 28}))"
   ]
  },
  {
   "cell_type": "markdown",
   "metadata": {},
   "source": [
    "## 2. Arithmetic operators\n",
    "\n",
    "* `+`: Addition\n",
    "* `-`: Subtraction\n",
    "* `*`: Multiplication (symbol: asterisk)\n",
    "* `/`: Division (symbol: forward slash)\n",
    "* `%`: Mod (the remainder after dividing)\n",
    "* `**`: Exponentiation (note that `^` does not do this operation, as you might have seen in other languages)\n",
    "* `//`: Divides and rounds down to the nearest integer\n",
    "\n",
    "The usual order of mathematical operations holds in Python.\n",
    "\n",
    "Bitwise operators are special operators in Python that you can learn more about [here](https://wiki.python.org/moin/BitwiseOperators) if you'd like."
   ]
  },
  {
   "cell_type": "code",
   "execution_count": 10,
   "metadata": {},
   "outputs": [],
   "source": [
    "# ----------------------------------------------------------------------#\n",
    "#        You can uncomment the following code to see the results        #\n",
    "#        The hotkey to uncomment: Ctrl + /                              #\n",
    "# --------------------------------------------------------------------- #\n",
    "\n",
    "# print(12 + 34 + 45)  # addition\n",
    "# print(34 - 5)        # subtraction\n",
    "# print(3 * 4)         # multiplication\n",
    "# print(9 / 3)         # division\n",
    "# print(8 % 3)         # mod\n",
    "# print(3 ** 3)        # exponentiation\n",
    "# print(9 // 3)        # integer division"
   ]
  },
  {
   "cell_type": "markdown",
   "metadata": {},
   "source": [
    "###  Example 2.1\n",
    "\n",
    "Quiz: Average Electricity Bill\n",
    "It's time to try a calculation in Python!\n",
    "\n",
    "My electricity bills for the last three months have been `$23`, `$32` and `$64`. What is the average monthly electricity bill over the three month period? Write an expression to calculate the mean, and use `print()` to view the result.\n",
    "\n"
   ]
  },
  {
   "cell_type": "code",
   "execution_count": 11,
   "metadata": {},
   "outputs": [
    {
     "name": "stdout",
     "output_type": "stream",
     "text": [
      "\n"
     ]
    }
   ],
   "source": [
    "# Write an expression that calculates the average of 23, 32 and 64\n",
    "# Place the expression in this print statement\n",
    "print()"
   ]
  },
  {
   "cell_type": "markdown",
   "metadata": {},
   "source": [
    "### Example 2.2\n",
    "\n",
    "* Code Formatting\n",
    "\n",
    "\n",
    "Which of these lines of Python code are well formatted? How would you improve the readability of the codes that don't use good formatting? (Choose all that apply)\n",
    "\n",
    "* [ ] `print(((3+ 32))+ -15//2)`\n",
    "* [ ] `print((17 - 6)%(5 + 2))`\n",
    "* [ ] `print(4/2 - 7*7)`\n",
    "\n",
    "<!-- **Solution**:\n",
    "* [ ] `print(((3+ 32))+ -15//2)`\n",
    "* [x] `print((17 - 6)%(5 + 2))`\n",
    "* [x] `print(4/2 - 7*7)` -->"
   ]
  },
  {
   "cell_type": "markdown",
   "metadata": {},
   "source": [
    "## 3. Variables"
   ]
  },
  {
   "cell_type": "markdown",
   "metadata": {},
   "source": [
    "From this section, we will have look at **variables** in Python. Understanding how to perform arithmetic in Python is useful, but understanding how to use variables can turn Python into more than just a calculator. Using variables, as opposed to just raw numbers, has many advantages. Let's get started. Creating a new variable in Python is simple."
   ]
  },
  {
   "cell_type": "code",
   "execution_count": 12,
   "metadata": {},
   "outputs": [],
   "source": [
    "mv_population = 74728"
   ]
  },
  {
   "cell_type": "markdown",
   "metadata": {},
   "source": [
    "The variable name in this example is **mv_population**. The equal sign `=` is the assignment operator and the value of the variable is **74,728**. This assigns the item on the right to the name on the left.\n",
    "\n",
    "In any case, whatever term is on the left side, is now a name for whatever value is on the right side. Once a value has been assigned to a variable name, you can access the value from the variable name. Let's see another example,"
   ]
  },
  {
   "cell_type": "code",
   "execution_count": 13,
   "metadata": {},
   "outputs": [
    {
     "name": "stdout",
     "output_type": "stream",
     "text": [
      "2\n"
     ]
    }
   ],
   "source": [
    "x = 2\n",
    "y = x\n",
    "print(y)"
   ]
  },
  {
   "cell_type": "markdown",
   "metadata": {},
   "source": [
    "The first line here defines `x` as `2`, and the second line defines `y` as the value of `x` which is printed in the third line. Notice we can use a variable's name to access its value. In this line, we only needed the name of the variable `x` to define `y` as its value `2`. Similarly, in this next line, we were able to print the value of `y` just by using the name `y`. If you try to access the value of a variable that was never defined, you'll get this error."
   ]
  },
  {
   "cell_type": "code",
   "execution_count": 14,
   "metadata": {},
   "outputs": [
    {
     "ename": "NameError",
     "evalue": "name 'z' is not defined",
     "output_type": "error",
     "traceback": [
      "\u001b[1;31m---------------------------------------------------------------------------\u001b[0m",
      "\u001b[1;31mNameError\u001b[0m                                 Traceback (most recent call last)",
      "\u001b[1;32m<ipython-input-14-5f30900c8372>\u001b[0m in \u001b[0;36m<module>\u001b[1;34m\u001b[0m\n\u001b[0;32m      1\u001b[0m \u001b[0mx\u001b[0m \u001b[1;33m=\u001b[0m \u001b[1;36m2\u001b[0m\u001b[1;33m\u001b[0m\u001b[1;33m\u001b[0m\u001b[0m\n\u001b[1;32m----> 2\u001b[1;33m \u001b[0my\u001b[0m \u001b[1;33m=\u001b[0m \u001b[0mz\u001b[0m\u001b[1;33m\u001b[0m\u001b[1;33m\u001b[0m\u001b[0m\n\u001b[0m\u001b[0;32m      3\u001b[0m \u001b[0mprint\u001b[0m\u001b[1;33m(\u001b[0m\u001b[0my\u001b[0m\u001b[1;33m)\u001b[0m\u001b[1;33m\u001b[0m\u001b[1;33m\u001b[0m\u001b[0m\n",
      "\u001b[1;31mNameError\u001b[0m: name 'z' is not defined"
     ]
    }
   ],
   "source": [
    "x = 2\n",
    "y = z\n",
    "print(y)"
   ]
  },
  {
   "cell_type": "markdown",
   "metadata": {},
   "source": [
    "It's explained pretty clearly in the error message, name `z` was not defined."
   ]
  },
  {
   "cell_type": "markdown",
   "metadata": {},
   "source": [
    "* Multiple assignment\n",
    "Python support multiple assignment within one line of code. For example,"
   ]
  },
  {
   "cell_type": "code",
   "execution_count": 15,
   "metadata": {},
   "outputs": [
    {
     "name": "stdout",
     "output_type": "stream",
     "text": [
      "3 4 5\n"
     ]
    }
   ],
   "source": [
    "x1 = 3\n",
    "y1 = 4\n",
    "z1 = 5\n",
    "print(x1, y1, z1)"
   ]
  },
  {
   "cell_type": "code",
   "execution_count": 16,
   "metadata": {},
   "outputs": [
    {
     "name": "stdout",
     "output_type": "stream",
     "text": [
      "3 4 5\n"
     ]
    }
   ],
   "source": [
    "x2, y2, z2 = 3, 4, 5\n",
    "print(x2, y2, z2)"
   ]
  },
  {
   "cell_type": "markdown",
   "metadata": {},
   "source": [
    "However, the above isn't a great way to assign variables in most cases, because our variable names should be descriptive of the values they hold.\n",
    "\n",
    "Besides writing variable names that are descriptive, there are a few things to watch out for when naming variables in Python.\n",
    "\n",
    "1. Only use ordinary letters, numbers and underscores in your variable names. They can’t have spaces, and need to start with a letter or underscore.\n",
    "\n",
    "2. You can’t use reserved words or built-in identifiers that have important purposes in Python, which you’ll learn about throughout this course. A list of python reserved words is described here. Creating names that are descriptive of the values often will help you avoid using any of these words. A quick table of these words is also available below.\n",
    "\n",
    "3. The pythonic way to name variables is to use all lowercase letters and underscores to separate words.\n",
    "\n",
    "We will come discuss the rules when coding with Python in the script `Coding Rules.ipynb`."
   ]
  },
  {
   "cell_type": "markdown",
   "metadata": {},
   "source": [
    "## 4. Assignment Operators"
   ]
  },
  {
   "cell_type": "markdown",
   "metadata": {},
   "source": [
    "We have already introduce the equal sign `=` as an assignment operator. In Python, however, there are many different assigment operators.\n",
    "\n",
    "1. `=` assigns the value on the right side to the variable on the left side.\n",
    "2. `+=` e.g., `x += 2` is equivalent to `x = x + 2`\n",
    "3. `-=` e.g., `x -= 2` is equivalent to `x = x - 2`"
   ]
  },
  {
   "cell_type": "code",
   "execution_count": 17,
   "metadata": {},
   "outputs": [
    {
     "name": "stdout",
     "output_type": "stream",
     "text": [
      "7\n"
     ]
    }
   ],
   "source": [
    "# Example to explore different assignment operators\n",
    "x = 2\n",
    "x = x + 5\n",
    "print(x)\n",
    "\n",
    "# 1. plus-equal assignment operator\n",
    "# ----------------------------------------------------------------------#\n",
    "#        You can uncomment the following code to see the results        #\n",
    "# --------------------------------------------------------------------- #\n",
    "# x = 2\n",
    "# x += 5\n",
    "# print(x)\n",
    "\n",
    "\n",
    "# 2. minor-equal assignment operator\n",
    "# ----------------------------------------------------------------------#\n",
    "#        You can uncomment the following code to see the results        #\n",
    "# --------------------------------------------------------------------- #\n",
    "# x = 2\n",
    "# x -= 5\n",
    "# print(x)\n",
    "\n",
    "\n",
    "# 3. multiply-equal assignment operator\n",
    "# ----------------------------------------------------------------------#\n",
    "#        You can uncomment the following code to see the results        #\n",
    "# --------------------------------------------------------------------- #\n",
    "# x = 2\n",
    "# x *= 5\n",
    "# print(x)\n",
    "\n",
    "\n",
    "# 4. divide-equal assignment operator\n",
    "# ----------------------------------------------------------------------#\n",
    "#        You can uncomment the following code to see the results        #\n",
    "# --------------------------------------------------------------------- #\n",
    "# x = 2\n",
    "# x /= 5\n",
    "# print(x)"
   ]
  },
  {
   "cell_type": "markdown",
   "metadata": {},
   "source": [
    "For your convenience, we gather the information of all the commonly-used **arithmetic** and **assignment operators** and provide an information page. Students can refer to [this page](https://monaen.github.io/DHLO-2021Spring/arithmetic_operators) if you want to know more about the operators.\n",
    "\n",
    "* Arithmetic Operators: [https://monaen.github.io/DHLO-2021Spring/arithmetic_operators](https://monaen.github.io/DHLO-2021Spring/arithmetic_operators)"
   ]
  },
  {
   "cell_type": "markdown",
   "metadata": {},
   "source": [
    "# In-Class Practice"
   ]
  },
  {
   "cell_type": "markdown",
   "metadata": {},
   "source": [
    "## 5. Integers and Floats\n",
    "\n",
    "There are two Python data types that could be used for numeric values:\n",
    "\n",
    "* **int** - for integer values\n",
    "* **float** - for decimal or floating point values\n",
    "\n",
    "Because the float, or approximation, for 0.1 is actually **slightly more than** 0.1, when we add several of them together we can see the difference between the mathematically correct answer and the one that Python creates."
   ]
  },
  {
   "cell_type": "code",
   "execution_count": 18,
   "metadata": {},
   "outputs": [
    {
     "name": "stdout",
     "output_type": "stream",
     "text": [
      "False\n"
     ]
    }
   ],
   "source": [
    "print(0.1 + 0.1 + 0.1 == 0.3)"
   ]
  },
  {
   "cell_type": "code",
   "execution_count": 19,
   "metadata": {},
   "outputs": [
    {
     "name": "stdout",
     "output_type": "stream",
     "text": [
      "0.10000000000000000555\n",
      "0.29999999999999998890\n"
     ]
    }
   ],
   "source": [
    "# Here is the reason\n",
    "# When you print more digits after the decimal point, you will see why the results is False\n",
    "\n",
    "print('{:.20f}'.format(0.1))\n",
    "print('{:.20f}'.format(0.3))"
   ]
  },
  {
   "cell_type": "markdown",
   "metadata": {},
   "source": [
    "You can see more on this [here](https://docs.python.org/3/tutorial/floatingpoint.html)."
   ]
  },
  {
   "cell_type": "markdown",
   "metadata": {},
   "source": [
    "## 6. Error"
   ]
  },
  {
   "cell_type": "code",
   "execution_count": 20,
   "metadata": {},
   "outputs": [
    {
     "ename": "ZeroDivisionError",
     "evalue": "division by zero",
     "output_type": "error",
     "traceback": [
      "\u001b[1;31m---------------------------------------------------------------------------\u001b[0m",
      "\u001b[1;31mZeroDivisionError\u001b[0m                         Traceback (most recent call last)",
      "\u001b[1;32m<ipython-input-20-99101a482c48>\u001b[0m in \u001b[0;36m<module>\u001b[1;34m\u001b[0m\n\u001b[1;32m----> 1\u001b[1;33m \u001b[0mprint\u001b[0m\u001b[1;33m(\u001b[0m\u001b[1;36m5\u001b[0m \u001b[1;33m/\u001b[0m \u001b[1;36m0\u001b[0m\u001b[1;33m)\u001b[0m  \u001b[1;31m# ZeroDivisionError\u001b[0m\u001b[1;33m\u001b[0m\u001b[1;33m\u001b[0m\u001b[0m\n\u001b[0m",
      "\u001b[1;31mZeroDivisionError\u001b[0m: division by zero"
     ]
    }
   ],
   "source": [
    "print(5 / 0)  # ZeroDivisionError"
   ]
  },
  {
   "cell_type": "markdown",
   "metadata": {},
   "source": [
    "In the above error text, Traceback means \"What was the programming doing when it broke\"! This part is usually less helpful than the very last line of your error. Though you can dig through the rest of the error, looking at just the final line <code style=\"color:#fff;background-color:#2f3d48;border-radius: 4px;border: 1px solid #737b83;padding: 2px 4px\">ZeroDivisionError</code>, and the message says we divided by zero. Python is enforcing the rules of arithmetic!\n",
    "\n",
    "In general, there are two types of errors to look out for\n",
    "\n",
    "* **Exceptions**\n",
    "* **Syntax**\n",
    "\n",
    "An `Exception` is a problem that occurs when the code is running, but a `Syntax Error` is a problem detected when Python checks the code before it runs it. For more information, see the Python tutorial page on Errors and Exceptions."
   ]
  },
  {
   "cell_type": "markdown",
   "metadata": {},
   "source": [
    "## 7. Booleans, Comparison Operators, and Logical Operators"
   ]
  },
  {
   "cell_type": "markdown",
   "metadata": {},
   "source": [
    "The bool data type holds one of the values <code style=\"color:#fff;background-color:#2f3d48;border-radius: 4px;border: 1px solid #737b83;padding: 2px 4px\">True</code> or <code style=\"color:#fff;background-color:#2f3d48;border-radius: 4px;border: 1px solid #737b83;padding: 2px 4px\">False</code>, which are often encoded as <code style=\"color:#fff;background-color:#2f3d48;border-radius: 4px;border: 1px solid #737b83;padding: 2px 4px\">1</code> or <code style=\"color:#fff;background-color:#2f3d48;border-radius: 4px;border: 1px solid #737b83;padding: 2px 4px\">0</code>, respectively.\n",
    "\n",
    "There are **6** comparison operators that are common to see in order to obtain a <code style=\"color:#fff;background-color:#2f3d48;border-radius: 4px;border: 1px solid #737b83;padding: 2px 4px\">bool</code> value:"
   ]
  },
  {
   "cell_type": "markdown",
   "metadata": {},
   "source": [
    "### Comparison Operators\n",
    "\n",
    "| Symbol Use Case | Bool | Operation |\n",
    "|-------|-------|-----------|\n",
    "| 5 < 3 | False | Less Than |\n",
    "|5 > 3  | True  | Greater Than |\n",
    "|3 <= 3 | True  | Less Than or Equal To |\n",
    "|3 >= 5 | False | Greater Than or Equal To |\n",
    "|3 == 5 | False | Equal To |\n",
    "|3 != 5 | True  | Not Equal To |"
   ]
  },
  {
   "cell_type": "markdown",
   "metadata": {},
   "source": [
    "Besides, there are three logical operators you need to be familiar with:\n",
    "\n",
    "| Logical Use Case | Bool | Operation |\n",
    "|-------|-------|-----------|\n",
    "|5 < 3 and 5 == 5 | False | <code style=\"color:#fff;background-color:#2f3d48;border-radius: 4px;border: 1px solid #737b83;padding: 2px 4px\">and</code> - Evaluates if all provided statements are True |\n",
    "|5 < 3 or 5 == 5  | True  | <code style=\"color:#fff;background-color:#2f3d48;border-radius: 4px;border: 1px solid #737b83;padding: 2px 4px\">or</code> - Evaluates if at least one of many statements is True |\n",
    "|not 5 < 3        | True  | <code style=\"color:#fff;background-color:#2f3d48;border-radius: 4px;border: 1px solid #737b83;padding: 2px 4px\">not</code> - Flips the Bool Value |\n",
    "\n",
    "[Here](https://www.irishtimes.com/news/science/how-george-boole-s-zeroes-and-ones-changed-the-world-1.2014673) is more information on how George Boole changed the world!"
   ]
  },
  {
   "cell_type": "markdown",
   "metadata": {},
   "source": [
    "### Practice 7.1: Which is denser, Los Angeles or San Francisco?\n",
    "Try comparison operators in this practice! This code calculates the population densities of Los Angeles and San Francisco.\n",
    "\n",
    "Write code to compare these densities. Is the population of San Francisco more dense than that of Los Angeles? Print <code style=\"color:#fff;background-color:#2f3d48;border-radius: 4px;border: 1px solid #737b83;padding: 2px 4px\">True</code> if it is and <code style=\"color:#fff;background-color:#2f3d48;border-radius: 4px;border: 1px solid #737b83;padding: 2px 4px\">False</code> if not."
   ]
  },
  {
   "cell_type": "code",
   "execution_count": 21,
   "metadata": {},
   "outputs": [
    {
     "name": "stdout",
     "output_type": "stream",
     "text": [
      "False\n"
     ]
    }
   ],
   "source": [
    "sf_population, sf_area = 864816, 231.89\n",
    "la_population, la_area = 6453682, 486.5\n",
    "\n",
    "sf_pop_density = sf_population/sf_area\n",
    "la_pop_density = la_population/la_area\n",
    "\n",
    "# Write code that prints True if San Francisco is denser than Rio, and False otherwise\n",
    "# ================================================= #\n",
    "#               Put your code here                  #\n",
    "# ================================================= #\n",
    "print(sf_pop_density > la_pop_density)"
   ]
  },
  {
   "cell_type": "markdown",
   "metadata": {},
   "source": [
    "Note that: other solutions are possible, like the one below, but take a moment to make sure you understand and appreciate the concise efficiency of the one line above!"
   ]
  },
  {
   "cell_type": "code",
   "execution_count": 22,
   "metadata": {},
   "outputs": [],
   "source": [
    "# ----------------------------------------------------------------------#\n",
    "#        You can uncomment the following code to see the results        #\n",
    "# --------------------------------------------------------------------- #\n",
    "# if (sf_pop_density > la_pop_density):\n",
    "#     print (True)\n",
    "# else:\n",
    "#     print (False)"
   ]
  },
  {
   "cell_type": "markdown",
   "metadata": {},
   "source": [
    "## 8. Strings"
   ]
  },
  {
   "cell_type": "markdown",
   "metadata": {},
   "source": [
    "Strings in Python are shown as the variable type <code style=\"color:#fff;background-color:#2f3d48;border-radius: 4px;border: 1px solid #737b83;padding: 2px 4px\">str</code>. You can define a string with either double quotes <code style=\"color:#fff;background-color:#2f3d48;border-radius: 4px;border: 1px solid #737b83;padding: 2px 4px\">\"</code> or single quotes <code style=\"color:#fff;background-color:#2f3d48;border-radius: 4px;border: 1px solid #737b83;padding: 2px 4px\">'</code>. If the string you are creating actually has one of these two values in it, then you need to be careful to assure your code doesn't give an error."
   ]
  },
  {
   "cell_type": "code",
   "execution_count": 23,
   "metadata": {},
   "outputs": [],
   "source": [
    "my_string = 'this is a string!'\n",
    "my_string2 = \"this is also a string!!!\""
   ]
  },
  {
   "cell_type": "markdown",
   "metadata": {},
   "source": [
    "You can also add a <code style=\"color:#fff;background-color:#2f3d48;border-radius: 4px;border: 1px solid #737b83;padding: 2px 4px\">\\\\</code> in your string to be able to include one of the two quotation symbols (<code style=\"color:#fff;background-color:#2f3d48;border-radius: 4px;border: 1px solid #737b83;padding: 2px 4px\">\"</code> and <code style=\"color:#fff;background-color:#2f3d48;border-radius: 4px;border: 1px solid #737b83;padding: 2px 4px\">'</code>):"
   ]
  },
  {
   "cell_type": "code",
   "execution_count": 24,
   "metadata": {},
   "outputs": [
    {
     "name": "stdout",
     "output_type": "stream",
     "text": [
      "Simon's skateboard is in the garage.\n"
     ]
    }
   ],
   "source": [
    "this_string = 'Simon\\'s skateboard is in the garage.'\n",
    "print(this_string)"
   ]
  },
  {
   "cell_type": "code",
   "execution_count": 25,
   "metadata": {},
   "outputs": [
    {
     "ename": "SyntaxError",
     "evalue": "invalid syntax (<ipython-input-25-e3347ef6e70e>, line 2)",
     "output_type": "error",
     "traceback": [
      "\u001b[1;36m  File \u001b[1;32m\"<ipython-input-25-e3347ef6e70e>\"\u001b[1;36m, line \u001b[1;32m2\u001b[0m\n\u001b[1;33m    this_string = 'Simon's skateboard is in the garage.'\u001b[0m\n\u001b[1;37m                         ^\u001b[0m\n\u001b[1;31mSyntaxError\u001b[0m\u001b[1;31m:\u001b[0m invalid syntax\n"
     ]
    }
   ],
   "source": [
    "# if you don't use this, notice we get the SyntaxError:\n",
    "this_string = 'Simon's skateboard is in the garage.'"
   ]
  },
  {
   "cell_type": "markdown",
   "metadata": {},
   "source": [
    "### String operations"
   ]
  },
  {
   "cell_type": "markdown",
   "metadata": {},
   "source": [
    "| Symbol | String Operation | Example |\n",
    "| -------|------------------|---------|\n",
    "|   +    | Combine Strings  | `'Hello ' + 'World'`|\n",
    "|   *    | Repeat Strings   | `'Hello' * 5` |\n",
    "\n",
    "Note: substraction `-` and division `/` do not make sense for string operation."
   ]
  },
  {
   "cell_type": "code",
   "execution_count": 26,
   "metadata": {},
   "outputs": [
    {
     "name": "stdout",
     "output_type": "stream",
     "text": [
      "Hello World\n"
     ]
    }
   ],
   "source": [
    "# Combine strings\n",
    "first_word = 'Hello '\n",
    "second_word = 'World'\n",
    "print(first_word + second_word)"
   ]
  },
  {
   "cell_type": "code",
   "execution_count": 34,
   "metadata": {},
   "outputs": [
    {
     "name": "stdout",
     "output_type": "stream",
     "text": [
      "HelloHelloHelloHelloHello\n",
      "Hello Hello Hello Hello Hello Hello Hello Hello \n"
     ]
    }
   ],
   "source": [
    "# Repeat strings\n",
    "first_word = 'Hello'\n",
    "print(first_word * 5)\n",
    "\n",
    "first_word = 'Hello '  # add a whitespace after the world 'Hello'\n",
    "print(8 * first_word)"
   ]
  },
  {
   "cell_type": "markdown",
   "metadata": {},
   "source": [
    "As you can see, in String, the **whitespaces do matter** in between the quotation marks!"
   ]
  },
  {
   "cell_type": "markdown",
   "metadata": {},
   "source": [
    "Strings also support indexing. You can index into strings, here is a small example. Notice Python uses **0 indexing** - we will discuss this later in this lesson in detail."
   ]
  },
  {
   "cell_type": "code",
   "execution_count": null,
   "metadata": {},
   "outputs": [],
   "source": []
  },
  {
   "cell_type": "code",
   "execution_count": 28,
   "metadata": {},
   "outputs": [
    {
     "name": "stdout",
     "output_type": "stream",
     "text": [
      "Hello \n",
      "H\n"
     ]
    }
   ],
   "source": [
    "print(first_word)\n",
    "print(first_word[0])"
   ]
  },
  {
   "cell_type": "code",
   "execution_count": 29,
   "metadata": {},
   "outputs": [
    {
     "name": "stdout",
     "output_type": "stream",
     "text": [
      "Hello \n",
      "e\n"
     ]
    }
   ],
   "source": [
    "print(first_word)\n",
    "print(first_word[1])"
   ]
  },
  {
   "cell_type": "markdown",
   "metadata": {},
   "source": [
    "### `len()`\n",
    "\n",
    "<code style=\"color:#fff;background-color:#2f3d48;border-radius: 4px;border: 1px solid #737b83;padding: 2px 4px\">len()</code> is a built-in Python function that returns the length of an object, like a string. The length of a string is the number of characters in the string. This will always be an integer."
   ]
  },
  {
   "cell_type": "code",
   "execution_count": 39,
   "metadata": {},
   "outputs": [
    {
     "name": "stdout",
     "output_type": "stream",
     "text": [
      "2.5\n"
     ]
    }
   ],
   "source": [
    "print(len(\"Hello\") / len(\"Hi\"))"
   ]
  },
  {
   "cell_type": "markdown",
   "metadata": {},
   "source": [
    "### Practice 8.1: Fix the Quote\n",
    "The line of code in the following block will cause a SyntaxError, because of the misuse of quotation marks. First run it to view the error message. Then resolve the problem so that the quote is correctly assigned to the variable <code style=\"color:#fff;background-color:#2f3d48;border-radius: 4px;border: 1px solid #737b83;padding: 2px 4px\">ford_quote</code>."
   ]
  },
  {
   "cell_type": "code",
   "execution_count": 44,
   "metadata": {},
   "outputs": [],
   "source": [
    "# TODO: Fix this string!\n",
    "ford_quote = 'Whether you think you can, or you think you can't--you're right.'\n",
    "print(ford_quote)"
   ]
  },
  {
   "cell_type": "markdown",
   "metadata": {},
   "source": [
    "### Practice 8.2: Write a Server Log Message\n",
    "In this programming example, you’re going to use what you’ve learned about strings to write a **logging message** for a server.\n",
    "\n",
    "You’ll be provided with example data for a user, the time of their visit and the site they accessed. You should use the variables provided and the techniques you’ve learned to print a log message like this one (with the **username**, **url**, and **timestamp** replaced with values from the appropriate variables):\n",
    "\n",
    "`Yogesh accessed the site http://petshop.com/pets/reptiles/pythons at 16:20.`"
   ]
  },
  {
   "cell_type": "code",
   "execution_count": 50,
   "metadata": {},
   "outputs": [],
   "source": [
    "username = \"Kinari\"\n",
    "timestamp = \"04:50\"\n",
    "url = \"http://petshop.com/pets/mammals/cats\"\n",
    "\n",
    "# TODO: print a log message using the variables above.\n",
    "# The message should have the same format as this one:\n",
    "# \"Yogesh accessed the site http://petshop.com/pets/reptiles/pythons at 16:20.\"\n",
    "# ================================================= #\n",
    "#               Put your code here                  #\n",
    "# ================================================= #"
   ]
  },
  {
   "cell_type": "markdown",
   "metadata": {},
   "source": [
    "### Practice 8.3: `len()`\n",
    "Use string concatenation and the <code style=\"color:#fff;background-color:#2f3d48;border-radius: 4px;border: 1px solid #737b83;padding: 2px 4px\">len()</code> function to find the length of a certain movie star's actual full name. Store that length in the <code style=\"color:#fff;background-color:#2f3d48;border-radius: 4px;border: 1px solid #737b83;padding: 2px 4px\">name_length</code> variable. Don't forget that there are spaces in between the different parts of a name!"
   ]
  },
  {
   "cell_type": "code",
   "execution_count": 69,
   "metadata": {},
   "outputs": [],
   "source": [
    "given_name = \"William\"\n",
    "middle_names = \"Bradley\"\n",
    "family_name = \"Pitt\"\n",
    "\n",
    "# ================================================= #\n",
    "#               Put your code here                  #\n",
    "# ================================================= #\n",
    "# TODO: calculate how long this name is\n",
    "name_length = \n",
    "\n",
    "# Now we check to make sure that the name fits within the driving license character limit\n",
    "# Nothing you need to do here\n",
    "driving_license_character_limit = 19\n",
    "print(name_length <= driving_license_character_limit)"
   ]
  },
  {
   "cell_type": "markdown",
   "metadata": {},
   "source": [
    "## 9. Type & Type Conversion"
   ]
  },
  {
   "cell_type": "markdown",
   "metadata": {},
   "source": [
    "At the beginning, we have introduced the <code style=\"color:#fff;background-color:#2f3d48;border-radius: 4px;border: 1px solid #737b83;padding: 2px 4px\">type()</code> to get the data type of the input argument. With <code style=\"color:#fff;background-color:#2f3d48;border-radius: 4px;border: 1px solid #737b83;padding: 2px 4px\">print(type())</code>, we're calling a function <code style=\"color:#fff;background-color:#2f3d48;border-radius: 4px;border: 1px solid #737b83;padding: 2px 4px\">print()</code> on the output of another function <code style=\"color:#fff;background-color:#2f3d48;border-radius: 4px;border: 1px solid #737b83;padding: 2px 4px\">type()</code>. We use parenthesis to define the order in which functions get run. What's contained in one set of parenthesis needs to be evaluated first before being given as input to the next function. Here, the type function is run first and then its output is printed. Different types have different properties, but we can also forcefully cast one data type to another. This can be realized by using typecast functions,\n",
    "\n",
    "* <code style=\"color:#fff;background-color:#2f3d48;border-radius: 4px;border: 1px solid #737b83;padding: 2px 4px\">int()</code>\n",
    "* <code style=\"color:#fff;background-color:#2f3d48;border-radius: 4px;border: 1px solid #737b83;padding: 2px 4px\">float()</code>\n",
    "* <code style=\"color:#fff;background-color:#2f3d48;border-radius: 4px;border: 1px solid #737b83;padding: 2px 4px\">bool()</code>\n",
    "* <code style=\"color:#fff;background-color:#2f3d48;border-radius: 4px;border: 1px solid #737b83;padding: 2px 4px\">str()</code>\n",
    "* <code style=\"color:#fff;background-color:#2f3d48;border-radius: 4px;border: 1px solid #737b83;padding: 2px 4px\">list()</code>"
   ]
  },
  {
   "cell_type": "markdown",
   "metadata": {},
   "source": [
    "### Practice 9.1: What Type Do These Objects Have?"
   ]
  },
  {
   "cell_type": "code",
   "execution_count": 7,
   "metadata": {},
   "outputs": [
    {
     "name": "stdout",
     "output_type": "stream",
     "text": [
      "8\n",
      "<class 'int'>\n"
     ]
    }
   ],
   "source": [
    "a = 8\n",
    "print(a)\n",
    "print(type(a))\n",
    "\n",
    "# 1. Convert to float type\n",
    "# ----------------------------------------------------------------------#\n",
    "#            Uncomment the following code to see the results            #\n",
    "# --------------------------------------------------------------------- #\n",
    "# a = float(a)\n",
    "# print(a)\n",
    "# print(a+a)\n",
    "# print(type(a))\n",
    "\n",
    "# 2. Convert to str type\n",
    "# ----------------------------------------------------------------------#\n",
    "#            Uncomment the following code to see the results            #\n",
    "# --------------------------------------------------------------------- #\n",
    "# a = str(a)\n",
    "# print(a)\n",
    "# print(a+a)\n",
    "# print(type(a))"
   ]
  },
  {
   "cell_type": "markdown",
   "metadata": {},
   "source": [
    "### Practice 9.2: Total Sales\n",
    "In this example, you’ll need to change the types of the input and output data in order to get the result you want.\n",
    "\n",
    "Calculate and print the total sales for the week from the data provided. Print out a string of the form <code style=\"color:#fff;background-color:#2f3d48;border-radius: 4px;border: 1px solid #737b83;padding: 2px 4px\">\"This week's total sales: xxx\"</code>, where <code style=\"color:#fff;background-color:#2f3d48;border-radius: 4px;border: 1px solid #737b83;padding: 2px 4px\">xxx</code> will be the actual total of all the numbers. You’ll need to change the type of the input data in order to calculate that total.\n",
    "\n"
   ]
  },
  {
   "cell_type": "code",
   "execution_count": 8,
   "metadata": {},
   "outputs": [],
   "source": [
    "mon_sales = \"121\"\n",
    "tues_sales = \"105\"\n",
    "wed_sales = \"110\"\n",
    "thurs_sales = \"98\"\n",
    "fri_sales = \"95\"\n",
    "\n",
    "# TODO: Print a string with this format: This week's total sales: xxx\n",
    "# You will probably need to write some lines of code before the print statement.\n",
    "\n",
    "# ================================================= #\n",
    "#               Put your code here                  #\n",
    "# ================================================= #\n",
    "\n",
    "\n"
   ]
  },
  {
   "cell_type": "markdown",
   "metadata": {},
   "source": [
    "## 10. String Methods ![](../materials/images/homework.png)"
   ]
  },
  {
   "cell_type": "markdown",
   "metadata": {},
   "source": [
    "**Data structures** are containers that organize and group data types together in different ways. A **list** is one of the most common and basic data structures in Python. You can create a list with square brackets. Lists can contain any mix and match of the data types you have seen so far. For example,"
   ]
  },
  {
   "cell_type": "code",
   "execution_count": 10,
   "metadata": {},
   "outputs": [],
   "source": [
    "list_of_random_things = [100, 3.415926, 'Happy birthday', False]"
   ]
  },
  {
   "cell_type": "markdown",
   "metadata": {},
   "source": [
    "This is a list of 4 elements. All ordered containers (like lists) are indexed in python using a starting index of 0. Therefore, to pull the first value from the above list, we can write:"
   ]
  },
  {
   "cell_type": "code",
   "execution_count": null,
   "metadata": {},
   "outputs": [],
   "source": []
  }
 ],
 "metadata": {
  "kernelspec": {
   "display_name": "Python 3",
   "language": "python",
   "name": "python3"
  },
  "language_info": {
   "codemirror_mode": {
    "name": "ipython",
    "version": 3
   },
   "file_extension": ".py",
   "mimetype": "text/x-python",
   "name": "python",
   "nbconvert_exporter": "python",
   "pygments_lexer": "ipython3",
   "version": "3.8.5"
  }
 },
 "nbformat": 4,
 "nbformat_minor": 5
}
