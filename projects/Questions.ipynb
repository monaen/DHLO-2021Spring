{
 "cells": [
  {
   "cell_type": "markdown",
   "metadata": {},
   "source": [
    "# Questions"
   ]
  },
  {
   "cell_type": "markdown",
   "metadata": {},
   "source": [
    "**1. To clarify, are the main differences between a set and a list simply (1) a set does not have repeats whilst a list can, and (2) sets are unordered whereas lists are?**"
   ]
  },
  {
   "cell_type": "markdown",
   "metadata": {},
   "source": [
    "**Answer:** The short answer is **Yes**!\n",
    "\n",
    "**List**, **tuple** and **set** are three data types in Python that are often compared to each other by people.\n",
    "\n",
    "* `List` is a **mutable**, **ordered** collections of elements\n",
    "* `Tuple` is a **immutable**, **ordered** collections of elements\n",
    "* `set` is a **unordered** collections of **unique** elements\n",
    "\n",
    "Note: since `set` is unordered, and one cannot access its elements by using indexing. Therefore, it doesn't make sense to say a `set` is mutable or immutable."
   ]
  },
  {
   "cell_type": "code",
   "execution_count": 9,
   "metadata": {},
   "outputs": [],
   "source": [
    "# Here we define two sets\n",
    "dataScientist = set(['Python', 'R', 'SQL', 'Git', 'Tableau', 'SAS'])\n",
    "dataEngineer = set(['Python', 'Java', 'Scala', 'Git', 'SQL', 'Hadoop'])"
   ]
  },
  {
   "cell_type": "code",
   "execution_count": 13,
   "metadata": {},
   "outputs": [
    {
     "name": "stdout",
     "output_type": "stream",
     "text": [
      "{'SQL', 'R', 'Tableau', 'Git', 'Python', 'SAS'}\n"
     ]
    }
   ],
   "source": [
    "print(dataScientist)"
   ]
  },
  {
   "cell_type": "code",
   "execution_count": 14,
   "metadata": {},
   "outputs": [
    {
     "name": "stdout",
     "output_type": "stream",
     "text": [
      "{'SQL', 'Hadoop', 'Git', 'Python', 'Scala', 'Java'}\n"
     ]
    }
   ],
   "source": [
    "print(dataEngineer)"
   ]
  },
  {
   "cell_type": "markdown",
   "metadata": {},
   "source": [
    "As you can see, the stored values in the set are not in the order they are added in. That is why we say `set` is unordered, and of course, you cannot access the element using indexing."
   ]
  },
  {
   "cell_type": "code",
   "execution_count": 15,
   "metadata": {},
   "outputs": [
    {
     "ename": "TypeError",
     "evalue": "'set' object is not subscriptable",
     "output_type": "error",
     "traceback": [
      "\u001b[1;31m---------------------------------------------------------------------------\u001b[0m",
      "\u001b[1;31mTypeError\u001b[0m                                 Traceback (most recent call last)",
      "\u001b[1;32m<ipython-input-15-3b4af5bb532b>\u001b[0m in \u001b[0;36m<module>\u001b[1;34m\u001b[0m\n\u001b[1;32m----> 1\u001b[1;33m \u001b[0mdataScientist\u001b[0m\u001b[1;33m[\u001b[0m\u001b[1;36m1\u001b[0m\u001b[1;33m]\u001b[0m\u001b[1;33m\u001b[0m\u001b[1;33m\u001b[0m\u001b[0m\n\u001b[0m",
      "\u001b[1;31mTypeError\u001b[0m: 'set' object is not subscriptable"
     ]
    }
   ],
   "source": [
    "dataScientist[1]"
   ]
  },
  {
   "cell_type": "markdown",
   "metadata": {},
   "source": [
    "One of the benefits of using `set` is that you can remove redundant elements from a list through the `set` data type."
   ]
  },
  {
   "cell_type": "code",
   "execution_count": 16,
   "metadata": {},
   "outputs": [],
   "source": [
    "mylist = [1, 2, 1, 1, 4, 3, 7, 6, 9, 5, 1, 2, 5, 3, 2, 7, 8, 9, 1, 2, 3, 5]\n",
    "mylist_NoRedundant = list(set(mylist))"
   ]
  },
  {
   "cell_type": "code",
   "execution_count": 17,
   "metadata": {},
   "outputs": [
    {
     "name": "stdout",
     "output_type": "stream",
     "text": [
      "[1, 2, 3, 4, 5, 6, 7, 8, 9]\n"
     ]
    }
   ],
   "source": [
    "print(mylist_NoRedundant)"
   ]
  },
  {
   "cell_type": "markdown",
   "metadata": {},
   "source": [
    "And such an operation is usually fast in calculation. For more information of `set` please refer to: [Python Sets and Set Theory](https://www.datacamp.com/community/tutorials/sets-in-python)"
   ]
  },
  {
   "cell_type": "markdown",
   "metadata": {},
   "source": [
    "---"
   ]
  },
  {
   "cell_type": "markdown",
   "metadata": {},
   "source": [
    "**2. I was wondering if the following input could be shortened or simplified:**"
   ]
  },
  {
   "cell_type": "markdown",
   "metadata": {},
   "source": [
    "![](../materials/images/q1.png)"
   ]
  },
  {
   "cell_type": "markdown",
   "metadata": {},
   "source": [
    "**Answer:**\n",
    "\n",
    "First, the solution is right, good work!\n",
    "\n",
    "Making the code consice is a good habit, especially when you are working on a huge project with tens of thousands lines of code. Return to your code, there are several places that can be simplified.\n",
    "\n",
    "* The converted data do not really need to be stored (assigned) to a variable, even if you use the same variable.\n",
    "* The addition operation and data type conversion can be implementated in a single line of code.\n",
    "\n",
    "You can refer to the following solution:"
   ]
  },
  {
   "cell_type": "code",
   "execution_count": 19,
   "metadata": {},
   "outputs": [
    {
     "name": "stdout",
     "output_type": "stream",
     "text": [
      "This week's total sales: 529\n"
     ]
    }
   ],
   "source": [
    "mon_sales = \"121\"\n",
    "tues_sales = \"105\"\n",
    "wed_sales = \"110\"\n",
    "thurs_sales = \"98\"\n",
    "fri_sales = \"95\"\n",
    "\n",
    "# TODO: Print a string with this format: This week's total sales: xxx\n",
    "# You will probably need to write some lines of code before the print statement.\n",
    "\n",
    "# ================================================= #\n",
    "#               Put your code here                  #\n",
    "# ================================================= #\n",
    "weekly_sales = int(mon_sales) + int(tues_sales) + int(wed_sales) + int(thurs_sales) + int(fri_sales)\n",
    "weekly_sales = str(weekly_sales)  # convert the type back!!\n",
    "print(\"This week's total sales: \" + weekly_sales)"
   ]
  },
  {
   "cell_type": "markdown",
   "metadata": {},
   "source": [
    "---"
   ]
  },
  {
   "cell_type": "markdown",
   "metadata": {},
   "source": [
    "**3. Is NumPy used in image sequencing, like for the MRIs that Jack and I labelled last semester? I find the basics of NumPy really cool and was wondering if it’s currently used in any projects at school**"
   ]
  },
  {
   "cell_type": "markdown",
   "metadata": {},
   "source": [
    "**Answer:** "
   ]
  },
  {
   "cell_type": "markdown",
   "metadata": {},
   "source": [
    "This should be a problem that many students do care. NumPy is a basic package of Python. When we say **basic**, it means that this package is used in almost every python project. "
   ]
  },
  {
   "cell_type": "markdown",
   "metadata": {},
   "source": [
    "This is because most of the packages are built based on the NumPy. For example, when working with images, the first step is to read the images into your program, and usually, this image is stored in a variable as **ndarray**. Then, you probably need to perform some processing operation on the images, for example, you may want to change the size of image, rotate the image, change its contrast, or cut off the black border of the image, etc. And those operations are more convenient if you use the NumPy package. Also, after the processing you probably need to visualize the results, and visualization packages, such as Matplotlib and Seaborn are also support NumPy. So, generally, NumPy is widely-used in most of the cases if your project involves numerical calculation or operation."
   ]
  },
  {
   "cell_type": "code",
   "execution_count": null,
   "metadata": {},
   "outputs": [],
   "source": []
  }
 ],
 "metadata": {
  "kernelspec": {
   "display_name": "Python 3",
   "language": "python",
   "name": "python3"
  },
  "language_info": {
   "codemirror_mode": {
    "name": "ipython",
    "version": 3
   },
   "file_extension": ".py",
   "mimetype": "text/x-python",
   "name": "python",
   "nbconvert_exporter": "python",
   "pygments_lexer": "ipython3",
   "version": "3.8.5"
  }
 },
 "nbformat": 4,
 "nbformat_minor": 4
}
