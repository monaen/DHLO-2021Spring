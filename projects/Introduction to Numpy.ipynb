{
 "cells": [
  {
   "cell_type": "markdown",
   "metadata": {},
   "source": [
    "# Numpy"
   ]
  },
  {
   "cell_type": "markdown",
   "metadata": {},
   "source": [
    "## Introduction\n",
    "\n",
    "**NumPy** stands for _**Num**erical **Py**thon_ and it's a basic package for scientific computation in Python. NumPy provides Python with an extensive math library capable of performing numerical computations effectively and efficiently. In this script, we will provide an overview of Numpy and introduce some features of the package Numpy.\n",
    "\n",
    "In the following you will learn:\n",
    "\n",
    "* How to import NumPy\n",
    "* How to create multidimensional NumPy ndarrays using various methods\n",
    "* How to access and change elements in ndarrays\n",
    "* How to load and save ndarrays\n",
    "* How to use slicing to select or change subsets of an ndarray\n",
    "* Understand the difference between a view and a copy an of ndarray\n",
    "* How to use Boolean indexing and set operations to select or change subsets of an ndarray\n",
    "* How to sort ndarrays\n",
    "* How to perform element-wise operations on ndarrays\n",
    "* Understand how NumPy uses broadcasting to perform operations on ndarrays of different sizes."
   ]
  },
  {
   "cell_type": "markdown",
   "metadata": {},
   "source": [
    "## Downloading NumPy\n",
    "**NumPy** is included with Anaconda. If you don't already have Anaconda installed on your computer, please refer to the Anaconda section to get clear instructions on how to install Anaconda on your PC or Mac."
   ]
  },
  {
   "cell_type": "code",
   "execution_count": 1,
   "metadata": {},
   "outputs": [
    {
     "name": "stdout",
     "output_type": "stream",
     "text": [
      "1.19.2\n"
     ]
    }
   ],
   "source": [
    "# check the version of package numpy\n",
    "\n",
    "import numpy  # import the numpy package\n",
    "print(numpy.__version__)  # print the current numpy version\n",
    "# print(numpy.__doc__)  # print the brief documentation of package numpy"
   ]
  },
  {
   "cell_type": "markdown",
   "metadata": {},
   "source": [
    "An alternative way to check which version of **NumPy** you have by typing <code style=\"color:#fff;background-color:#2f3d48;border-radius: 4px;border: 1px solid #737b83;padding: 2px 4px\">!conda list numpy</code> in your **Jupyter Notebook** or by typing <code style=\"color:#fff;background-color:#2f3d48;border-radius: 4px;border: 1px solid #737b83;padding: 2px 4px\">conda list numpy</code> in the **Anaconda prompt**. If you have another version of NumPy installed in your computer, you can degrade your version by typing <code style=\"color:#fff;background-color:#2f3d48;border-radius: 4px;border: 1px solid #737b83;padding: 2px 4px\">conda install numpy=1.13</code> in the **Anaconda prompt**. As newer versions of NumPy are released, some functions may become obsolete or replaced, so make sure you have the correct NumPy version before running the code."
   ]
  },
  {
   "cell_type": "code",
   "execution_count": 2,
   "metadata": {},
   "outputs": [
    {
     "name": "stdout",
     "output_type": "stream",
     "text": [
      "# packages in environment at C:\\ProgramData\\Anaconda3:\n",
      "#\n",
      "# Name                    Version                   Build  Channel\n",
      "numpy                     1.19.2           py38hadc3359_0  \n",
      "numpy-base                1.19.2           py38ha3acd2a_0  \n",
      "numpydoc                  1.1.0              pyhd3eb1b0_1  \n"
     ]
    }
   ],
   "source": [
    "!conda list numpy"
   ]
  },
  {
   "cell_type": "markdown",
   "metadata": {},
   "source": [
    "## NumPy Documentation\n",
    "NumPy is a remarkable math library and it has many functions and features. In these introductory lessons we will only scratch the surface of what NumPy can do. If you want to explore this package and know more about NumPy, make sure you check out the NumPy Documentation:\n",
    "\n",
    "* [NumPy Manual](https://numpy.org/doc/stable/contents.html)\n",
    "* [NumPy User Guide](https://numpy.org/doc/stable/user/index.html)\n",
    "* [NumPy Reference](https://docs.scipy.org/doc/numpy-1.13.0/reference/index.html#reference)"
   ]
  },
  {
   "cell_type": "markdown",
   "metadata": {},
   "source": [
    "## Why Numpy?!"
   ]
  },
  {
   "cell_type": "markdown",
   "metadata": {},
   "source": [
    "You may be wondering why we use NumPy. After all, Python can handle lists, as you learned in the class.\n",
    "\n",
    "1. **Speed**\n",
    "\n",
    "   When executing operations on large arrays, NumPy can often perform several **orders of magnitude faster** than Python lists. This speed comes from the nature of NumPy arrays being memory-efficient and from optimized algorithms used by NumPy for doing arithmetic, statistical, and linear algebra operations.\n",
    "\n",
    "2. **Array structures**\n",
    "\n",
    "   Another great feature of NumPy is that it has **multidimensional array data structures** that can represent vectors and matrices. Nowadays, a lot of machine learning algorithms rely on matrix operations. For example, when training a Neural Network, you often have to carry out many matrix multiplications. NumPy is optimized for matrix operations and it allows us to do Linear Algebra operations effectively and efficiently, making it very suitable for solving machine learning problems.\n",
    "\n",
    "3. **Optimized built-in mathematical functions**\n",
    "\n",
    "   Another great advantage of NumPy is that it has a large number of optimized built-in mathematical functions. These functions enable us to do a variety of complex mathematical computations very fast and with very little code (avoiding the use of complicated loops) making your programs more readable and easier to understand.\n",
    "\n",
    "These are just part of the key features that have made NumPy an essential package for scientific computing in Python. In fact, NumPy has become so popular that a lot of Python packages, such as Pandas, are built on top of NumPy."
   ]
  },
  {
   "cell_type": "code",
   "execution_count": 3,
   "metadata": {},
   "outputs": [
    {
     "name": "stdout",
     "output_type": "stream",
     "text": [
      "15.867738962173462\n"
     ]
    }
   ],
   "source": [
    "# Example: Experience the computation speed with Numpy\n",
    "\n",
    "import numpy as np  # import the Numpy package into Python\n",
    "import time         # import the time package to calculate the command execution time\n",
    "\n",
    "numbers = np.random.random(100000000)   # randomly generate a large list of float numbers\n",
    "\n",
    "# Test the speed of the code to calculate the mean value\n",
    "starttime = time.time()            # record the start time\n",
    "mean = sum(numbers) / len(numbers) # execute the mean of the numbers\n",
    "endtime = time.time()              # record the end time\n",
    "print(endtime - starttime)"
   ]
  },
  {
   "cell_type": "code",
   "execution_count": 4,
   "metadata": {},
   "outputs": [
    {
     "name": "stdout",
     "output_type": "stream",
     "text": [
      "0.14168286323547363\n"
     ]
    }
   ],
   "source": [
    "# Test the speed of the build-in mean function of Numpy\n",
    "starttime = time.time()\n",
    "np_mean = np.mean(numbers)\n",
    "endtime = time.time()\n",
    "print(endtime - starttime)"
   ]
  },
  {
   "cell_type": "markdown",
   "metadata": {},
   "source": [
    "## Explore the NumPy ndarrays"
   ]
  },
  {
   "cell_type": "markdown",
   "metadata": {},
   "source": [
    "At the core of NumPy is the **ndarray**, where **nd** stands for _n-dimensional_. An ndarray is a multidimensional array of elements all of the same type. In other words, an ndarray is a grid that can take on many shapes and can hold either numbers or strings. In many Machine Learning problems you will often find yourself using ndarrays in many different ways. For instance, you might use an ndarray to hold the pixel values of an image that will be fed into a Neural Network for image classification.\n",
    "\n",
    "But before we can dive in and start using NumPy to create ndarrays we need to import it into Python. We can import packages into Python using the **import** command and it has become a convention to import NumPy as **np**. Therefore, you can import NumPy by typing the following command in your Jupyter notebook:\n",
    "\n",
    "<p style=\"color:#fff;background-color:#2f3d48;border-radius: 4px;border: 1px solid #737b83;padding: 2px 4px;\"><code style=\"color:#fff;background-color:#2f3d48\">import numpy as np</code></p>"
   ]
  },
  {
   "cell_type": "code",
   "execution_count": 5,
   "metadata": {},
   "outputs": [],
   "source": [
    "import numpy as np"
   ]
  },
  {
   "cell_type": "markdown",
   "metadata": {},
   "source": [
    "There are several ways to create ndarrays in NumPy. In the following lessons we will see two ways to create ndarrays:\n",
    "\n",
    "1. Using regular Python lists\n",
    "\n",
    "2. Using built-in NumPy functions\n",
    "\n",
    "In the following, we will create ndarrays by providing Python lists to the NumPy **np.array()** function. The **np.array()** is a function that returns an **ndarray**. We should note that for the purposes of clarity, the examples throughout this section will use small and simple ndarrays. Let's start by creating 1-Dimensional (1D) ndarrays.\n",
    "\n",
    "<!-- <p style=\"color:#fff;background-color:#2f3d48;border-radius: 4px;border: 1px solid #737b83;padding: 2px 4px;\"><code style=\"color:#fff;background-color:#2f3d48\"># import the Numpy package into Python\n",
    "import numpy as np\n",
    "<\\br>\n",
    "# We create a 1D ndarray that contains only integers\n",
    "x = np.array([1, 2, 3, 4, 5])\n",
    "<\\br>\n",
    "# Let's print the ndarray we just created using the print() command\n",
    "print('x = ', x)\n",
    "</code></p> -->"
   ]
  },
  {
   "cell_type": "code",
   "execution_count": 6,
   "metadata": {},
   "outputs": [
    {
     "name": "stdout",
     "output_type": "stream",
     "text": [
      "x =  [1 2 3 4 5]\n"
     ]
    }
   ],
   "source": [
    "import numpy as np  # import the Numpy package into Python\n",
    "\n",
    "# We create a 1D ndarray that contains only integers\n",
    "x = np.array([1, 2, 3, 4, 5])\n",
    "\n",
    "# Let's print the ndarray we just created using the print() command\n",
    "print('x = ', x)"
   ]
  },
  {
   "cell_type": "markdown",
   "metadata": {},
   "source": [
    "Okay, now we introduce some useful terminology before we continue to learn. We refer to 1D arrays as rank 1 arrays. In general N-Dimensional arrays have rank N. Therefore, we refer to a 2D array as a rank 2 array. Another important property of arrays is their shape. The shape of an array is the size along each of its dimensions. For example, the shape of a rank 2 array will correspond to the number of rows and columns of the array. As you will see, NumPy ndarrays have attributes that allows us to get information about them in a very intuitive way. For example, the shape of an ndarray can be obtained using the .shape attribute. The shape attribute returns a tuple of N positive integers that specify the sizes of each dimension. In the example below we will create a rank 1 array and learn how to obtain its shape, its type, and the data-type (dtype) of its elements."
   ]
  }
 ],
 "metadata": {
  "kernelspec": {
   "display_name": "Python 3",
   "language": "python",
   "name": "python3"
  },
  "language_info": {
   "codemirror_mode": {
    "name": "ipython",
    "version": 3
   },
   "file_extension": ".py",
   "mimetype": "text/x-python",
   "name": "python",
   "nbconvert_exporter": "python",
   "pygments_lexer": "ipython3",
   "version": "3.8.5"
  }
 },
 "nbformat": 4,
 "nbformat_minor": 4
}
