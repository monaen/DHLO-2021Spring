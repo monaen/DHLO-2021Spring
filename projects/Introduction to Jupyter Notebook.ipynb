{
 "cells": [
  {
   "cell_type": "markdown",
   "metadata": {},
   "source": [
    "# Jupyter Notebook"
   ]
  },
  {
   "cell_type": "markdown",
   "metadata": {},
   "source": [
    "## 1. Introduction\n",
    "In this script we will introduce the [Jupyter notebooks](http://jupyter.org). The notebook is a **web application** that allows you to combine plain text, math equations, code, and figures all in one easily sharable document. Notebooks have rapidly become an essential tool when working with big data. You'll find them being used for **data cleaning and exploration**, **visualization**, **machine learning**, and **big data analysis**. Here's an example notebook I made for my personal blog that shows off many of the features of notebooks. Typically you'd be doing this work in a terminal, either the normal Python shell or with IPython. Your visualizations would be in separate windows, any documentation would be in separate documents, along with various scripts for functions and classes. However, with notebooks, all of these are in one place and easily read together.\n",
    "\n",
    "Notebooks are also rendered automatically on GitHub. It’s a great feature that lets you easily share your work. There is also http://nbviewer.jupyter.org/ that renders the notebooks from your GitHub repo or from notebooks stored elsewhere."
   ]
  },
  {
   "cell_type": "markdown",
   "metadata": {},
   "source": [
    "## 2. Literate programming\n",
    "\n",
    "Notebooks are a form of [literate programming](http://www.literateprogramming.com/) proposed by Donald Knuth in 1984. With literate programming, the documentation is written as a narrative alongside the code instead of sitting off by its own. In Donald Knuth's words,\n",
    "\n",
    "*Instead of imagining that our main task is to instruct a computer what to do, let us concentrate rather on explaining to human beings what we want a computer to do.*\n",
    "\n",
    "After all, code is written for humans, not for computers. Notebooks provide exactly this capability. You are able to write documentation as narrative text, along with code. This is not only useful for the people reading your notebooks, but for your future self coming back to the analysis.\n",
    "\n",
    "Just a small aside: recently, this idea of literate programming has been extended to a whole programming language, [Eve](http://www.witheve.com/)."
   ]
  },
  {
   "cell_type": "markdown",
   "metadata": {},
   "source": [
    "## 3. How notebooks work\n",
    "\n",
    "Jupyter notebooks grew out of the [IPython project](https://ipython.org) started by Fernando Perez. IPython is an interactive shell, similar to the normal Python shell but with great features like syntax highlighting and code completion. Originally, notebooks worked by sending messages from the web app (the notebook you see in the browser) to an IPython kernel (an IPython application running in the background). The kernel executed the code, then sent it back to the notebook. The current architecture is similar, drawn out below.\n"
   ]
  },
  {
   "cell_type": "markdown",
   "metadata": {},
   "source": [
    "![notebook components](../materials/images/projects/notebook-components.png)"
   ]
  },
  {
   "cell_type": "markdown",
   "metadata": {},
   "source": [
    "From [Jupyter documentation](https://jupyter.org/documentation)"
   ]
  },
  {
   "cell_type": "markdown",
   "metadata": {},
   "source": [
    "The central point is the notebook server. You connect to the server through your browser and the notebook is rendered as a web app. Code you write in the web app is sent through the server to the kernel. The kernel runs the code and sends it back to the server, then any output is rendered back in the browser. When you save the notebook, it is written to the server as a JSON file with a <code style=\"color:#fff;background-color:#2f3d48;border-radius: 4px;border: 1px solid #737b83;padding: 2px 4px\">.ipynb</code> file extension.\n",
    "\n",
    "The great part of this architecture is that the kernel doesn't need to run Python. Since the notebook and the kernel are separate, code in any language can be sent between them. For example, two of the earlier non-Python kernels were for the [R](https://www.r-project.org) and [Julia](http://julialang.org) languages. With an R kernel, code written in R will be sent to the R kernel where it is executed, exactly the same as Python code running on a Python kernel. IPython notebooks were renamed because notebooks became language agnostic. The new name **Jupyter** comes from the combination of **Ju**lia, **Pyt**hon, and **R**. If you're interested, here's a [list of available kernels](https://github.com/jupyter/jupyter/wiki/Jupyter-kernels).\n",
    "\n",
    "Another benefit is that the server can be run anywhere and accessed via the internet. Typically you'll be running the server on your own machine where all your data and notebook files are stored. But, you could also [set up a server](http://jupyter-notebook.readthedocs.io/en/latest/public_server.html) on a remote machine or cloud instance like Amazon's EC2. Then, you can access the notebooks in your browser from anywhere in the world."
   ]
  },
  {
   "cell_type": "markdown",
   "metadata": {},
   "source": [
    "## 4. Installing Jupyter Notebook\n",
    "By far the easiest way to install Jupyter is with Anaconda. Jupyter notebooks automatically come with the distribution. You'll be able to use notebooks from the default environment.\n",
    "\n",
    "To install Jupyter notebooks in a conda environment, use <code style=\"color:#fff;background-color:#2f3d48;border-radius: 4px;border: 1px solid #737b83;padding: 2px 4px\">conda install jupyter notebook</code>.\n",
    "\n",
    "Jupyter notebooks are also available through pip with <code style=\"color:#fff;background-color:#2f3d48;border-radius: 4px;border: 1px solid #737b83;padding: 2px 4px\">pip install jupyter notebook</code>.\n"
   ]
  },
  {
   "cell_type": "markdown",
   "metadata": {},
   "source": [
    "## 5. Launching the notebook server\n",
    "To start a notebook server, enter <code style=\"color:#fff;background-color:#2f3d48;border-radius: 4px;border: 1px solid #737b83;padding: 2px 4px\">jupyter notebook</code> in your **terminal** (Mac OS and Linux) or **Anaconda Prompt** (Windows). This will start the server in the directory you ran the command in. That means any notebook files will be saved in that directory. Typically you'd want to start the server in the directory where your notebooks live. However, you can navigate through your file system to where the notebooks are.\n",
    "\n",
    "When you run the command (try it yourself!), the server home should open in your browser. By default, the notebook server runs at **http://localhost:8888**. If you aren't familiar with this, **localhost** means your computer and **8888** is the port the server is communicating on. As long as the server is still running, you can always come back to it by going to **http://localhost:8888** in your browser.\n",
    "\n",
    "If you start another server, it'll try to use port **8888**, but since it is occupied, the new server will run on port **8889**. Then, you'd connect to it at **http://localhost:8889**. Every additional notebook server will increment the port number like this.\n",
    "\n",
    "If you tried starting your own server, it should look something like this:"
   ]
  },
  {
   "cell_type": "markdown",
   "metadata": {},
   "source": [
    "![notebook components](../materials/images/projects/notebook-server.png)"
   ]
  },
  {
   "cell_type": "markdown",
   "metadata": {},
   "source": [
    "You might see some files and folders in the list here, it depends on where you started the server from.\n",
    "\n",
    "Over on the right, you can click on \"New\" to create a new notebook, text file, folder, or terminal. The list under \"Notebooks\" shows the kernels you have installed. Here I'm running the server in a Python 3 environment, so I have a Python 3 kernel available. You might see Python 2 here. I've also installed kernels for Scala 2.10 and 2.11 which you see in the list.\n",
    "\n"
   ]
  },
  {
   "cell_type": "markdown",
   "metadata": {},
   "source": [
    "---\n",
    "\n",
    "The tabs at the top show **Files**, **Running**, and **Cluster**. **Files** shows all the files and folders in the current directory. Clicking on the **Running** tab will list all the currently running notebooks. From there you can manage them.\n",
    "\n",
    "**Clusters** previously was where you'd create multiple kernels for use in parallel computing. Now that's been taken over by [ipyparallel](https://ipyparallel.readthedocs.io/en/latest/intro.html) so there isn't much to do there.\n",
    "\n",
    "You should consider installing Notebook Conda to help manage your environments. Run the following command:\n",
    "\n",
    "<code style=\"color:#fff;background-color:#2f3d48;border-radius: 4px;border: 1px solid #737b83;padding: 2px 4px\">conda install nb_conda</code>.\n",
    "\n",
    "\n",
    "Then if you run the notebook server from a conda environment, you'll also have access to the **Conda** tab shown below. Here you can manage your environments from within Jupyter. You can create new environments, install packages, update packages, export environments and more."
   ]
  },
  {
   "cell_type": "markdown",
   "metadata": {},
   "source": [
    "![notebook](../materials/images/projects/conda-tab.png)"
   ]
  },
  {
   "cell_type": "markdown",
   "metadata": {},
   "source": [
    "## 6. Shutting down Jupyter\n",
    "You can shutdown individual notebooks by marking the checkbox next to the notebook on the server home and clicking \"Shutdown.\" Make sure you've saved your work before you do this though! Any changes since the last time you saved will be lost. You'll also need to rerun the code the next time you run the notebook."
   ]
  },
  {
   "cell_type": "markdown",
   "metadata": {},
   "source": [
    "![notebook](../materials/images/projects/notebook-shutdown.png)"
   ]
  },
  {
   "cell_type": "markdown",
   "metadata": {},
   "source": [
    "You can shutdown the entire server by pressing **control + C** twice in the terminal. Again, this will immediately shutdown all the running notebooks, so make sure your work is saved!"
   ]
  },
  {
   "cell_type": "markdown",
   "metadata": {},
   "source": [
    "![notebook](../materials/images/projects/server-shutdown.png)"
   ]
  },
  {
   "cell_type": "markdown",
   "metadata": {},
   "source": [
    "## 7. Notebook interface\n",
    "\n",
    "When creating a new notebook, you will see something like this:"
   ]
  },
  {
   "cell_type": "markdown",
   "metadata": {},
   "source": [
    "![notebook](../materials/images/projects/new-notebook.png)"
   ]
  },
  {
   "cell_type": "markdown",
   "metadata": {},
   "source": [
    "Feel free to try this yourself and poke around a bit.\n",
    "\n",
    "### 7.1 Cell\n",
    "You’ll see a little box outlined in green. This is called a **Cell**. Cells are where you write and run your code. You can also change it to render Markdown, a popular formatting syntax for writing web content. We'll cover Markdown in more detail later. In the toolbar, click \"Code\" to change it to Markdown and back. The little play button runs the cell, and the up and down arrows move cells up and down."
   ]
  },
  {
   "cell_type": "code",
   "execution_count": 5,
   "metadata": {},
   "outputs": [
    {
     "data": {
      "text/html": [
       "<div align=\"middle\">\n",
       "<video width=\"80%\" controls><source src=\"../materials/video/notebook+interface.mp4\" type=\"video/mp4\"></video></div>\n"
      ],
      "text/plain": [
       "<IPython.core.display.HTML object>"
      ]
     },
     "metadata": {},
     "output_type": "display_data"
    }
   ],
   "source": [
    "%%HTML\n",
    "<div align=\"middle\">\n",
    "<video width=\"80%\" controls><source src=\"../materials/video/notebook+interface.mp4\" type=\"video/mp4\"></video></div>"
   ]
  },
  {
   "cell_type": "markdown",
   "metadata": {},
   "source": [
    "When you run a code cell, the output is displayed below the cell. The cell also gets numbered, you see <code style=\"color:#fff;background-color:#2f3d48;border-radius: 4px;border: 1px solid #737b83;padding: 2px 4px\">In [1]:</code> on the left. This lets you know the code was run and the order if you run multiple cells. Running the cell in Markdown mode renders the Markdown as text.\n",
    "\n",
    "The tool bar\n",
    "Elsewhere on the tool bar, starting from the left:\n",
    "\n",
    "* The anachronistic symbol for \"save,\" the floppy disk. Saves the notebook!\n",
    "* The <code style=\"color:#fff;background-color:#2f3d48;border-radius: 4px;border: 1px solid #737b83;padding: 2px 4px\">+</code> button creates a new cell\n",
    "* Then, buttons to cut, copy, and paste cells.\n",
    "* Run, stop, restart the kernel\n",
    "* Cell type: code, Markdown, raw text, and header\n",
    "* Command palette (see next)\n",
    "* Cell toolbar, gives various options for cells such as using them as slides\n",
    "\n",
    "\n",
    "### 7.2 Command palette\n",
    "\n",
    "The little keyboard is the command palette. This will bring up a panel with a search bar where you can search for various commands. This is really helpful for speeding up your workflow as you don't need to search around in the menus with your mouse. Just open the command palette and type in what you want to do. For instance, if you want to merge two cells:"
   ]
  },
  {
   "cell_type": "code",
   "execution_count": 6,
   "metadata": {},
   "outputs": [
    {
     "data": {
      "text/html": [
       "<div align=\"middle\">\n",
       "<video width=\"80%\" controls><source src=\"../materials/video/command+palette.mp4\" type=\"video/mp4\"></video></div>\n"
      ],
      "text/plain": [
       "<IPython.core.display.HTML object>"
      ]
     },
     "metadata": {},
     "output_type": "display_data"
    }
   ],
   "source": [
    "%%HTML\n",
    "<div align=\"middle\">\n",
    "<video width=\"80%\" controls><source src=\"../materials/video/command+palette.mp4\" type=\"video/mp4\"></video></div>"
   ]
  },
  {
   "cell_type": "markdown",
   "metadata": {},
   "source": [
    "### 7.3 Code cells\n",
    "\n",
    "Most of your work in notebooks will be done in **code cells**. This is where you write your code and it gets executed. In code cells you can write any code, assigning variables, defining functions and classes, importing packages, and more. Any code executed in one cell is available in all other cells."
   ]
  },
  {
   "cell_type": "markdown",
   "metadata": {},
   "source": [
    "### 7.4 Markdown cells\n",
    "\n",
    "As mentioned before, cells can also be used for text written in **Markdown**. Markdown is a formatting syntax that allows you to include links, style text as bold or italicized, and format code. As with code cells, you press **Shift + Enter** or **Control + Enter** to run the Markdown cell, where it will render the Markdown to formatted text. Including text allows you to write a narrative alongside your code, as well as documenting your code and the thoughts that went into it.\n",
    "\n",
    "You can find the markdown documentation from [here](https://daringfireball.net/projects/markdown/basics)."
   ]
  },
  {
   "cell_type": "markdown",
   "metadata": {},
   "source": [
    "## * 8. Magic keywords\n",
    "\n",
    "Magic keywords are special commands you can run in cells that let you control the notebook itself or perform system calls such as changing directories. For example, you can set up matplotlib to work interactively in the notebook with <code style=\"color:#fff;background-color:#2f3d48;border-radius: 4px;border: 1px solid #737b83;padding: 2px 4px\">%matplotlib</code>.\n",
    "\n",
    "\n",
    "Magic commands are preceded with one or two percent signs (<code style=\"color:#fff;background-color:#2f3d48;border-radius: 4px;border: 1px solid #737b83;padding: 2px 4px\">%</code> or <code style=\"color:#fff;background-color:#2f3d48;border-radius: 4px;border: 1px solid #737b83;padding: 2px 4px\">%%</code>) for line magics and cell magics, respectively. Line magics apply only to the line the magic command is written on, while cell magics apply to the whole cell.\n",
    "\n",
    "NOTE: These magic keywords are specific to the normal Python kernel. If you are using other kernels, these most likely won't work.\n",
    "\n",
    "### 8.1 Timing code\n",
    "At some point, you'll probably spend some effort optimizing code to run faster. Timing how quickly your code runs is essential for this optimization. You can use the <code style=\"color:#fff;background-color:#2f3d48;border-radius: 4px;border: 1px solid #737b83;padding: 2px 4px\">%timeit</code> magic command to time how long it takes for a function to run, like so:"
   ]
  },
  {
   "cell_type": "code",
   "execution_count": 11,
   "metadata": {},
   "outputs": [
    {
     "name": "stdout",
     "output_type": "stream",
     "text": [
      "7.36 ns ± 0.0516 ns per loop (mean ± std. dev. of 7 runs, 100000000 loops each)\n"
     ]
    }
   ],
   "source": [
    "%timeit (1260842012 * 3451131455)"
   ]
  },
  {
   "cell_type": "markdown",
   "metadata": {},
   "source": [
    "If you want to time how long it takes for a whole cell to run, you’d use <code style=\"color:#fff;background-color:#2f3d48;border-radius: 4px;border: 1px solid #737b83;padding: 2px 4px\">%%timeit</code> like so:"
   ]
  },
  {
   "cell_type": "code",
   "execution_count": 15,
   "metadata": {},
   "outputs": [
    {
     "name": "stdout",
     "output_type": "stream",
     "text": [
      "7.41 ns ± 0.0185 ns per loop (mean ± std. dev. of 7 runs, 100000000 loops each)\n"
     ]
    }
   ],
   "source": [
    "%%timeit\n",
    "(12608420512 * 345113145775)\n",
    "(12643542012 * 456769556034)\n",
    "(12345601278 * 345367876755)"
   ]
  },
  {
   "cell_type": "markdown",
   "metadata": {},
   "source": [
    "## 9. Converting notebooks"
   ]
  },
  {
   "cell_type": "markdown",
   "metadata": {},
   "source": [
    "![](../materials/images/projects/notebook-convert.png)"
   ]
  }
 ],
 "metadata": {
  "kernelspec": {
   "display_name": "Python 3",
   "language": "python",
   "name": "python3"
  },
  "language_info": {
   "codemirror_mode": {
    "name": "ipython",
    "version": 3
   },
   "file_extension": ".py",
   "mimetype": "text/x-python",
   "name": "python",
   "nbconvert_exporter": "python",
   "pygments_lexer": "ipython3",
   "version": "3.8.5"
  }
 },
 "nbformat": 4,
 "nbformat_minor": 4
}
